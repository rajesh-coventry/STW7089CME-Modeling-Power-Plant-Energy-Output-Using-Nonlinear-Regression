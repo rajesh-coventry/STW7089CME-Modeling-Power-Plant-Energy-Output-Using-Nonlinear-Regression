{
 "cells": [
  {
   "cell_type": "markdown",
   "metadata": {},
   "source": [
    "# **Linear Regression From Fundamentals (Gradient-based Approach):**"
   ]
  },
  {
   "cell_type": "markdown",
   "metadata": {},
   "source": [
    "**`Gradient Descent`** — a foundational algorithm in machine learning used to **`minimize the loss function`** and find the **`best-fit line`**. \n",
    "\n",
    "##### **What is Gradient Descent?**\n",
    "\n",
    "Imagine we're standing on a mountain and want to get to the lowest point (`the valley`). Each step we take should be in the direction that most reduces our height — that's the **`gradient descent`** idea!\n",
    "\n",
    "- We’re minimizing a **`loss function` (height)**.\n",
    "- We move in the **`direction opposite to the gradient (steepest slope)`**.\n",
    "\n",
    "**The General Gradient Descent Algorithm:**\n",
    "\n",
    "> ```Markdown \n",
    "> Repeat until convergence:\n",
    ">     θ := θ - α * ∇θJ(θ)\n",
    "```"
   ]
  },
  {
   "cell_type": "markdown",
   "metadata": {},
   "source": [
    "- \\( $θ$ \\): Parameter vector (e.g., $[θ₀, θ₁]ᵗ$)\n",
    "\n",
    "- \\( $α$ \\): Learning rate (step size)\n",
    "\n",
    "- \\( $∇θJ(θ)$ \\): Gradient (vector of partial derivatives of the cost with respect to $θ$)\n",
    "\n",
    "##### **Why Use Gradient Descent?**\n",
    "\n",
    "- For simple linear regression, **`normal equation`** works fine.\n",
    "\n",
    "- But for large datasets or **`multiple variables`**, computing \\($ (X^TX)^{-1} $\\) can be **`expensive`** or **`impossible`**.\n",
    "\n",
    "- Gradient descent avoids inversion and **`scales better`**."
   ]
  },
  {
   "cell_type": "markdown",
   "metadata": {},
   "source": [
    "---"
   ]
  },
  {
   "cell_type": "markdown",
   "metadata": {},
   "source": [
    "**Loss Function (Cost Function)** we have is:\n",
    "\n",
    "> \\[$J(θ) = \\frac{1}{2n}(Xθ - y)^T(Xθ - y)$\\]\n",
    "\n",
    "Where:\n",
    "\n",
    "- \\( $X$ \\): Matrix of features (size \\($ n \\times 2 $\\) if we have 1 feature + bias)\n",
    "- \\( $θ$ \\): Parameter vector (size \\( $2 \\times 1 $\\))\n",
    "- \\( $y$ \\): Output vector (size \\($ n \\times 1 $\\))\n",
    "- \\( $n$ \\): Number of data points\n",
    "- \\($ (Xθ - y) $\\): This is the **error vector** or **residual**\n",
    "\n",
    "We want to find the **gradient** of \\( $J(θ) $\\) with respect to \\( $θ $\\), denoted:\n",
    "\n",
    "> \\[$∇_θ J(θ) = \\frac{1}{n} X^T(Xθ - y)$\\]\n",
    "\n",
    "Where; \n",
    "\n",
    "- \\($ (Xθ - y) $\\): error vector\n",
    "- \\($ X^T(Xθ - y) $\\): how the error changes w.r.t each θ (direction of steepest ascent)\n",
    "- \\($ \\frac{1}{n} $\\): averaging over all samples\n",
    "\n",
    "We’ll derive this equation using vector calculus (also called **matrix calculus**)."
   ]
  },
  {
   "cell_type": "markdown",
   "metadata": {},
   "source": [
    "For this;   \n",
    "We will differentiate:\n",
    "\n",
    "> \\[$J(θ) = \\frac{1}{2n}(Xθ - y)^T(Xθ - y)$\\]\n",
    "\n",
    "Let’s simplify notation:\n",
    "- Let \\( $e = Xθ - y$ \\), so \\($ J(θ) = \\frac{1}{2n} e^T e $\\)"
   ]
  },
  {
   "cell_type": "markdown",
   "metadata": {},
   "source": [
    "##### **1. Expand the expression:**\n",
    "Since, \n",
    "\n",
    "> \\[$e^T e = (Xθ - y)^T (Xθ - y)$\\]\n",
    "\n",
    "Use distributive property of transposes and dot products:\n",
    "\n",
    "> \\[$= θ^T X^T X θ - 2 y^T X θ + y^T y$\\]\n",
    "\n",
    "So now:\n",
    "\n",
    "> \\[$J(θ) = \\frac{1}{2n} \\left( θ^T X^T X θ - 2 y^T X θ + y^T y \\right)$\\]"
   ]
  },
  {
   "cell_type": "markdown",
   "metadata": {},
   "source": [
    "##### **2. Differentiate Term-by-Term:**\n",
    "\n",
    "We differentiate with respect to the **`vector`** \\( $θ$ \\).\n",
    "\n",
    "**Matrix Calculus Rules:**\n",
    "\n",
    "1. **Quadratic form**:\n",
    "\\[$\\frac{∂}{∂θ} (θ^T A θ) = 2Aθ \\quad \\text{(if A is symmetric)}$\\]\n",
    "\n",
    "2. **Linear form**:\n",
    "\\[$\\frac{∂}{∂θ} (b^T θ) = b$\\]"
   ]
  },
  {
   "cell_type": "markdown",
   "metadata": {},
   "source": [
    "**Apply Rules One by One:**\n",
    "\n",
    "Let’s go back to:\n",
    "\n",
    "> \\[$J(θ) = \\frac{1}{2n} \\left( θ^T X^T X θ - 2 y^T X θ + y^T y \\right)$\\]\n",
    "\n",
    "##### **Term 1: \\( $θ^T X^T X θ$ \\):**\n",
    "\n",
    "This is a **quadratic form**, and since \\( $X^T X $\\) is symmetric:\n",
    "\n",
    "> \\[$\\frac{∂}{∂θ} (θ^T X^T X θ) = 2 X^T X θ$\\]\n",
    "\n",
    "##### **Term 2: \\( $-2 y^T X θ$ \\):**\n",
    "\n",
    "This is a **linear form**:\n",
    "\n",
    "> \\[$\\frac{∂}{∂θ} (-2 y^T X θ) = -2 X^T y$\\]\n",
    "\n",
    "(Note: \\($ y^T X θ = (X^T y)^T θ $\\), so derivative is just \\($ X^T y $\\))"
   ]
  },
  {
   "cell_type": "markdown",
   "metadata": {},
   "source": [
    "##### **Term 3: \\($ y^T y $\\):**\n",
    "\n",
    "That’s just a **constant** (no $θ$ in it), so:\n",
    "\n",
    "> \\[$\\frac{∂}{∂θ}(y^T y) = 0$\\]"
   ]
  },
  {
   "cell_type": "markdown",
   "metadata": {},
   "source": [
    "##### **Step 3: Put it All Together:**\n",
    "\n",
    "Now sum the results:\n",
    "\n",
    "> \\[$\\frac{∂J(θ)}{∂θ} = \\frac{1}{2n} \\left( 2 X^T X θ - 2 X^T y \\right)$\\]\n",
    "\n",
    "Factor out the 2:\n",
    "\n",
    "> \\[$= \\frac{1}{2n} \\cdot 2 (X^T X θ - X^T y)$\\]\n",
    "\n",
    "Cancel the 2:\n",
    "\n",
    "> \\[$∇_θ J(θ) = \\frac{1}{n} (X^T X θ - X^T y)$\\]\n",
    "\n",
    "Now factor:\n",
    "\n",
    "> \\[$∇_θ J(θ) = \\frac{1}{n} X^T (Xθ - y)$\\]\n",
    "\n",
    "**Final Result**:\n",
    "\n",
    "> \\[$∇_θ J(θ) = \\frac{1}{n} X^T (Xθ - y)$\\]\n",
    "\n",
    "This is the gradient of the loss function — it tells us the direction in which \\( $θ$ \\) should change to **`minimize the loss`**.\n",
    "\n",
    "### **Why This Works?**\n",
    "\n",
    "- The error is \\( $Xθ - y$ \\).\n",
    "\n",
    "- The transpose and multiplication with \\( $X^T$ \\) help **distribute this error back to each parameter** based on how much each feature contributes.\n",
    "\n",
    "- Dividing by \\($ n $\\) keeps it scaled for all data points.\n",
    "\n",
    "- We subtract this from $θ$ in gradient descent to go toward the **lowest loss**."
   ]
  },
  {
   "cell_type": "markdown",
   "metadata": {},
   "source": [
    "\n",
    "So, **`gradient descent update rule`** becomes:\n",
    "\n",
    "> \\[$θ := θ - α \\cdot \\frac{1}{n} X^T(Xθ - y)$\\]\n",
    "\n",
    "### **Gradient Descent Steps for Linear Regression:**\n",
    "\n",
    "1. **Initialize** $θ$ (e.g., `θ = [0, 0]`)\n",
    "\n",
    "2. **`Repeat`** until convergence:\n",
    "   - Compute the gradient: \\($ \\nabla_θ J(θ) = \\frac{1}{n} X^T(Xθ - y) $\\)\n",
    "   - Update parameters: \\( $θ := θ - α \\cdot \\nabla_θ J(θ) $\\)"
   ]
  },
  {
   "cell_type": "markdown",
   "metadata": {},
   "source": [
    "| Term | Meaning: |\n",
    "|------|---------|\n",
    "| **`Gradient`** | Vector showing direction of steepest increase |\n",
    "| **`- Gradient`** | Direction to decrease the loss (what we want) |\n",
    "| **`Learning Rate` $(α)$** | How big the steps are |\n",
    "| **`Loss Function` ($J(θ)$)** | Tells us how wrong our predictions are |\n",
    "| **`Convergence`** | When updates become very small (or max iterations reached) |"
   ]
  },
  {
   "cell_type": "markdown",
   "metadata": {},
   "source": [
    "----\n",
    "---"
   ]
  },
  {
   "cell_type": "markdown",
   "metadata": {},
   "source": [
    "### **Gradient Descent Example in Simple Linear Regression:**"
   ]
  },
  {
   "cell_type": "markdown",
   "metadata": {},
   "source": [
    "### **`Step 1`: Dataset Creation:**\n",
    "We will generate a simple linear dataset using the following equation:\n",
    "\n",
    "> \\[$y = 3x + 4 + \\text{noise}$\\]\n",
    "\n",
    "Suppose this simulates real-world noisy data."
   ]
  },
  {
   "cell_type": "code",
   "execution_count": 52,
   "metadata": {},
   "outputs": [],
   "source": [
    "import numpy as np\n",
    "import matplotlib.pyplot as plt\n",
    "\n",
    "# Create a small dataset\n",
    "np.random.seed(42) # for reproducibility\n",
    "n = 20 # number of samples\n",
    "X_raw = np.linspace(0, 10, n) # 20 values between 0 and 10\n",
    "\n",
    "# Generate corresponding y values with some noise:\n",
    "y = 3 * X_raw + 4 + np.random.randn(n) * 2  # y = 3x + 4 + noise"
   ]
  },
  {
   "cell_type": "code",
   "execution_count": 53,
   "metadata": {},
   "outputs": [
    {
     "data": {
      "text/plain": [
       "array([ 0.        ,  0.52631579,  1.05263158,  1.57894737,  2.10526316,\n",
       "        2.63157895,  3.15789474,  3.68421053,  4.21052632,  4.73684211,\n",
       "        5.26315789,  5.78947368,  6.31578947,  6.84210526,  7.36842105,\n",
       "        7.89473684,  8.42105263,  8.94736842,  9.47368421, 10.        ])"
      ]
     },
     "execution_count": 53,
     "metadata": {},
     "output_type": "execute_result"
    }
   ],
   "source": [
    "X_raw # See how the data looks like"
   ]
  },
  {
   "cell_type": "code",
   "execution_count": 54,
   "metadata": {},
   "outputs": [
    {
     "data": {
      "text/plain": [
       "array([ 4.99342831,  5.30241877,  8.45327181, 11.78290182,  9.84748272,\n",
       "       11.42646293, 16.63210984, 16.58750104, 15.69263018, 19.2956464 ,\n",
       "       18.8626383 , 20.43696155, 23.43129296, 20.6997553 , 22.65542749,\n",
       "       26.55963547, 27.23749565, 31.47059993, 30.60500448, 31.1753926 ])"
      ]
     },
     "execution_count": 54,
     "metadata": {},
     "output_type": "execute_result"
    }
   ],
   "source": [
    "y # See how the labels looks like"
   ]
  },
  {
   "cell_type": "markdown",
   "metadata": {},
   "source": [
    "### **`Step 2`: Matrix Preparation:**\n",
    "We converted the dataset into the form:   \n",
    "> \\[$X = \\begin{bmatrix} 1 & x_1 \\\\ 1 & x_2 \\\\ \\vdots & \\vdots \\\\ 1 & x_n \\end{bmatrix},\\quad y = \\begin{bmatrix} y_1 \\\\ y_2 \\\\ \\vdots \\\\ y_n \\end{bmatrix}$\\]\n",
    "\n",
    "This includes a **bias term** (1's column) so we can learn \\($\\theta_0$\\) and \\($\\theta_1$\\)."
   ]
  },
  {
   "cell_type": "code",
   "execution_count": 55,
   "metadata": {},
   "outputs": [],
   "source": [
    "# Prepare X matrix (add bias term)\n",
    "X = np.c_[np.ones(n), X_raw]  # shape (n, 2)\n",
    "y = y.reshape(-1, 1)  # shape (n, 1) "
   ]
  },
  {
   "cell_type": "code",
   "execution_count": 56,
   "metadata": {},
   "outputs": [
    {
     "data": {
      "text/plain": [
       "array([[ 1.        ,  0.        ],\n",
       "       [ 1.        ,  0.52631579],\n",
       "       [ 1.        ,  1.05263158],\n",
       "       [ 1.        ,  1.57894737],\n",
       "       [ 1.        ,  2.10526316],\n",
       "       [ 1.        ,  2.63157895],\n",
       "       [ 1.        ,  3.15789474],\n",
       "       [ 1.        ,  3.68421053],\n",
       "       [ 1.        ,  4.21052632],\n",
       "       [ 1.        ,  4.73684211],\n",
       "       [ 1.        ,  5.26315789],\n",
       "       [ 1.        ,  5.78947368],\n",
       "       [ 1.        ,  6.31578947],\n",
       "       [ 1.        ,  6.84210526],\n",
       "       [ 1.        ,  7.36842105],\n",
       "       [ 1.        ,  7.89473684],\n",
       "       [ 1.        ,  8.42105263],\n",
       "       [ 1.        ,  8.94736842],\n",
       "       [ 1.        ,  9.47368421],\n",
       "       [ 1.        , 10.        ]])"
      ]
     },
     "execution_count": 56,
     "metadata": {},
     "output_type": "execute_result"
    }
   ],
   "source": [
    "X "
   ]
  },
  {
   "cell_type": "code",
   "execution_count": 57,
   "metadata": {},
   "outputs": [
    {
     "data": {
      "text/plain": [
       "array([[ 4.99342831],\n",
       "       [ 5.30241877],\n",
       "       [ 8.45327181],\n",
       "       [11.78290182],\n",
       "       [ 9.84748272],\n",
       "       [11.42646293],\n",
       "       [16.63210984],\n",
       "       [16.58750104],\n",
       "       [15.69263018],\n",
       "       [19.2956464 ],\n",
       "       [18.8626383 ],\n",
       "       [20.43696155],\n",
       "       [23.43129296],\n",
       "       [20.6997553 ],\n",
       "       [22.65542749],\n",
       "       [26.55963547],\n",
       "       [27.23749565],\n",
       "       [31.47059993],\n",
       "       [30.60500448],\n",
       "       [31.1753926 ]])"
      ]
     },
     "execution_count": 57,
     "metadata": {},
     "output_type": "execute_result"
    }
   ],
   "source": [
    "y"
   ]
  },
  {
   "cell_type": "markdown",
   "metadata": {},
   "source": [
    "### **`Step 3`: Initialize Parameters:**\n",
    "> \\[$\\theta = \\begin{bmatrix} 0 \\\\ 0 \\end{bmatrix}$\\]    \n",
    "Initial guess for parameters."
   ]
  },
  {
   "cell_type": "code",
   "execution_count": 59,
   "metadata": {},
   "outputs": [
    {
     "data": {
      "text/plain": [
       "array([[0.],\n",
       "       [0.]])"
      ]
     },
     "execution_count": 59,
     "metadata": {},
     "output_type": "execute_result"
    }
   ],
   "source": [
    "# Step 3: Initialize theta (random or zeros)\n",
    "theta = np.zeros((2, 1))\n",
    "theta"
   ]
  },
  {
   "cell_type": "markdown",
   "metadata": {},
   "source": [
    "### **`Step 4`: Loss Function:**\n",
    "We have:  \n",
    "> \\[$J(\\theta) = \\frac{1}{2n} (X\\theta - y)^T (X\\theta - y)$\\]\n",
    "\n",
    "This computes the **Mean Squared Error (MSE)**, measuring how far predictions are from actual values."
   ]
  },
  {
   "cell_type": "code",
   "execution_count": 61,
   "metadata": {},
   "outputs": [],
   "source": [
    "# Define the gradient descent parameters:\n",
    "alpha = 0.01  # learning rate \n",
    "epochs = 1000 # number of iterations\n",
    "losses = [] # list to store the loss values during training"
   ]
  },
  {
   "cell_type": "code",
   "execution_count": 62,
   "metadata": {},
   "outputs": [],
   "source": [
    "# Define the loss function:\n",
    "def compute_loss(X, y, theta):\n",
    "    n = len(y)\n",
    "    predictions = X @ theta\n",
    "    error = predictions - y\n",
    "    return (1 / (2 * n)) * np.sum(error ** 2)"
   ]
  },
  {
   "cell_type": "markdown",
   "metadata": {},
   "source": [
    "### **`Step 5`: Gradient Formula:**\n",
    "> \\[$\\nabla_\\theta J(\\theta) = \\frac{1}{n} X^T(X\\theta - y)$\\]\n",
    "\n",
    "This is the derivative of the loss with respect to parameters \\( $\\theta $\\). It tells us **how to move to reduce the loss**."
   ]
  },
  {
   "cell_type": "code",
   "execution_count": 63,
   "metadata": {},
   "outputs": [],
   "source": [
    "# Gradieent Computation:\n",
    "def compute_gradient(X, y, theta):\n",
    "    n = len(y)\n",
    "    return (1 / n) * X.T @ (X @ theta - y)"
   ]
  },
  {
   "cell_type": "markdown",
   "metadata": {},
   "source": [
    "### **`Step 6`: Gradient Descent Update:**\n",
    "> \\[$\\theta := \\theta - \\alpha \\cdot \\nabla_\\theta J(\\theta)$\\]\n",
    "\n",
    "We will update \\($\\theta$\\) iteratively. Here:\n",
    "\n",
    "- \\( $\\alpha = 0.01 $\\) is the learning rate.\n",
    "\n",
    "- We run 1000 epochs (iterations)."
   ]
  },
  {
   "cell_type": "code",
   "execution_count": 64,
   "metadata": {},
   "outputs": [],
   "source": [
    "# Perform Gradient Descent:\n",
    "for epoch in range(epochs): # for each iteration\n",
    "    grad = compute_gradient(X, y, theta) # compute the gradient\n",
    "    theta -= alpha * grad # update theta\n",
    "    loss = compute_loss(X, y, theta) # compute the loss\n",
    "    losses.append(loss) # store the loss "
   ]
  },
  {
   "cell_type": "markdown",
   "metadata": {},
   "source": [
    "### **Resulting Parameters:**"
   ]
  },
  {
   "cell_type": "code",
   "execution_count": 66,
   "metadata": {},
   "outputs": [
    {
     "data": {
      "text/plain": [
       "array([[5.18817643],\n",
       "       [2.67481873]])"
      ]
     },
     "execution_count": 66,
     "metadata": {},
     "output_type": "execute_result"
    }
   ],
   "source": [
    "# Final theta values (best fit parameters) after training:\n",
    "theta_final = theta\n",
    "theta_final"
   ]
  },
  {
   "cell_type": "markdown",
   "metadata": {},
   "source": [
    "- **Intercept (\\($ \\theta_0 $\\))**: ~5.19  \n",
    "\n",
    "- **Slope (\\( $\\theta_1 $\\))**: ~2.67  \n",
    "\n",
    "These are close to the true line \\($ y = 3x + 4 $\\), which shows our gradient descent worked well!"
   ]
  },
  {
   "cell_type": "code",
   "execution_count": 69,
   "metadata": {},
   "outputs": [
    {
     "name": "stdout",
     "output_type": "stream",
     "text": [
      "[[ 5.18817643]\n",
      " [ 6.59597576]\n",
      " [ 8.0037751 ]\n",
      " [ 9.41157443]\n",
      " [10.81937376]\n",
      " [12.2271731 ]\n",
      " [13.63497243]\n",
      " [15.04277176]\n",
      " [16.45057109]\n",
      " [17.85837043]\n",
      " [19.26616976]\n",
      " [20.67396909]\n",
      " [22.08176843]\n",
      " [23.48956776]\n",
      " [24.89736709]\n",
      " [26.30516642]\n",
      " [27.71296576]\n",
      " [29.12076509]\n",
      " [30.52856442]\n",
      " [31.93636376]]\n"
     ]
    }
   ],
   "source": [
    "# Predictions using the final model:\n",
    "y_pred = X @ theta_final\n",
    "print(y_pred)"
   ]
  },
  {
   "cell_type": "code",
   "execution_count": 71,
   "metadata": {},
   "outputs": [
    {
     "data": {
      "text/html": [
       "<div>\n",
       "<style scoped>\n",
       "    .dataframe tbody tr th:only-of-type {\n",
       "        vertical-align: middle;\n",
       "    }\n",
       "\n",
       "    .dataframe tbody tr th {\n",
       "        vertical-align: top;\n",
       "    }\n",
       "\n",
       "    .dataframe thead th {\n",
       "        text-align: right;\n",
       "    }\n",
       "</style>\n",
       "<table border=\"1\" class=\"dataframe\">\n",
       "  <thead>\n",
       "    <tr style=\"text-align: right;\">\n",
       "      <th></th>\n",
       "      <th>x</th>\n",
       "      <th>y</th>\n",
       "      <th>predicted_y_values</th>\n",
       "    </tr>\n",
       "  </thead>\n",
       "  <tbody>\n",
       "    <tr>\n",
       "      <th>0</th>\n",
       "      <td>0.000000</td>\n",
       "      <td>4.993428</td>\n",
       "      <td>5.188176</td>\n",
       "    </tr>\n",
       "    <tr>\n",
       "      <th>1</th>\n",
       "      <td>0.526316</td>\n",
       "      <td>5.302419</td>\n",
       "      <td>6.595976</td>\n",
       "    </tr>\n",
       "    <tr>\n",
       "      <th>2</th>\n",
       "      <td>1.052632</td>\n",
       "      <td>8.453272</td>\n",
       "      <td>8.003775</td>\n",
       "    </tr>\n",
       "    <tr>\n",
       "      <th>3</th>\n",
       "      <td>1.578947</td>\n",
       "      <td>11.782902</td>\n",
       "      <td>9.411574</td>\n",
       "    </tr>\n",
       "    <tr>\n",
       "      <th>4</th>\n",
       "      <td>2.105263</td>\n",
       "      <td>9.847483</td>\n",
       "      <td>10.819374</td>\n",
       "    </tr>\n",
       "    <tr>\n",
       "      <th>5</th>\n",
       "      <td>2.631579</td>\n",
       "      <td>11.426463</td>\n",
       "      <td>12.227173</td>\n",
       "    </tr>\n",
       "    <tr>\n",
       "      <th>6</th>\n",
       "      <td>3.157895</td>\n",
       "      <td>16.632110</td>\n",
       "      <td>13.634972</td>\n",
       "    </tr>\n",
       "    <tr>\n",
       "      <th>7</th>\n",
       "      <td>3.684211</td>\n",
       "      <td>16.587501</td>\n",
       "      <td>15.042772</td>\n",
       "    </tr>\n",
       "    <tr>\n",
       "      <th>8</th>\n",
       "      <td>4.210526</td>\n",
       "      <td>15.692630</td>\n",
       "      <td>16.450571</td>\n",
       "    </tr>\n",
       "    <tr>\n",
       "      <th>9</th>\n",
       "      <td>4.736842</td>\n",
       "      <td>19.295646</td>\n",
       "      <td>17.858370</td>\n",
       "    </tr>\n",
       "    <tr>\n",
       "      <th>10</th>\n",
       "      <td>5.263158</td>\n",
       "      <td>18.862638</td>\n",
       "      <td>19.266170</td>\n",
       "    </tr>\n",
       "    <tr>\n",
       "      <th>11</th>\n",
       "      <td>5.789474</td>\n",
       "      <td>20.436962</td>\n",
       "      <td>20.673969</td>\n",
       "    </tr>\n",
       "    <tr>\n",
       "      <th>12</th>\n",
       "      <td>6.315789</td>\n",
       "      <td>23.431293</td>\n",
       "      <td>22.081768</td>\n",
       "    </tr>\n",
       "    <tr>\n",
       "      <th>13</th>\n",
       "      <td>6.842105</td>\n",
       "      <td>20.699755</td>\n",
       "      <td>23.489568</td>\n",
       "    </tr>\n",
       "    <tr>\n",
       "      <th>14</th>\n",
       "      <td>7.368421</td>\n",
       "      <td>22.655427</td>\n",
       "      <td>24.897367</td>\n",
       "    </tr>\n",
       "    <tr>\n",
       "      <th>15</th>\n",
       "      <td>7.894737</td>\n",
       "      <td>26.559635</td>\n",
       "      <td>26.305166</td>\n",
       "    </tr>\n",
       "    <tr>\n",
       "      <th>16</th>\n",
       "      <td>8.421053</td>\n",
       "      <td>27.237496</td>\n",
       "      <td>27.712966</td>\n",
       "    </tr>\n",
       "    <tr>\n",
       "      <th>17</th>\n",
       "      <td>8.947368</td>\n",
       "      <td>31.470600</td>\n",
       "      <td>29.120765</td>\n",
       "    </tr>\n",
       "    <tr>\n",
       "      <th>18</th>\n",
       "      <td>9.473684</td>\n",
       "      <td>30.605004</td>\n",
       "      <td>30.528564</td>\n",
       "    </tr>\n",
       "    <tr>\n",
       "      <th>19</th>\n",
       "      <td>10.000000</td>\n",
       "      <td>31.175393</td>\n",
       "      <td>31.936364</td>\n",
       "    </tr>\n",
       "  </tbody>\n",
       "</table>\n",
       "</div>"
      ],
      "text/plain": [
       "            x          y  predicted_y_values\n",
       "0    0.000000   4.993428            5.188176\n",
       "1    0.526316   5.302419            6.595976\n",
       "2    1.052632   8.453272            8.003775\n",
       "3    1.578947  11.782902            9.411574\n",
       "4    2.105263   9.847483           10.819374\n",
       "5    2.631579  11.426463           12.227173\n",
       "6    3.157895  16.632110           13.634972\n",
       "7    3.684211  16.587501           15.042772\n",
       "8    4.210526  15.692630           16.450571\n",
       "9    4.736842  19.295646           17.858370\n",
       "10   5.263158  18.862638           19.266170\n",
       "11   5.789474  20.436962           20.673969\n",
       "12   6.315789  23.431293           22.081768\n",
       "13   6.842105  20.699755           23.489568\n",
       "14   7.368421  22.655427           24.897367\n",
       "15   7.894737  26.559635           26.305166\n",
       "16   8.421053  27.237496           27.712966\n",
       "17   8.947368  31.470600           29.120765\n",
       "18   9.473684  30.605004           30.528564\n",
       "19  10.000000  31.175393           31.936364"
      ]
     },
     "execution_count": 71,
     "metadata": {},
     "output_type": "execute_result"
    }
   ],
   "source": [
    "# Create a dataframe with x, y and predicted values:\n",
    "df = pd.DataFrame({'x': X_raw, 'y': y.flatten(), 'predicted_y_values': y_pred.flatten()})\n",
    "df"
   ]
  },
  {
   "cell_type": "markdown",
   "metadata": {},
   "source": [
    "### **Visuals:**"
   ]
  },
  {
   "cell_type": "code",
   "execution_count": 76,
   "metadata": {},
   "outputs": [
    {
     "data": {
      "image/png": "[encoded data removed]",
      "text/plain": [
       "<Figure size 1200x400 with 2 Axes>"
      ]
     },
     "metadata": {},
     "output_type": "display_data"
    }
   ],
   "source": [
    "# Set the theme for the plots:  \n",
    "plt.style.use('seaborn-v0_8-whitegrid')\n",
    "\n",
    "# Plot loss vs. epochs to visualize convergence\n",
    "plt.figure(figsize=(12, 4))\n",
    "plt.subplot(1, 2, 1)\n",
    "plt.plot(losses)\n",
    "plt.title(\"Loss over epochs\")\n",
    "plt.xlabel(\"Epoch\")\n",
    "plt.ylabel(\"Loss\")\n",
    "\n",
    "# Step 8: Plot the best fit line\n",
    "plt.subplot(1, 2, 2)\n",
    "plt.scatter(X_raw, y, color='blue', label='Actual Data')\n",
    "plt.plot(X_raw, y_pred, color='red', label='Best Fit Line')\n",
    "plt.title(\"Best Fit Line using Gradient Descent\")\n",
    "plt.xlabel(\"X\")\n",
    "plt.ylabel(\"y\")\n",
    "plt.legend()\n",
    "\n",
    "plt.tight_layout()\n",
    "plt.show()"
   ]
  },
  {
   "cell_type": "markdown",
   "metadata": {},
   "source": [
    "1. **`Loss vs. Epochs`** — We can see that the loss is **`decreasing`** steadily, confirming that the model is learning.\n",
    "\n",
    "2. **`Best Fit Line`** — The red line fits the blue data points well."
   ]
  },
  {
   "cell_type": "markdown",
   "metadata": {},
   "source": [
    "### **Calculating Metrics:**"
   ]
  },
  {
   "cell_type": "markdown",
   "metadata": {},
   "source": [
    "**1. Mean Squared Error (MSE):**\n",
    "\n",
    "> \\[$\\text{MSE} = \\frac{1}{n} \\sum_{i=1}^{n} (y_i - \\hat{y}_i)^2$\\]\n",
    "\n",
    "Where:  \n",
    "- \\( $y_i$ \\) = actual value  \n",
    "- \\( $\\hat{y}_i$ \\) = predicted value  \n",
    "- \\( $n$ \\) = number of data points  \n",
    "\n",
    "**2. $R²$ Score (Coefficient of Determination):**\n",
    "\n",
    "> \\[$R^2 = 1 - \\frac{\\sum (y_i - \\hat{y}_i)^2}{\\sum (y_i - \\bar{y})^2}$\\]\n",
    "\n",
    "Where:    \n",
    "- \\( $\\bar{y}$ \\) = mean of actual values    \n",
    "- Numerator = Residual Sum of Squares (RSS)  \n",
    "- Denominator = Total Sum of Squares (TSS)"
   ]
  },
  {
   "cell_type": "code",
   "execution_count": 82,
   "metadata": {},
   "outputs": [
    {
     "name": "stdout",
     "output_type": "stream",
     "text": [
      "MSE: 2.21892339684228\n",
      "R² Score: 0.9661173193365662\n"
     ]
    }
   ],
   "source": [
    "import numpy as np\n",
    "\n",
    "# Actual y values and predicted y values (already obtained)\n",
    "# y.shape: (n, 1)\n",
    "# y_pred.shape: (n, 1)\n",
    "\n",
    "# Flatten to 1D arrays for simplicity:\n",
    "# np.ravel() flattens the arrays so we can do elementwise operations easily.\n",
    "y_flat = y.ravel()\n",
    "y_pred_flat = y_pred.ravel()\n",
    "\n",
    "# MSE calculation:\n",
    "errors_squared = (y_flat - y_pred_flat) ** 2\n",
    "mse = np.sum(errors_squared) / len(y_flat)\n",
    "\n",
    "# R² Score calculation:\n",
    "y_mean = np.mean(y_flat)\n",
    "rss = np.sum((y_flat - y_pred_flat) ** 2)      # Residual sum of squares\n",
    "tss = np.sum((y_flat - y_mean) ** 2)           # Total sum of squares\n",
    "r2 = 1 - (rss / tss)\n",
    "\n",
    "# Show results\n",
    "print(\"MSE:\", mse)\n",
    "print(\"R² Score:\", r2)"
   ]
  },
  {
   "cell_type": "code",
   "execution_count": 80,
   "metadata": {},
   "outputs": [
    {
     "data": {
      "text/plain": [
       "(array([5.18817643, 2.67481873]), 2.21892339684228, 0.9661173193365662)"
      ]
     },
     "execution_count": 80,
     "metadata": {},
     "output_type": "execute_result"
    }
   ],
   "source": [
    "theta_final.ravel(), mse, r2"
   ]
  }
 ],
 "metadata": {
  "kernelspec": {
   "display_name": "Python 3",
   "language": "python",
   "name": "python3"
  },
  "language_info": {
   "codemirror_mode": {
    "name": "ipython",
    "version": 3
   },
   "file_extension": ".py",
   "mimetype": "text/x-python",
   "name": "python",
   "nbconvert_exporter": "python",
   "pygments_lexer": "ipython3",
   "version": "3.12.7"
  }
 },
 "nbformat": 4,
 "nbformat_minor": 2
}
