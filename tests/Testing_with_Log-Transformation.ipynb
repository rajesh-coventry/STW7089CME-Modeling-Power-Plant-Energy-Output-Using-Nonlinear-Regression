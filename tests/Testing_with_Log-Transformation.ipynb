{
 "cells": [
  {
   "cell_type": "markdown",
   "id": "d216c444",
   "metadata": {},
   "source": [
    "# **$STW-$ $7089CME$: Modeling Power Plant Energy Output Using Nonlinear Regression:**"
   ]
  },
  {
   "cell_type": "code",
   "execution_count": 1,
   "id": "741a46e5",
   "metadata": {
    "vscode": {
     "languageId": "r"
    }
   },
   "outputs": [
    {
     "name": "stderr",
     "output_type": "stream",
     "text": [
      "[Loading] Data I/O and manipulation packages...\n",
      "\n",
      "[Loading] Data visualization packages...\n",
      "\n",
      "[Loading] Statistical analysis packages...\n",
      "\n",
      "[Loading] Utility functions packages...\n",
      "\n",
      "All packages loaded successfully!\n",
      "\n"
     ]
    }
   ],
   "source": [
    "# Install and import packages: \n",
    "\n",
    "# Define all required packages: \n",
    "pkg_groups <- list(\n",
    "  data_tools = list(\n",
    "    packages = c(\"readr\", \"dplyr\", \"tidyr\", \"purrr\", \"reshape2\", \"zoo\"),\n",
    "    purpose = \"Data I/O and manipulation\"\n",
    "    # readr: Fast CSV/TSV file reading and parsing  \n",
    "    # dplyr: Core data manipulation (filter, mutate, summarize)  \n",
    "    # tidyr: Data tidying (pivoting, nesting, handling missing values)  \n",
    "    # purrr: Functional programming tools (map, reduce, list operations)  \n",
    "    # reshape2: Convert data between wide/long formats (melt/dcast)  \n",
    "    # zoo: Time-series operations (rolling windows, lag calculations) \n",
    "), \n",
    "\n",
    "  visualization = list(\n",
    "    packages = c(\"ggplot2\", \"GGally\", \"viridis\", \"patchwork\", \"gridExtra\", \"corrplot\"),\n",
    "    purpose = \"Data visualization\"\n",
    "    # ggplot2: Create elegant and customizable data visualizations  \n",
    "    # GGally: Extended ggplot2 functionality (scatterplot matrices, etc.)  \n",
    "    # viridis: Colorblind-friendly color scales for plots  \n",
    "    # patchwork: Combine and arrange multiple ggplot2 plots  \n",
    "    # gridExtra: Layout arrangements for grid-based graphics  \n",
    "    # corrplot: Visualize correlation matrices with color coding \n",
    "), \n",
    "\n",
    "  stats = list(\n",
    "    packages = c(\"car\", \"nortest\", \"moments\", \"MASS\", \"outliers\"),\n",
    "    purpose = \"Statistical analysis\"\n",
    "    # car: Regression diagnostics and hypothesis testing  \n",
    "    # nortest: Normality tests (Anderson-Darling, Shapiro-Wilk etc.)  \n",
    "    # moments: Skewness, kurtosis and related moment calculations  \n",
    "    # MASS: Modern applied statistics functions and datasets  \n",
    "    # outliers: Detect and handle statistical outliers \n",
    "  ),\n",
    "\n",
    "  utilities = list(\n",
    "    packages = c(\"stringr\", \"knitr\"),\n",
    "    purpose = \"Utility functions\"\n",
    "    # stringr: Consistent string manipulation and pattern matching  \n",
    "    #knitr: Dynamic report generation and reproducible research  \n",
    "  )\n",
    ")\n",
    "\n",
    "# install if not installed already and then load them: \n",
    "suppressPackageStartupMessages({\n",
    "  suppressWarnings({\n",
    "    for (group in pkg_groups) {\n",
    "      message(\"[Loading] \", group$purpose, \" packages...\")\n",
    "      for (pkg in group$packages) {\n",
    "        if (!require(pkg, character.only = TRUE, quietly = TRUE)) {\n",
    "          install.packages(pkg, quiet = TRUE, repos = \"https://cloud.r-project.org\")\n",
    "          library(pkg, character.only = TRUE, quietly = TRUE)\n",
    "        }\n",
    "      }\n",
    "    }\n",
    "  })\n",
    "})\n",
    "\n",
    "# Verify that the packages are loaded successfully \n",
    "loaded <- search()\n",
    "message(\"All packages loaded successfully!\")"
   ]
  },
  {
   "cell_type": "code",
   "execution_count": 2,
   "id": "ed84dec0",
   "metadata": {
    "vscode": {
     "languageId": "r"
    }
   },
   "outputs": [],
   "source": [
    "# Setting default values like themes, colors, fonts and size etc for each plot:\n",
    "\n",
    "# Set default plot size using repr\n",
    "# width and height are in inches\n",
    "options(jupyter.plot_mimetypes = \"image/png\") \n",
    "options(repr.plot.width = 20,   # Set default plot width\n",
    "        repr.plot.height = 8)  # Set default plot height\n",
    "\n",
    "# Define a custom ggplot2 theme for all plots:\n",
    "my_custom_theme <- theme_minimal(base_size = 12) +   # Base theme with larger font\n",
    "                   theme(\n",
    "                     plot.title = element_text(face = \"bold\", hjust = 0.5),\n",
    "                     axis.title = element_text(face = \"bold\"),\n",
    "                     legend.position = \"bottom\"\n",
    "                   )\n",
    "\n",
    "# Set this theme as default for all plots\n",
    "theme_set(my_custom_theme)\n",
    "\n",
    "# Set default color scale or palette\n",
    "scale_fill_continuous <- scale_fill_viridis_c   # use Viridis for continuous fill\n",
    "scale_color_discrete <- scale_color_brewer(palette = \"Set2\")  # For discrete color scale"
   ]
  },
  {
   "cell_type": "markdown",
   "id": "41c77fb2",
   "metadata": {},
   "source": [
    "Import dataset using `read_csv` from `readr` package:"
   ]
  },
  {
   "cell_type": "code",
   "execution_count": 3,
   "id": "7133e52a",
   "metadata": {
    "vscode": {
     "languageId": "r"
    }
   },
   "outputs": [],
   "source": [
    "# Read the dataset using readr package:\n",
    "data <- read_csv('dataset.csv', show_col_types = FALSE)"
   ]
  },
  {
   "cell_type": "code",
   "execution_count": 4,
   "id": "633a555f",
   "metadata": {
    "vscode": {
     "languageId": "r"
    }
   },
   "outputs": [
    {
     "data": {
      "text/html": [
       "9568"
      ],
      "text/latex": [
       "9568"
      ],
      "text/markdown": [
       "9568"
      ],
      "text/plain": [
       "[1] 9568"
      ]
     },
     "metadata": {},
     "output_type": "display_data"
    },
    {
     "data": {
      "text/html": [
       "5"
      ],
      "text/latex": [
       "5"
      ],
      "text/markdown": [
       "5"
      ],
      "text/plain": [
       "[1] 5"
      ]
     },
     "metadata": {},
     "output_type": "display_data"
    }
   ],
   "source": [
    "# Check the shape: rows and columns of the dataset:\n",
    "nrow(data) \n",
    "ncol(data)"
   ]
  },
  {
   "cell_type": "markdown",
   "id": "b195968d",
   "metadata": {},
   "source": [
    "Now, clean the dataset by deleting duplicated samples:"
   ]
  },
  {
   "cell_type": "code",
   "execution_count": 5,
   "id": "704732aa",
   "metadata": {
    "vscode": {
     "languageId": "r"
    }
   },
   "outputs": [],
   "source": [
    "# create a variable which contains only duplicated rows and their first occurrence:\n",
    "duplicates_only <- duplicated(data)\n",
    "\n",
    "# Drop only those duplicated rows\n",
    "data <- data[!duplicates_only, ]"
   ]
  },
  {
   "cell_type": "code",
   "execution_count": 6,
   "id": "2e0cb729",
   "metadata": {
    "vscode": {
     "languageId": "r"
    }
   },
   "outputs": [],
   "source": [
    "# Add time column at the beginning of the dataset which acts as the time stamps\n",
    "# The data assumbed to be recorded at an equal time interval of 1 units\n",
    "data$time <- 1:nrow(data)\n",
    "\n",
    "\n",
    "# Reorder the columns\n",
    "data <- data[, c(\"time\", \"x1\", \"x3\", \"x4\", \"x5\", \"x2\")] \n",
    "# x2 is the dependent variable (sometimes denoted as y) \n",
    "#and move x2 to the end of the dataset as per the general convention in machine learning "
   ]
  },
  {
   "cell_type": "markdown",
   "id": "44c61c5d",
   "metadata": {},
   "source": [
    "All set."
   ]
  },
  {
   "cell_type": "markdown",
   "id": "b76f2383",
   "metadata": {},
   "source": [
    "## **Task-2: Regression- Modelling the Relationship Between Environmental Variables and Power Output:**"
   ]
  },
  {
   "cell_type": "markdown",
   "id": "ccdce094",
   "metadata": {},
   "source": [
    "First, prepare the data for modeling:"
   ]
  },
  {
   "cell_type": "code",
   "execution_count": 7,
   "id": "ad524ac6",
   "metadata": {
    "vscode": {
     "languageId": "r"
    }
   },
   "outputs": [],
   "source": [
    "# Create a clean dataset for modeling with original variable names\n",
    "# This makes it easier to match the model formulas\n",
    "data <- data.frame(\n",
    "  x1 = data$x1,   # Temperature\n",
    "  x3 = data$x3,   # Ambient Pressure\n",
    "  x4 = data$x4,   # Exhaust Vacuum\n",
    "  x5 = data$x5,   # Relative Humidity\n",
    "  y = data$x2    # Output variable (Energy Output)\n",
    ")"
   ]
  },
  {
   "cell_type": "code",
   "execution_count": 8,
   "id": "a3909502",
   "metadata": {
    "vscode": {
     "languageId": "r"
    }
   },
   "outputs": [
    {
     "data": {
      "text/html": [
       "<table class=\"dataframe\">\n",
       "<caption>A data.frame: 6 × 5</caption>\n",
       "<thead>\n",
       "\t<tr><th></th><th scope=col>x1</th><th scope=col>x3</th><th scope=col>x4</th><th scope=col>x5</th><th scope=col>y</th></tr>\n",
       "\t<tr><th></th><th scope=col>&lt;dbl&gt;</th><th scope=col>&lt;dbl&gt;</th><th scope=col>&lt;dbl&gt;</th><th scope=col>&lt;dbl&gt;</th><th scope=col>&lt;dbl&gt;</th></tr>\n",
       "</thead>\n",
       "<tbody>\n",
       "\t<tr><th scope=row>1</th><td>2.121063</td><td>3.707947</td><td>6.918537</td><td>4.499921</td><td>480.48</td></tr>\n",
       "\t<tr><th scope=row>2</th><td>3.162940</td><td>4.068856</td><td>6.919091</td><td>4.306764</td><td>445.75</td></tr>\n",
       "\t<tr><th scope=row>3</th><td>3.392493</td><td>4.041295</td><td>6.914880</td><td>3.735524</td><td>438.76</td></tr>\n",
       "\t<tr><th scope=row>4</th><td>2.948116</td><td>3.905804</td><td>6.914949</td><td>4.341074</td><td>453.09</td></tr>\n",
       "\t<tr><th scope=row>5</th><td>2.468100</td><td>3.705245</td><td>6.924740</td><td>4.576771</td><td>464.43</td></tr>\n",
       "\t<tr><th scope=row>6</th><td>2.636912</td><td>3.667656</td><td>6.923678</td><td>4.437934</td><td>470.96</td></tr>\n",
       "</tbody>\n",
       "</table>\n"
      ],
      "text/latex": [
       "A data.frame: 6 × 5\n",
       "\\begin{tabular}{r|lllll}\n",
       "  & x1 & x3 & x4 & x5 & y\\\\\n",
       "  & <dbl> & <dbl> & <dbl> & <dbl> & <dbl>\\\\\n",
       "\\hline\n",
       "\t1 & 2.121063 & 3.707947 & 6.918537 & 4.499921 & 480.48\\\\\n",
       "\t2 & 3.162940 & 4.068856 & 6.919091 & 4.306764 & 445.75\\\\\n",
       "\t3 & 3.392493 & 4.041295 & 6.914880 & 3.735524 & 438.76\\\\\n",
       "\t4 & 2.948116 & 3.905804 & 6.914949 & 4.341074 & 453.09\\\\\n",
       "\t5 & 2.468100 & 3.705245 & 6.924740 & 4.576771 & 464.43\\\\\n",
       "\t6 & 2.636912 & 3.667656 & 6.923678 & 4.437934 & 470.96\\\\\n",
       "\\end{tabular}\n"
      ],
      "text/markdown": [
       "\n",
       "A data.frame: 6 × 5\n",
       "\n",
       "| <!--/--> | x1 &lt;dbl&gt; | x3 &lt;dbl&gt; | x4 &lt;dbl&gt; | x5 &lt;dbl&gt; | y &lt;dbl&gt; |\n",
       "|---|---|---|---|---|---|\n",
       "| 1 | 2.121063 | 3.707947 | 6.918537 | 4.499921 | 480.48 |\n",
       "| 2 | 3.162940 | 4.068856 | 6.919091 | 4.306764 | 445.75 |\n",
       "| 3 | 3.392493 | 4.041295 | 6.914880 | 3.735524 | 438.76 |\n",
       "| 4 | 2.948116 | 3.905804 | 6.914949 | 4.341074 | 453.09 |\n",
       "| 5 | 2.468100 | 3.705245 | 6.924740 | 4.576771 | 464.43 |\n",
       "| 6 | 2.636912 | 3.667656 | 6.923678 | 4.437934 | 470.96 |\n",
       "\n"
      ],
      "text/plain": [
       "  x1       x3       x4       x5       y     \n",
       "1 2.121063 3.707947 6.918537 4.499921 480.48\n",
       "2 3.162940 4.068856 6.919091 4.306764 445.75\n",
       "3 3.392493 4.041295 6.914880 3.735524 438.76\n",
       "4 2.948116 3.905804 6.914949 4.341074 453.09\n",
       "5 2.468100 3.705245 6.924740 4.576771 464.43\n",
       "6 2.636912 3.667656 6.923678 4.437934 470.96"
      ]
     },
     "metadata": {},
     "output_type": "display_data"
    }
   ],
   "source": [
    "# Log Transformation (Natural Log)\n",
    "\n",
    "# Formula: x_scaled = log(x)\n",
    "# Note: Add a small constant if data contains zeros or negatives\n",
    "\n",
    "epsilon <- 1e-6  # Small constant to avoid log(0)\n",
    "data <- data.frame(\n",
    "  x1 = log(data$x1 + epsilon),\n",
    "  x3 = log(data$x3 + epsilon),\n",
    "  x4 = log(data$x4 + epsilon),\n",
    "  x5 = log(data$x5 + epsilon),\n",
    "  #y  = log(data$y  + epsilon)\n",
    "  y= data$y\n",
    ")\n",
    "head(data)"
   ]
  },
  {
   "cell_type": "code",
   "execution_count": 9,
   "id": "8b33d555",
   "metadata": {
    "vscode": {
     "languageId": "r"
    }
   },
   "outputs": [
    {
     "data": {
      "text/plain": [
       "       x1               x3              x4              x5       \n",
       " Min.   :0.5933   Min.   :3.233   Min.   :6.901   Min.   :3.241  \n",
       " 1st Qu.:2.6049   1st Qu.:3.731   1st Qu.:6.917   1st Qu.:4.149  \n",
       " Median :3.0131   Median :3.953   Median :6.921   Median :4.317  \n",
       " Mean   :2.8887   Mean   :3.967   Mean   :6.921   Mean   :4.273  \n",
       " 3rd Qu.:3.2469   3rd Qu.:4.197   3rd Qu.:6.925   3rd Qu.:4.441  \n",
       " Max.   :3.6139   Max.   :4.401   Max.   :6.941   Max.   :4.607  "
      ]
     },
     "metadata": {},
     "output_type": "display_data"
    }
   ],
   "source": [
    "# Check summary statistics of transformed data: \n",
    "summary(data[, c(\"x1\", \"x3\", \"x4\", \"x5\")])"
   ]
  },
  {
   "cell_type": "code",
   "execution_count": 10,
   "id": "7a0f191d",
   "metadata": {
    "vscode": {
     "languageId": "r"
    }
   },
   "outputs": [
    {
     "data": {
      "text/html": [
       "<style>\n",
       ".dl-inline {width: auto; margin:0; padding: 0}\n",
       ".dl-inline>dt, .dl-inline>dd {float: none; width: auto; display: inline-block}\n",
       ".dl-inline>dt::after {content: \":\\0020\"; padding-right: .5ex}\n",
       ".dl-inline>dt:not(:first-of-type) {padding-left: .5ex}\n",
       "</style><dl class=dl-inline><dt>x1</dt><dd>0.454309591484867</dd><dt>x3</dt><dd>0.235640936800593</dd><dt>x4</dt><dd>0.00585847125925815</dd><dt>x5</dt><dd>0.21875617803414</dd></dl>\n"
      ],
      "text/latex": [
       "\\begin{description*}\n",
       "\\item[x1] 0.454309591484867\n",
       "\\item[x3] 0.235640936800593\n",
       "\\item[x4] 0.00585847125925815\n",
       "\\item[x5] 0.21875617803414\n",
       "\\end{description*}\n"
      ],
      "text/markdown": [
       "x1\n",
       ":   0.454309591484867x3\n",
       ":   0.235640936800593x4\n",
       ":   0.00585847125925815x5\n",
       ":   0.21875617803414\n",
       "\n"
      ],
      "text/plain": [
       "         x1          x3          x4          x5 \n",
       "0.454309591 0.235640937 0.005858471 0.218756178 "
      ]
     },
     "metadata": {},
     "output_type": "display_data"
    }
   ],
   "source": [
    "# Check standard deviation of transformed data:\n",
    "sapply(data[, c(\"x1\", \"x3\", \"x4\", \"x5\")], sd)"
   ]
  },
  {
   "cell_type": "markdown",
   "id": "ed93ec7b",
   "metadata": {},
   "source": [
    "**Following are the 5 model that we have to estimate the parameters for:**"
   ]
  },
  {
   "cell_type": "markdown",
   "id": "d8fd04d4",
   "metadata": {},
   "source": [
    "**Model 1:**\n",
    "> $y = \\theta_1 x_4 + \\theta_2 x_3^2 + \\theta_{bias}$\n",
    "\n",
    "This model relates `energy output` $y$ to exhaust vaccum (x4) and the square of ambient pressure (x3²), plus a bias term.\n",
    "\n",
    "**Model 2:**\n",
    "> $y = \\theta_1 x_4 + \\theta_2 x_3^2 + \\theta_3 x_5 + \\theta_{bias}$\n",
    "\n",
    "This model extends Model 1 by adding relative humidity (x5) as an additional predictor.\n",
    "\n",
    "**Model 3:**\n",
    "> $y = \\theta_1 x_3 + \\theta_2 x_4 + \\theta_3 x_5^3$\n",
    "\n",
    "This model relates energy output to ambient pressure (x3), exhaust vaccum (x4), and the cube of relative humidity (x5³). Note that this model has no bias term.\n",
    "\n",
    "**Model 4:**\n",
    "> $y = \\theta_1 x_4 + \\theta_2 x_3^2 + \\theta_3 x_5^3 + \\theta_{bias}$\n",
    "\n",
    "This model combines exhaust vaccum (x4), squared ambient pressure (x3²), and cubed relative humidity (x5³), plus a bias term.\n",
    "\n",
    "**Model 5:**\n",
    "> $y = \\theta_1 x_4 + \\theta_2 x_1^2 + \\theta_3 x_3^2 + \\theta_{bias}$\n",
    "\n",
    "This model relates energy output to exhaust vaccum (x4), squared temperature (x1²), and squared ambient pressure (x3²), plus a bias term."
   ]
  },
  {
   "cell_type": "markdown",
   "id": "edc65988",
   "metadata": {},
   "source": [
    "#### **Design Matrix:**"
   ]
  },
  {
   "cell_type": "markdown",
   "id": "eae038a3",
   "metadata": {},
   "source": [
    "In R, these models can be implemented as follows:"
   ]
  },
  {
   "cell_type": "code",
   "execution_count": 11,
   "id": "9a2be0ca",
   "metadata": {
    "vscode": {
     "languageId": "r"
    }
   },
   "outputs": [
    {
     "data": {
      "text/html": [
       "<table class=\"dataframe\">\n",
       "<caption>A matrix: 6 × 3 of type dbl</caption>\n",
       "<thead>\n",
       "\t<tr><th scope=col>bias</th><th scope=col>x4</th><th scope=col>x3_squared</th></tr>\n",
       "</thead>\n",
       "<tbody>\n",
       "\t<tr><td>1</td><td>6.918537</td><td>13.74887</td></tr>\n",
       "\t<tr><td>1</td><td>6.919091</td><td>16.55559</td></tr>\n",
       "\t<tr><td>1</td><td>6.914880</td><td>16.33207</td></tr>\n",
       "\t<tr><td>1</td><td>6.914949</td><td>15.25530</td></tr>\n",
       "\t<tr><td>1</td><td>6.924740</td><td>13.72884</td></tr>\n",
       "\t<tr><td>1</td><td>6.923678</td><td>13.45170</td></tr>\n",
       "</tbody>\n",
       "</table>\n"
      ],
      "text/latex": [
       "A matrix: 6 × 3 of type dbl\n",
       "\\begin{tabular}{lll}\n",
       " bias & x4 & x3\\_squared\\\\\n",
       "\\hline\n",
       "\t 1 & 6.918537 & 13.74887\\\\\n",
       "\t 1 & 6.919091 & 16.55559\\\\\n",
       "\t 1 & 6.914880 & 16.33207\\\\\n",
       "\t 1 & 6.914949 & 15.25530\\\\\n",
       "\t 1 & 6.924740 & 13.72884\\\\\n",
       "\t 1 & 6.923678 & 13.45170\\\\\n",
       "\\end{tabular}\n"
      ],
      "text/markdown": [
       "\n",
       "A matrix: 6 × 3 of type dbl\n",
       "\n",
       "| bias | x4 | x3_squared |\n",
       "|---|---|---|\n",
       "| 1 | 6.918537 | 13.74887 |\n",
       "| 1 | 6.919091 | 16.55559 |\n",
       "| 1 | 6.914880 | 16.33207 |\n",
       "| 1 | 6.914949 | 15.25530 |\n",
       "| 1 | 6.924740 | 13.72884 |\n",
       "| 1 | 6.923678 | 13.45170 |\n",
       "\n"
      ],
      "text/plain": [
       "     bias x4       x3_squared\n",
       "[1,] 1    6.918537 13.74887  \n",
       "[2,] 1    6.919091 16.55559  \n",
       "[3,] 1    6.914880 16.33207  \n",
       "[4,] 1    6.914949 15.25530  \n",
       "[5,] 1    6.924740 13.72884  \n",
       "[6,] 1    6.923678 13.45170  "
      ]
     },
     "metadata": {},
     "output_type": "display_data"
    }
   ],
   "source": [
    "# Create Design Matrix for Model 1: y = θ₁x₄ + θ₂x₃² + θ_bias\n",
    "# This model relates energy output to exhaust vaccum (x4) \n",
    "# and the square of ambient pressure (x3²)\n",
    "# \n",
    "#' @param data A dataframe containing the variables x3 and x4\n",
    "#' @return A matrix with columns for bias term, x4, and squared x3\n",
    "create_model_1_matrix <- function(data) {\n",
    "  # Add column of 1's for the bias/intercept term\n",
    "  # Add column for relative humidity (x4) as is\n",
    "  # Add column for squared ambient pressure (x3^2)\n",
    "  X <- cbind(1, data$x4, data$x3^2)\n",
    "  \n",
    "  # Assign meaningful column names to the design matrix\n",
    "  colnames(X) <- c(\"bias\", \"x4\", \"x3_squared\")\n",
    "  \n",
    "  # Return the complete design matrix\n",
    "  return(X)\n",
    "}\n",
    "# Generate the design matrix using our dataset\n",
    "model_1_matrix <- create_model_1_matrix(data)\n",
    "\n",
    "# Display the first few rows of the design matrix\n",
    "head(model_1_matrix)"
   ]
  },
  {
   "cell_type": "code",
   "execution_count": 12,
   "id": "08422b72",
   "metadata": {
    "vscode": {
     "languageId": "r"
    }
   },
   "outputs": [
    {
     "data": {
      "text/html": [
       "<table class=\"dataframe\">\n",
       "<caption>A matrix: 6 × 4 of type dbl</caption>\n",
       "<thead>\n",
       "\t<tr><th scope=col>bias</th><th scope=col>x4</th><th scope=col>x3_squared</th><th scope=col>x5</th></tr>\n",
       "</thead>\n",
       "<tbody>\n",
       "\t<tr><td>1</td><td>6.918537</td><td>13.74887</td><td>4.499921</td></tr>\n",
       "\t<tr><td>1</td><td>6.919091</td><td>16.55559</td><td>4.306764</td></tr>\n",
       "\t<tr><td>1</td><td>6.914880</td><td>16.33207</td><td>3.735524</td></tr>\n",
       "\t<tr><td>1</td><td>6.914949</td><td>15.25530</td><td>4.341074</td></tr>\n",
       "\t<tr><td>1</td><td>6.924740</td><td>13.72884</td><td>4.576771</td></tr>\n",
       "\t<tr><td>1</td><td>6.923678</td><td>13.45170</td><td>4.437934</td></tr>\n",
       "</tbody>\n",
       "</table>\n"
      ],
      "text/latex": [
       "A matrix: 6 × 4 of type dbl\n",
       "\\begin{tabular}{llll}\n",
       " bias & x4 & x3\\_squared & x5\\\\\n",
       "\\hline\n",
       "\t 1 & 6.918537 & 13.74887 & 4.499921\\\\\n",
       "\t 1 & 6.919091 & 16.55559 & 4.306764\\\\\n",
       "\t 1 & 6.914880 & 16.33207 & 3.735524\\\\\n",
       "\t 1 & 6.914949 & 15.25530 & 4.341074\\\\\n",
       "\t 1 & 6.924740 & 13.72884 & 4.576771\\\\\n",
       "\t 1 & 6.923678 & 13.45170 & 4.437934\\\\\n",
       "\\end{tabular}\n"
      ],
      "text/markdown": [
       "\n",
       "A matrix: 6 × 4 of type dbl\n",
       "\n",
       "| bias | x4 | x3_squared | x5 |\n",
       "|---|---|---|---|\n",
       "| 1 | 6.918537 | 13.74887 | 4.499921 |\n",
       "| 1 | 6.919091 | 16.55559 | 4.306764 |\n",
       "| 1 | 6.914880 | 16.33207 | 3.735524 |\n",
       "| 1 | 6.914949 | 15.25530 | 4.341074 |\n",
       "| 1 | 6.924740 | 13.72884 | 4.576771 |\n",
       "| 1 | 6.923678 | 13.45170 | 4.437934 |\n",
       "\n"
      ],
      "text/plain": [
       "     bias x4       x3_squared x5      \n",
       "[1,] 1    6.918537 13.74887   4.499921\n",
       "[2,] 1    6.919091 16.55559   4.306764\n",
       "[3,] 1    6.914880 16.33207   3.735524\n",
       "[4,] 1    6.914949 15.25530   4.341074\n",
       "[5,] 1    6.924740 13.72884   4.576771\n",
       "[6,] 1    6.923678 13.45170   4.437934"
      ]
     },
     "metadata": {},
     "output_type": "display_data"
    }
   ],
   "source": [
    "# Model 2: y = θ₁x₄ + θ₂x₃² + θ₃x₅ + θ_bias\n",
    "# This model extends Model 1 by adding relative humidity (x5)\n",
    "\n",
    "create_model_2_matrix <- function(data) {\n",
    "  # Create design matrix for Model 2\n",
    "  X <- cbind(1, data$x4, data$x3^2, data$x5)\n",
    "  # Assign meaningful column names to the design matrix:\n",
    "  colnames(X) <- c(\"bias\", \"x4\", \"x3_squared\", \"x5\")\n",
    "  return(X)\n",
    "}\n",
    "\n",
    "# Generate the design matrix using our dataset\n",
    "model_2_matrix <-create_model_2_matrix(data)\n",
    "\n",
    "# Display the first few rows of the design matrix\n",
    "head(model_2_matrix)"
   ]
  },
  {
   "cell_type": "code",
   "execution_count": 13,
   "id": "32b415ae",
   "metadata": {
    "vscode": {
     "languageId": "r"
    }
   },
   "outputs": [
    {
     "data": {
      "text/html": [
       "<table class=\"dataframe\">\n",
       "<caption>A matrix: 6 × 3 of type dbl</caption>\n",
       "<thead>\n",
       "\t<tr><th scope=col>x3</th><th scope=col>x4</th><th scope=col>x5_cubed</th></tr>\n",
       "</thead>\n",
       "<tbody>\n",
       "\t<tr><td>3.707947</td><td>6.918537</td><td>91.12019</td></tr>\n",
       "\t<tr><td>4.068856</td><td>6.919091</td><td>79.88280</td></tr>\n",
       "\t<tr><td>4.041295</td><td>6.914880</td><td>52.12604</td></tr>\n",
       "\t<tr><td>3.905804</td><td>6.914949</td><td>81.80723</td></tr>\n",
       "\t<tr><td>3.705245</td><td>6.924740</td><td>95.86884</td></tr>\n",
       "\t<tr><td>3.667656</td><td>6.923678</td><td>87.40627</td></tr>\n",
       "</tbody>\n",
       "</table>\n"
      ],
      "text/latex": [
       "A matrix: 6 × 3 of type dbl\n",
       "\\begin{tabular}{lll}\n",
       " x3 & x4 & x5\\_cubed\\\\\n",
       "\\hline\n",
       "\t 3.707947 & 6.918537 & 91.12019\\\\\n",
       "\t 4.068856 & 6.919091 & 79.88280\\\\\n",
       "\t 4.041295 & 6.914880 & 52.12604\\\\\n",
       "\t 3.905804 & 6.914949 & 81.80723\\\\\n",
       "\t 3.705245 & 6.924740 & 95.86884\\\\\n",
       "\t 3.667656 & 6.923678 & 87.40627\\\\\n",
       "\\end{tabular}\n"
      ],
      "text/markdown": [
       "\n",
       "A matrix: 6 × 3 of type dbl\n",
       "\n",
       "| x3 | x4 | x5_cubed |\n",
       "|---|---|---|\n",
       "| 3.707947 | 6.918537 | 91.12019 |\n",
       "| 4.068856 | 6.919091 | 79.88280 |\n",
       "| 4.041295 | 6.914880 | 52.12604 |\n",
       "| 3.905804 | 6.914949 | 81.80723 |\n",
       "| 3.705245 | 6.924740 | 95.86884 |\n",
       "| 3.667656 | 6.923678 | 87.40627 |\n",
       "\n"
      ],
      "text/plain": [
       "     x3       x4       x5_cubed\n",
       "[1,] 3.707947 6.918537 91.12019\n",
       "[2,] 4.068856 6.919091 79.88280\n",
       "[3,] 4.041295 6.914880 52.12604\n",
       "[4,] 3.905804 6.914949 81.80723\n",
       "[5,] 3.705245 6.924740 95.86884\n",
       "[6,] 3.667656 6.923678 87.40627"
      ]
     },
     "metadata": {},
     "output_type": "display_data"
    }
   ],
   "source": [
    "# Model 3: y = θ₁x₃ + θ₂x₄ + θ₃x₅³\n",
    "# This model relates energy output to ambient pressure (x3), \n",
    "# exhaust vaccum (x4), \n",
    "# and the cube of relative humidity (x5³). \n",
    "#Note: No bias term in this model.\n",
    "\n",
    "create_model_3_matrix <- function(data) {\n",
    "  # Create design matrix for Model 3\n",
    "  X <- cbind(data$x3, data$x4, data$x5^3)\n",
    "  # Assign meaningful column names to the design matrix\n",
    "  colnames(X) <- c(\"x3\", \"x4\", \"x5_cubed\")\n",
    "  return(X)\n",
    "}\n",
    "# Generate the design matrix using our dataset\n",
    "model_3_matrix <- create_model_3_matrix(data)\n",
    "\n",
    "# Display the first few rows of the design matrix\n",
    "head(model_3_matrix)"
   ]
  },
  {
   "cell_type": "code",
   "execution_count": 14,
   "id": "316049ca",
   "metadata": {
    "vscode": {
     "languageId": "r"
    }
   },
   "outputs": [
    {
     "data": {
      "text/html": [
       "<table class=\"dataframe\">\n",
       "<caption>A matrix: 6 × 4 of type dbl</caption>\n",
       "<thead>\n",
       "\t<tr><th scope=col>bias</th><th scope=col>x4</th><th scope=col>x3_squared</th><th scope=col>x5_cubed</th></tr>\n",
       "</thead>\n",
       "<tbody>\n",
       "\t<tr><td>1</td><td>6.918537</td><td>13.74887</td><td>91.12019</td></tr>\n",
       "\t<tr><td>1</td><td>6.919091</td><td>16.55559</td><td>79.88280</td></tr>\n",
       "\t<tr><td>1</td><td>6.914880</td><td>16.33207</td><td>52.12604</td></tr>\n",
       "\t<tr><td>1</td><td>6.914949</td><td>15.25530</td><td>81.80723</td></tr>\n",
       "\t<tr><td>1</td><td>6.924740</td><td>13.72884</td><td>95.86884</td></tr>\n",
       "\t<tr><td>1</td><td>6.923678</td><td>13.45170</td><td>87.40627</td></tr>\n",
       "</tbody>\n",
       "</table>\n"
      ],
      "text/latex": [
       "A matrix: 6 × 4 of type dbl\n",
       "\\begin{tabular}{llll}\n",
       " bias & x4 & x3\\_squared & x5\\_cubed\\\\\n",
       "\\hline\n",
       "\t 1 & 6.918537 & 13.74887 & 91.12019\\\\\n",
       "\t 1 & 6.919091 & 16.55559 & 79.88280\\\\\n",
       "\t 1 & 6.914880 & 16.33207 & 52.12604\\\\\n",
       "\t 1 & 6.914949 & 15.25530 & 81.80723\\\\\n",
       "\t 1 & 6.924740 & 13.72884 & 95.86884\\\\\n",
       "\t 1 & 6.923678 & 13.45170 & 87.40627\\\\\n",
       "\\end{tabular}\n"
      ],
      "text/markdown": [
       "\n",
       "A matrix: 6 × 4 of type dbl\n",
       "\n",
       "| bias | x4 | x3_squared | x5_cubed |\n",
       "|---|---|---|---|\n",
       "| 1 | 6.918537 | 13.74887 | 91.12019 |\n",
       "| 1 | 6.919091 | 16.55559 | 79.88280 |\n",
       "| 1 | 6.914880 | 16.33207 | 52.12604 |\n",
       "| 1 | 6.914949 | 15.25530 | 81.80723 |\n",
       "| 1 | 6.924740 | 13.72884 | 95.86884 |\n",
       "| 1 | 6.923678 | 13.45170 | 87.40627 |\n",
       "\n"
      ],
      "text/plain": [
       "     bias x4       x3_squared x5_cubed\n",
       "[1,] 1    6.918537 13.74887   91.12019\n",
       "[2,] 1    6.919091 16.55559   79.88280\n",
       "[3,] 1    6.914880 16.33207   52.12604\n",
       "[4,] 1    6.914949 15.25530   81.80723\n",
       "[5,] 1    6.924740 13.72884   95.86884\n",
       "[6,] 1    6.923678 13.45170   87.40627"
      ]
     },
     "metadata": {},
     "output_type": "display_data"
    }
   ],
   "source": [
    "# Model 4: y = θ₁x₄ + θ₂x₃² + θ₃x₅³ + θ_bias\n",
    "# This model combines exhaust vaccum (x4), \n",
    "#squared ambient pressure (x3²),\n",
    "# and cubed relative humidity(x5³)\n",
    "\n",
    "create_model_4_matrix <- function(data) {\n",
    "  # Create design matrix for Model 4\n",
    "  X <- cbind(1, data$x4, data$x3^2, data$x5^3)\n",
    "  # Assigning meaningful column names to the design matrix\n",
    "  colnames(X) <- c(\"bias\", \"x4\", \"x3_squared\", \"x5_cubed\")\n",
    "  return(X)\n",
    "}\n",
    "\n",
    "# Generate the design matrix using our dataset\n",
    "model_4_matrix <- create_model_4_matrix(data)\n",
    "\n",
    "# Display the first few rows of the design matrix\n",
    "head(model_4_matrix)"
   ]
  },
  {
   "cell_type": "code",
   "execution_count": 15,
   "id": "98193d4f",
   "metadata": {
    "vscode": {
     "languageId": "r"
    }
   },
   "outputs": [
    {
     "data": {
      "text/html": [
       "<table class=\"dataframe\">\n",
       "<caption>A matrix: 6 × 4 of type dbl</caption>\n",
       "<thead>\n",
       "\t<tr><th scope=col>bias</th><th scope=col>x4</th><th scope=col>x1_squared</th><th scope=col>x3_squared</th></tr>\n",
       "</thead>\n",
       "<tbody>\n",
       "\t<tr><td>1</td><td>6.918537</td><td> 4.498910</td><td>13.74887</td></tr>\n",
       "\t<tr><td>1</td><td>6.919091</td><td>10.004191</td><td>16.55559</td></tr>\n",
       "\t<tr><td>1</td><td>6.914880</td><td>11.509009</td><td>16.33207</td></tr>\n",
       "\t<tr><td>1</td><td>6.914949</td><td> 8.691391</td><td>15.25530</td></tr>\n",
       "\t<tr><td>1</td><td>6.924740</td><td> 6.091516</td><td>13.72884</td></tr>\n",
       "\t<tr><td>1</td><td>6.923678</td><td> 6.953306</td><td>13.45170</td></tr>\n",
       "</tbody>\n",
       "</table>\n"
      ],
      "text/latex": [
       "A matrix: 6 × 4 of type dbl\n",
       "\\begin{tabular}{llll}\n",
       " bias & x4 & x1\\_squared & x3\\_squared\\\\\n",
       "\\hline\n",
       "\t 1 & 6.918537 &  4.498910 & 13.74887\\\\\n",
       "\t 1 & 6.919091 & 10.004191 & 16.55559\\\\\n",
       "\t 1 & 6.914880 & 11.509009 & 16.33207\\\\\n",
       "\t 1 & 6.914949 &  8.691391 & 15.25530\\\\\n",
       "\t 1 & 6.924740 &  6.091516 & 13.72884\\\\\n",
       "\t 1 & 6.923678 &  6.953306 & 13.45170\\\\\n",
       "\\end{tabular}\n"
      ],
      "text/markdown": [
       "\n",
       "A matrix: 6 × 4 of type dbl\n",
       "\n",
       "| bias | x4 | x1_squared | x3_squared |\n",
       "|---|---|---|---|\n",
       "| 1 | 6.918537 |  4.498910 | 13.74887 |\n",
       "| 1 | 6.919091 | 10.004191 | 16.55559 |\n",
       "| 1 | 6.914880 | 11.509009 | 16.33207 |\n",
       "| 1 | 6.914949 |  8.691391 | 15.25530 |\n",
       "| 1 | 6.924740 |  6.091516 | 13.72884 |\n",
       "| 1 | 6.923678 |  6.953306 | 13.45170 |\n",
       "\n"
      ],
      "text/plain": [
       "     bias x4       x1_squared x3_squared\n",
       "[1,] 1    6.918537  4.498910  13.74887  \n",
       "[2,] 1    6.919091 10.004191  16.55559  \n",
       "[3,] 1    6.914880 11.509009  16.33207  \n",
       "[4,] 1    6.914949  8.691391  15.25530  \n",
       "[5,] 1    6.924740  6.091516  13.72884  \n",
       "[6,] 1    6.923678  6.953306  13.45170  "
      ]
     },
     "metadata": {},
     "output_type": "display_data"
    }
   ],
   "source": [
    "# Model 5: y = θ₁x₄ + θ₂x₁² + θ₃x₃² + θ_bias\n",
    "# This model relates energy output to exhaust vaccum (x4),\n",
    "#squared temperature (x1²),\n",
    "# and squared ambient pressure (x3²)\n",
    "\n",
    "create_model_5_matrix <- function(data) {\n",
    "  # Create design matrix for Model 5\n",
    "  X <- cbind(1, data$x4, data$x1^2, data$x3^2)\n",
    "  # Assigning meaningful column names to the design matrix\n",
    "  colnames(X) <- c(\"bias\", \"x4\", \"x1_squared\", \"x3_squared\")\n",
    "  return(X)\n",
    "}\n",
    "\n",
    "# Generate the design matrix using our dataset\n",
    "model_5_matrix <- create_model_5_matrix(data)\n",
    "\n",
    "# Display the first few rows of the design matrix\n",
    "head(model_5_matrix)"
   ]
  },
  {
   "cell_type": "markdown",
   "id": "a758df5e",
   "metadata": {},
   "source": [
    "### **Task 2.1: Estimate Model Parameters:**"
   ]
  },
  {
   "cell_type": "markdown",
   "id": "30137132",
   "metadata": {},
   "source": [
    "Here I define a function `estimate_parameters()` that implements the Least Squares formula. \n",
    "\n",
    "The mathematical expression for the Least Squares estimation is:\n",
    "\n",
    ">  $θ̂ = (X^T X)^(-1)X^T y$"
   ]
  },
  {
   "cell_type": "code",
   "execution_count": 16,
   "id": "842eef3d",
   "metadata": {
    "vscode": {
     "languageId": "r"
    }
   },
   "outputs": [],
   "source": [
    "# Function to estimate parameters using Least Squares method:\n",
    "#\n",
    "# This function implements the Ordinary Least Squares (OLS) estimation\n",
    "# to find the optimal parameter values that minimize the sum of squared residuals.\n",
    "#\n",
    "#' @param X The design matrix with predictor variables (including bias term if needed)\n",
    "#' @param y The vector of target/response values\n",
    "#' @return A vector of estimated parameters (theta_hat)\n",
    "estimate_parameters <- function(X, y) {\n",
    "  # Calculate the parameter estimates using the closed-form solution:\n",
    "  # θ̂ = (X^T X)^(-1) X^T y\n",
    "  \n",
    "  # Step 1: Calculate X^T (transpose of X)\n",
    "  # Step 2: Calculate X^T X (matrix multiplication)\n",
    "  # Step 3: Calculate (X^T X)^(-1) (matrix inversion)\n",
    "  # Step 4: Calculate (X^T X)^(-1) X^T (matrix multiplication)\n",
    "  # Step 5: Calculate (X^T X)^(-1) X^T y (final multiplication with y)\n",
    "  theta_hat <- solve(t(X) %*% X) %*% t(X) %*% y\n",
    "  \n",
    "\n",
    "  # Return the estimated parameters\n",
    "  return(theta_hat)\n",
    "}"
   ]
  },
  {
   "cell_type": "code",
   "execution_count": 17,
   "id": "a0e26daa",
   "metadata": {
    "vscode": {
     "languageId": "r"
    }
   },
   "outputs": [
    {
     "data": {
      "text/html": [
       "<style>\n",
       ".list-inline {list-style: none; margin:0; padding: 0}\n",
       ".list-inline>li {display: inline-block}\n",
       ".list-inline>li:not(:last-child)::after {content: \"\\00b7\"; padding: 0 .5ex}\n",
       "</style>\n",
       "<ol class=list-inline><li>480.48</li><li>445.75</li><li>438.76</li><li>453.09</li><li>464.43</li><li>470.96</li></ol>\n"
      ],
      "text/latex": [
       "\\begin{enumerate*}\n",
       "\\item 480.48\n",
       "\\item 445.75\n",
       "\\item 438.76\n",
       "\\item 453.09\n",
       "\\item 464.43\n",
       "\\item 470.96\n",
       "\\end{enumerate*}\n"
      ],
      "text/markdown": [
       "1. 480.48\n",
       "2. 445.75\n",
       "3. 438.76\n",
       "4. 453.09\n",
       "5. 464.43\n",
       "6. 470.96\n",
       "\n",
       "\n"
      ],
      "text/plain": [
       "[1] 480.48 445.75 438.76 453.09 464.43 470.96"
      ]
     },
     "metadata": {},
     "output_type": "display_data"
    }
   ],
   "source": [
    "# Extract the target variable:\n",
    "y <- data$y\n",
    "head(y)"
   ]
  },
  {
   "cell_type": "code",
   "execution_count": 18,
   "id": "13ec66d1",
   "metadata": {
    "vscode": {
     "languageId": "r"
    }
   },
   "outputs": [
    {
     "name": "stdout",
     "output_type": "stream",
     "text": [
      "Model 1 parameters:\n",
      "                   [,1]\n",
      "bias       -3262.576790\n",
      "x4           553.643467\n",
      "x3_squared    -7.269425\n"
     ]
    }
   ],
   "source": [
    "# Estimate parameters for Model 1:\n",
    "#\n",
    "# Model 1: y = θ₁x₄ + θ₂x₃² + θ_bias\n",
    "# This model relates energy output to exhaust vaccum (x4) \n",
    "# and the square of ambient pressure (x3²)\n",
    "#\n",
    "# Create the design matrix for Model 1:\n",
    "# This generates a matrix with columns for (bias term, x4, and x3²)\n",
    "X1 <- create_model_1_matrix(data)\n",
    "\n",
    "# Apply the OLS estimation to find optimal parameters\n",
    "# This calculates θ̂ = (X^T X)^(-1) X^T y to minimize sum of squared errors\n",
    "theta1 <- estimate_parameters(X1, y)\n",
    "\n",
    "# Display the estimated parameters\n",
    "# The output shows the coefficient values for bias, x4, and x3²\n",
    "cat(\"Model 1 parameters:\\n\")\n",
    "print(theta1)"
   ]
  },
  {
   "cell_type": "code",
   "execution_count": 19,
   "id": "63951b99",
   "metadata": {
    "vscode": {
     "languageId": "r"
    }
   },
   "outputs": [
    {
     "name": "stdout",
     "output_type": "stream",
     "text": [
      "\n",
      "Model 2 parameters:\n",
      "                   [,1]\n",
      "bias       -3372.839311\n",
      "x4           562.445136\n",
      "x3_squared    -6.891603\n",
      "x5            10.153047\n"
     ]
    }
   ],
   "source": [
    "# Estimate parameters for Model 2:\n",
    "#\n",
    "# Model 2: y = θ₁x₄ + θ₂x₃² + θ₃x₅ + θ_bias\n",
    "# This model extends Model 1 by adding relative humidity (x5) as an additional predictor\n",
    "#\n",
    "# Create the design matrix for Model 2: \n",
    "# This generates a matrix with columns for (bias term, x4, x3², and x5)\n",
    "X2 <- create_model_2_matrix(data)\n",
    "\n",
    "# Apply the OLS estimation to find optimal parameters: \n",
    "# This calculates θ̂ = (X^T X)^(-1) X^T y to minimize sum of squared errors\n",
    "theta2 <- estimate_parameters(X2, y)\n",
    "\n",
    "# Display the estimated parameters:\n",
    "# The output shows the coefficient values for bias, x4, x3², and x5\n",
    "cat(\"\\nModel 2 parameters:\\n\")\n",
    "print(theta2)"
   ]
  },
  {
   "cell_type": "code",
   "execution_count": 20,
   "id": "edfba1af",
   "metadata": {
    "vscode": {
     "languageId": "r"
    }
   },
   "outputs": [
    {
     "name": "stdout",
     "output_type": "stream",
     "text": [
      "\n",
      "Model 3 parameters:\n",
      "                [,1]\n",
      "x3       -59.7397694\n",
      "x4        97.7646009\n",
      "x5_cubed   0.1869576\n"
     ]
    }
   ],
   "source": [
    "# Estimate parameters for Model 3:\n",
    "#\n",
    "# Model 3 formula: y = θ₁x₃ + θ₂x₄ + θ₃x₅³\n",
    "# This model relates energy output to ambient pressure (x3), exhaust vaccum (x4),\n",
    "# and the cube of relative humidity (x5³). Note: This model has no bias/intercept term.\n",
    "#\n",
    "# Create the design matrix for Model 3\n",
    "# This generates a matrix with columns for (x3, x4, and x5³) (no bias term)\n",
    "X3 <- create_model_3_matrix(data)\n",
    "\n",
    "# Apply the OLS estimation to find optimal parameters\n",
    "# This calculates θ̂ = (X^T X)^(-1) X^T y to minimize sum of squared errors\n",
    "theta3 <- estimate_parameters(X3, y)\n",
    "\n",
    "# Display the estimated parameters\n",
    "# The output shows the coefficient values for x3, x4, and x5³\n",
    "cat(\"\\nModel 3 parameters:\\n\")\n",
    "print(theta3)"
   ]
  },
  {
   "cell_type": "code",
   "execution_count": 21,
   "id": "5bebea11",
   "metadata": {
    "vscode": {
     "languageId": "r"
    }
   },
   "outputs": [
    {
     "name": "stdout",
     "output_type": "stream",
     "text": [
      "\n",
      "Model 4 parameters:\n",
      "                   [,1]\n",
      "bias       -3359.443301\n",
      "x4           564.511467\n",
      "x3_squared    -6.878110\n",
      "x5_cubed       0.196818\n"
     ]
    }
   ],
   "source": [
    "# Estimate parameters for Model 4:\n",
    "#\n",
    "# Model 4 formula: y = θ₁x₄ + θ₂x₃² + θ₃x₅³ + θ_bias\n",
    "# This model combines exhaust vaccum (x4), squared ambient pressure (x3²),\n",
    "# and cubed relative humidity (x5³) with a bias term\n",
    "#\n",
    "# Create the design matrix for Model 4\n",
    "# This generates a matrix with columns for (bias term, x4, x3², and x5³)\n",
    "X4 <- create_model_4_matrix(data)\n",
    "\n",
    "# Apply the OLS estimation to find optimal parameters\n",
    "# This calculates θ̂ = (X^T X)^(-1) X^T y to minimize sum of squared errors\n",
    "theta4 <- estimate_parameters(X4, y)\n",
    "\n",
    "# Display the estimated parameters\n",
    "# The output shows the coefficient values for bias, x4, x3², and x5³\n",
    "cat(\"\\nModel 4 parameters:\\n\")\n",
    "print(theta4)"
   ]
  },
  {
   "cell_type": "code",
   "execution_count": 22,
   "id": "f113aeac",
   "metadata": {
    "vscode": {
     "languageId": "r"
    }
   },
   "outputs": [
    {
     "name": "stdout",
     "output_type": "stream",
     "text": [
      "\n",
      "Model 5 parameters:\n",
      "                  [,1]\n",
      "bias       -754.486865\n",
      "x4          186.436251\n",
      "x1_squared   -4.728874\n",
      "x3_squared   -2.599210\n"
     ]
    }
   ],
   "source": [
    "# Estimate parameters for Model 5:\n",
    "#\n",
    "# Model 5 formula: y = θ₁x₄ + θ₂x₁² + θ₃x₃² + θ_bias\n",
    "# This model relates energy output to exhaust vaccum (x4), squared temperature (x1²),\n",
    "# and squared ambient pressure (x3²) with a bias term\n",
    "#\n",
    "# Create the design matrix for Model 5\n",
    "# This generates a matrix with columns for bias term, x4, x1², and x3²\n",
    "X5 <- create_model_5_matrix(data)\n",
    "\n",
    "# Apply the OLS estimation to find optimal parameters\n",
    "# This calculates θ̂ = (X^T X)^(-1) X^T y to minimize sum of squared errors\n",
    "theta5 <- estimate_parameters(X5, y)\n",
    "\n",
    "# Display the estimated parameters\n",
    "# The output shows the coefficient values for bias, x4, x1², and x3²\n",
    "cat(\"\\nModel 5 parameters:\\n\")\n",
    "print(theta5)"
   ]
  },
  {
   "cell_type": "code",
   "execution_count": 23,
   "id": "ccfd3e93",
   "metadata": {
    "vscode": {
     "languageId": "r"
    }
   },
   "outputs": [
    {
     "data": {
      "text/html": [
       "<table class=\"dataframe\">\n",
       "<caption>A data.frame: 5 × 3</caption>\n",
       "<thead>\n",
       "\t<tr><th scope=col>Model</th><th scope=col>Parameters</th><th scope=col>Formula</th></tr>\n",
       "\t<tr><th scope=col>&lt;chr&gt;</th><th scope=col>&lt;chr&gt;</th><th scope=col>&lt;chr&gt;</th></tr>\n",
       "</thead>\n",
       "<tbody>\n",
       "\t<tr><td>Model-1</td><td>bias = -3262.5768 , θ₁(x4) = 553.6435 , θ₂(x3²) = -7.2694                   </td><td>y = θ₁x₄ + θ₂x₃² + θ_bias        </td></tr>\n",
       "\t<tr><td>Model-2</td><td>bias = -3372.8393 , θ₁(x4) = 562.4451 , θ₂(x3²) = -6.8916 , θ₃(x5) = 10.153 </td><td>y = θ₁x₄ + θ₂x₃² + θ₃x₅ + θ_bias </td></tr>\n",
       "\t<tr><td>Model-3</td><td>θ₁(x3) = -59.7398 , θ₂(x4) = 97.7646 , θ₃(x5³) = 0.187                      </td><td>y = θ₁x₃ + θ₂x₄ + θ₃x₅³          </td></tr>\n",
       "\t<tr><td>Model-4</td><td>bias = -3359.4433 , θ₁(x4) = 564.5115 , θ₂(x3²) = -6.8781 , θ₃(x5³) = 0.1968</td><td>y = θ₁x₄ + θ₂x₃² + θ₃x₅³ + θ_bias</td></tr>\n",
       "\t<tr><td>Model-5</td><td>bias = -754.4869 , θ₁(x4) = 186.4363 , θ₂(x1²) = -4.7289 , θ₃(x3²) = -2.5992</td><td>y = θ₁x₄ + θ₂x₁² + θ₃x₃² + θ_bias</td></tr>\n",
       "</tbody>\n",
       "</table>\n"
      ],
      "text/latex": [
       "A data.frame: 5 × 3\n",
       "\\begin{tabular}{lll}\n",
       " Model & Parameters & Formula\\\\\n",
       " <chr> & <chr> & <chr>\\\\\n",
       "\\hline\n",
       "\t Model-1 & bias = -3262.5768 , θ₁(x4) = 553.6435 , θ₂(x3²) = -7.2694                    & y = θ₁x₄ + θ₂x₃² + θ\\_bias        \\\\\n",
       "\t Model-2 & bias = -3372.8393 , θ₁(x4) = 562.4451 , θ₂(x3²) = -6.8916 , θ₃(x5) = 10.153  & y = θ₁x₄ + θ₂x₃² + θ₃x₅ + θ\\_bias \\\\\n",
       "\t Model-3 & θ₁(x3) = -59.7398 , θ₂(x4) = 97.7646 , θ₃(x5³) = 0.187                       & y = θ₁x₃ + θ₂x₄ + θ₃x₅³          \\\\\n",
       "\t Model-4 & bias = -3359.4433 , θ₁(x4) = 564.5115 , θ₂(x3²) = -6.8781 , θ₃(x5³) = 0.1968 & y = θ₁x₄ + θ₂x₃² + θ₃x₅³ + θ\\_bias\\\\\n",
       "\t Model-5 & bias = -754.4869 , θ₁(x4) = 186.4363 , θ₂(x1²) = -4.7289 , θ₃(x3²) = -2.5992 & y = θ₁x₄ + θ₂x₁² + θ₃x₃² + θ\\_bias\\\\\n",
       "\\end{tabular}\n"
      ],
      "text/markdown": [
       "\n",
       "A data.frame: 5 × 3\n",
       "\n",
       "| Model &lt;chr&gt; | Parameters &lt;chr&gt; | Formula &lt;chr&gt; |\n",
       "|---|---|---|\n",
       "| Model-1 | bias = -3262.5768 , θ₁(x4) = 553.6435 , θ₂(x3²) = -7.2694                    | y = θ₁x₄ + θ₂x₃² + θ_bias         |\n",
       "| Model-2 | bias = -3372.8393 , θ₁(x4) = 562.4451 , θ₂(x3²) = -6.8916 , θ₃(x5) = 10.153  | y = θ₁x₄ + θ₂x₃² + θ₃x₅ + θ_bias  |\n",
       "| Model-3 | θ₁(x3) = -59.7398 , θ₂(x4) = 97.7646 , θ₃(x5³) = 0.187                       | y = θ₁x₃ + θ₂x₄ + θ₃x₅³           |\n",
       "| Model-4 | bias = -3359.4433 , θ₁(x4) = 564.5115 , θ₂(x3²) = -6.8781 , θ₃(x5³) = 0.1968 | y = θ₁x₄ + θ₂x₃² + θ₃x₅³ + θ_bias |\n",
       "| Model-5 | bias = -754.4869 , θ₁(x4) = 186.4363 , θ₂(x1²) = -4.7289 , θ₃(x3²) = -2.5992 | y = θ₁x₄ + θ₂x₁² + θ₃x₃² + θ_bias |\n",
       "\n"
      ],
      "text/plain": [
       "  Model  \n",
       "1 Model-1\n",
       "2 Model-2\n",
       "3 Model-3\n",
       "4 Model-4\n",
       "5 Model-5\n",
       "  Parameters                                                                  \n",
       "1 bias = -3262.5768 , θ₁(x4) = 553.6435 , θ₂(x3²) = -7.2694                   \n",
       "2 bias = -3372.8393 , θ₁(x4) = 562.4451 , θ₂(x3²) = -6.8916 , θ₃(x5) = 10.153 \n",
       "3 θ₁(x3) = -59.7398 , θ₂(x4) = 97.7646 , θ₃(x5³) = 0.187                      \n",
       "4 bias = -3359.4433 , θ₁(x4) = 564.5115 , θ₂(x3²) = -6.8781 , θ₃(x5³) = 0.1968\n",
       "5 bias = -754.4869 , θ₁(x4) = 186.4363 , θ₂(x1²) = -4.7289 , θ₃(x3²) = -2.5992\n",
       "  Formula                          \n",
       "1 y = θ₁x₄ + θ₂x₃² + θ_bias        \n",
       "2 y = θ₁x₄ + θ₂x₃² + θ₃x₅ + θ_bias \n",
       "3 y = θ₁x₃ + θ₂x₄ + θ₃x₅³          \n",
       "4 y = θ₁x₄ + θ₂x₃² + θ₃x₅³ + θ_bias\n",
       "5 y = θ₁x₄ + θ₂x₁² + θ₃x₃² + θ_bias"
      ]
     },
     "metadata": {},
     "output_type": "display_data"
    }
   ],
   "source": [
    "# Create a summary table for all model parameters:\n",
    "parameter_summary <- data.frame(\n",
    "  Model = c(\"Model-1\", \"Model-2\", \"Model-3\", \"Model-4\", \"Model-5\"),\n",
    "  Parameters = c(\n",
    "    paste(\"bias =\", round(theta1[1], 4), \", θ₁(x4) =\", round(theta1[2], 4), \", θ₂(x3²) =\", round(theta1[3], 4)),\n",
    "    paste(\"bias =\", round(theta2[1], 4), \", θ₁(x4) =\", round(theta2[2], 4), \", θ₂(x3²) =\", round(theta2[3], 4), \", θ₃(x5) =\", round(theta2[4], 4)),\n",
    "    paste(\"θ₁(x3) =\", round(theta3[1], 4), \", θ₂(x4) =\", round(theta3[2], 4), \", θ₃(x5³) =\", round(theta3[3], 4)),\n",
    "    paste(\"bias =\", round(theta4[1], 4), \", θ₁(x4) =\", round(theta4[2], 4), \", θ₂(x3²) =\", round(theta4[3], 4), \", θ₃(x5³) =\", round(theta4[4], 4)),\n",
    "    paste(\"bias =\", round(theta5[1], 4), \", θ₁(x4) =\", round(theta5[2], 4), \", θ₂(x1²) =\", round(theta5[3], 4), \", θ₃(x3²) =\", round(theta5[4], 4))\n",
    "  ),\n",
    "  Formula = c(\n",
    "    \"y = θ₁x₄ + θ₂x₃² + θ_bias\",\n",
    "    \"y = θ₁x₄ + θ₂x₃² + θ₃x₅ + θ_bias\",\n",
    "    \"y = θ₁x₃ + θ₂x₄ + θ₃x₅³\",\n",
    "    \"y = θ₁x₄ + θ₂x₃² + θ₃x₅³ + θ_bias\",\n",
    "    \"y = θ₁x₄ + θ₂x₁² + θ₃x₃² + θ_bias\"\n",
    "  )\n",
    ")\n",
    "\n",
    "# Print the summary table\n",
    "parameter_summary"
   ]
  },
  {
   "cell_type": "code",
   "execution_count": 24,
   "id": "34835cbd",
   "metadata": {
    "vscode": {
     "languageId": "r"
    }
   },
   "outputs": [
    {
     "data": {
      "text/html": [
       "<dl>\n",
       "\t<dt>$model1</dt>\n",
       "\t\t<dd><table class=\"dataframe\">\n",
       "<caption>A matrix: 3 × 1 of type dbl</caption>\n",
       "<tbody>\n",
       "\t<tr><th scope=row>bias</th><td>-3262.576790</td></tr>\n",
       "\t<tr><th scope=row>x4</th><td>  553.643467</td></tr>\n",
       "\t<tr><th scope=row>x3_squared</th><td>   -7.269425</td></tr>\n",
       "</tbody>\n",
       "</table>\n",
       "</dd>\n",
       "\t<dt>$model2</dt>\n",
       "\t\t<dd><table class=\"dataframe\">\n",
       "<caption>A matrix: 4 × 1 of type dbl</caption>\n",
       "<tbody>\n",
       "\t<tr><th scope=row>bias</th><td>-3372.839311</td></tr>\n",
       "\t<tr><th scope=row>x4</th><td>  562.445136</td></tr>\n",
       "\t<tr><th scope=row>x3_squared</th><td>   -6.891603</td></tr>\n",
       "\t<tr><th scope=row>x5</th><td>   10.153047</td></tr>\n",
       "</tbody>\n",
       "</table>\n",
       "</dd>\n",
       "\t<dt>$model3</dt>\n",
       "\t\t<dd><table class=\"dataframe\">\n",
       "<caption>A matrix: 3 × 1 of type dbl</caption>\n",
       "<tbody>\n",
       "\t<tr><th scope=row>x3</th><td>-59.7397694</td></tr>\n",
       "\t<tr><th scope=row>x4</th><td> 97.7646009</td></tr>\n",
       "\t<tr><th scope=row>x5_cubed</th><td>  0.1869576</td></tr>\n",
       "</tbody>\n",
       "</table>\n",
       "</dd>\n",
       "\t<dt>$model4</dt>\n",
       "\t\t<dd><table class=\"dataframe\">\n",
       "<caption>A matrix: 4 × 1 of type dbl</caption>\n",
       "<tbody>\n",
       "\t<tr><th scope=row>bias</th><td>-3359.443301</td></tr>\n",
       "\t<tr><th scope=row>x4</th><td>  564.511467</td></tr>\n",
       "\t<tr><th scope=row>x3_squared</th><td>   -6.878110</td></tr>\n",
       "\t<tr><th scope=row>x5_cubed</th><td>    0.196818</td></tr>\n",
       "</tbody>\n",
       "</table>\n",
       "</dd>\n",
       "\t<dt>$model5</dt>\n",
       "\t\t<dd><table class=\"dataframe\">\n",
       "<caption>A matrix: 4 × 1 of type dbl</caption>\n",
       "<tbody>\n",
       "\t<tr><th scope=row>bias</th><td>-754.486865</td></tr>\n",
       "\t<tr><th scope=row>x4</th><td> 186.436251</td></tr>\n",
       "\t<tr><th scope=row>x1_squared</th><td>  -4.728874</td></tr>\n",
       "\t<tr><th scope=row>x3_squared</th><td>  -2.599210</td></tr>\n",
       "</tbody>\n",
       "</table>\n",
       "</dd>\n",
       "</dl>\n"
      ],
      "text/latex": [
       "\\begin{description}\n",
       "\\item[\\$model1] A matrix: 3 × 1 of type dbl\n",
       "\\begin{tabular}{r|l}\n",
       "\tbias & -3262.576790\\\\\n",
       "\tx4 &   553.643467\\\\\n",
       "\tx3\\_squared &    -7.269425\\\\\n",
       "\\end{tabular}\n",
       "\n",
       "\\item[\\$model2] A matrix: 4 × 1 of type dbl\n",
       "\\begin{tabular}{r|l}\n",
       "\tbias & -3372.839311\\\\\n",
       "\tx4 &   562.445136\\\\\n",
       "\tx3\\_squared &    -6.891603\\\\\n",
       "\tx5 &    10.153047\\\\\n",
       "\\end{tabular}\n",
       "\n",
       "\\item[\\$model3] A matrix: 3 × 1 of type dbl\n",
       "\\begin{tabular}{r|l}\n",
       "\tx3 & -59.7397694\\\\\n",
       "\tx4 &  97.7646009\\\\\n",
       "\tx5\\_cubed &   0.1869576\\\\\n",
       "\\end{tabular}\n",
       "\n",
       "\\item[\\$model4] A matrix: 4 × 1 of type dbl\n",
       "\\begin{tabular}{r|l}\n",
       "\tbias & -3359.443301\\\\\n",
       "\tx4 &   564.511467\\\\\n",
       "\tx3\\_squared &    -6.878110\\\\\n",
       "\tx5\\_cubed &     0.196818\\\\\n",
       "\\end{tabular}\n",
       "\n",
       "\\item[\\$model5] A matrix: 4 × 1 of type dbl\n",
       "\\begin{tabular}{r|l}\n",
       "\tbias & -754.486865\\\\\n",
       "\tx4 &  186.436251\\\\\n",
       "\tx1\\_squared &   -4.728874\\\\\n",
       "\tx3\\_squared &   -2.599210\\\\\n",
       "\\end{tabular}\n",
       "\n",
       "\\end{description}\n"
      ],
      "text/markdown": [
       "$model1\n",
       ":   \n",
       "A matrix: 3 × 1 of type dbl\n",
       "\n",
       "| bias | -3262.576790 |\n",
       "| x4 |   553.643467 |\n",
       "| x3_squared |    -7.269425 |\n",
       "\n",
       "\n",
       "$model2\n",
       ":   \n",
       "A matrix: 4 × 1 of type dbl\n",
       "\n",
       "| bias | -3372.839311 |\n",
       "| x4 |   562.445136 |\n",
       "| x3_squared |    -6.891603 |\n",
       "| x5 |    10.153047 |\n",
       "\n",
       "\n",
       "$model3\n",
       ":   \n",
       "A matrix: 3 × 1 of type dbl\n",
       "\n",
       "| x3 | -59.7397694 |\n",
       "| x4 |  97.7646009 |\n",
       "| x5_cubed |   0.1869576 |\n",
       "\n",
       "\n",
       "$model4\n",
       ":   \n",
       "A matrix: 4 × 1 of type dbl\n",
       "\n",
       "| bias | -3359.443301 |\n",
       "| x4 |   564.511467 |\n",
       "| x3_squared |    -6.878110 |\n",
       "| x5_cubed |     0.196818 |\n",
       "\n",
       "\n",
       "$model5\n",
       ":   \n",
       "A matrix: 4 × 1 of type dbl\n",
       "\n",
       "| bias | -754.486865 |\n",
       "| x4 |  186.436251 |\n",
       "| x1_squared |   -4.728874 |\n",
       "| x3_squared |   -2.599210 |\n",
       "\n",
       "\n",
       "\n",
       "\n"
      ],
      "text/plain": [
       "$model1\n",
       "                   [,1]\n",
       "bias       -3262.576790\n",
       "x4           553.643467\n",
       "x3_squared    -7.269425\n",
       "\n",
       "$model2\n",
       "                   [,1]\n",
       "bias       -3372.839311\n",
       "x4           562.445136\n",
       "x3_squared    -6.891603\n",
       "x5            10.153047\n",
       "\n",
       "$model3\n",
       "                [,1]\n",
       "x3       -59.7397694\n",
       "x4        97.7646009\n",
       "x5_cubed   0.1869576\n",
       "\n",
       "$model4\n",
       "                   [,1]\n",
       "bias       -3359.443301\n",
       "x4           564.511467\n",
       "x3_squared    -6.878110\n",
       "x5_cubed       0.196818\n",
       "\n",
       "$model5\n",
       "                  [,1]\n",
       "bias       -754.486865\n",
       "x4          186.436251\n",
       "x1_squared   -4.728874\n",
       "x3_squared   -2.599210\n"
      ]
     },
     "metadata": {},
     "output_type": "display_data"
    }
   ],
   "source": [
    "# also store the parameters in list for later use\n",
    "model_parameters <- list(\n",
    "  model1 = theta1,\n",
    "  model2 = theta2,\n",
    "  model3 = theta3,\n",
    "  model4 = theta4,\n",
    "  model5 = theta5\n",
    ")\n",
    "model_parameters"
   ]
  },
  {
   "cell_type": "markdown",
   "id": "02d88292",
   "metadata": {
    "vscode": {
     "languageId": "r"
    }
   },
   "source": [
    "### **Task 2.2: Calculating Residual Sum of Squared Errors (RSS):**\n",
    "\n",
    "For Models 1, 2, 3, 4, and 5, we need to calculate the `Residual Sum of Squares` (`RSS`) to evaluate how well each model fits the data."
   ]
  },
  {
   "cell_type": "code",
   "execution_count": 25,
   "id": "7e3121a8",
   "metadata": {
    "vscode": {
     "languageId": "r"
    }
   },
   "outputs": [],
   "source": [
    "# Function to calculate Residual Sum of Squares (RSS);\n",
    "#\n",
    "# This function computes the RSS, which measures the discrepancy between\n",
    "# the observed values and the values predicted by the model.\n",
    "# RSS = Σ(y_i - ŷ_i)² where ŷ_i = x_i θ̂\n",
    "#\n",
    "#' @param X The design matrix with predictor variables\n",
    "#' @param y The vector of observed target values\n",
    "#' @param theta The vector of estimated parameters\n",
    "#' @return The residual sum of squares (RSS)\n",
    "calculate_rss <- function(X, y, theta) {\n",
    "  # Calculate predicted values (ŷ) using the model\n",
    "  # ŷ = X θ̂ (matrix multiplication of design matrix and parameters)\n",
    "  y_pred <- X %*% theta\n",
    "  \n",
    "  # Calculate residuals (errors)\n",
    "  # residuals = y - ŷ (difference between observed and predicted values)\n",
    "  residuals <- y - y_pred\n",
    "  \n",
    "  # Square each residual\n",
    "  # squared_residuals = residuals²\n",
    "  squared_residuals <- residuals^2\n",
    "  \n",
    "  # Sum all squared residuals to get RSS\n",
    "  # RSS = Σ(residuals²)\n",
    "  rss <- sum(squared_residuals)\n",
    "  \n",
    "  # Return the calculated RSS value\n",
    "  return(rss)\n",
    "}"
   ]
  },
  {
   "cell_type": "markdown",
   "id": "62da3480",
   "metadata": {},
   "source": [
    "**Calculate RSS for each model:**"
   ]
  },
  {
   "cell_type": "code",
   "execution_count": 26,
   "id": "e8b74c8f",
   "metadata": {
    "vscode": {
     "languageId": "r"
    }
   },
   "outputs": [
    {
     "name": "stdout",
     "output_type": "stream",
     "text": [
      "RSS for Model 1: 558810.1"
     ]
    }
   ],
   "source": [
    "# Calculate RSS for Model 1: y = θ₁x₄ + θ₂x₃² + θ_bias: \n",
    "\n",
    "rss1 <- calculate_rss(X1, y, theta1)\n",
    "cat(\"RSS for Model 1:\", rss1)"
   ]
  },
  {
   "cell_type": "code",
   "execution_count": 27,
   "id": "bbabb3d0",
   "metadata": {
    "vscode": {
     "languageId": "r"
    }
   },
   "outputs": [
    {
     "name": "stdout",
     "output_type": "stream",
     "text": [
      "RSS for Model 2: 516315.9"
     ]
    }
   ],
   "source": [
    "# Calculate RSS for Model 2: y = θ₁x₄ + θ₂x₃² + θ₃x₅ + θ_bias: \n",
    "\n",
    "rss2 <- calculate_rss(X2, y, theta2)\n",
    "cat(\"RSS for Model 2:\", rss2)"
   ]
  },
  {
   "cell_type": "code",
   "execution_count": 28,
   "id": "394c2d1c",
   "metadata": {
    "vscode": {
     "languageId": "r"
    }
   },
   "outputs": [
    {
     "name": "stdout",
     "output_type": "stream",
     "text": [
      "RSS for Model 3: 568957.4"
     ]
    }
   ],
   "source": [
    "# Calculate RSS for Model 3: y = θ₁x₃ + θ₂x₄ + θ₃x₅³\n",
    "\n",
    "rss3 <- calculate_rss(X3, y, theta3)\n",
    "cat(\"RSS for Model 3:\", rss3 )"
   ]
  },
  {
   "cell_type": "code",
   "execution_count": 29,
   "id": "1bd75561",
   "metadata": {
    "vscode": {
     "languageId": "r"
    }
   },
   "outputs": [
    {
     "name": "stdout",
     "output_type": "stream",
     "text": [
      "RSS for Model 4: 515095"
     ]
    }
   ],
   "source": [
    "# Calculate RSS for Model 4: y = θ₁x₄ + θ₂x₃² + θ₃x₅³ + θ_bias\n",
    "\n",
    "rss4 <- calculate_rss(X4, y, theta4)\n",
    "cat(\"RSS for Model 4:\", rss4)"
   ]
  },
  {
   "cell_type": "code",
   "execution_count": 30,
   "id": "0db3c711",
   "metadata": {
    "vscode": {
     "languageId": "r"
    }
   },
   "outputs": [
    {
     "name": "stdout",
     "output_type": "stream",
     "text": [
      "RSS for Model 5: 198462.5"
     ]
    }
   ],
   "source": [
    "# Calculate RSS for Model 5: y = θ₁x₄ + θ₂x₁² + θ₃x₃² + θ_bias\n",
    "\n",
    "rss5 <- calculate_rss(X5, y, theta5)\n",
    "cat(\"RSS for Model 5:\", rss5)"
   ]
  },
  {
   "cell_type": "code",
   "execution_count": 31,
   "id": "08506623",
   "metadata": {
    "vscode": {
     "languageId": "r"
    }
   },
   "outputs": [],
   "source": [
    "# Store RSS values for comparison; \n",
    "\n",
    "rss_values <- c(\n",
    "  Model1 = rss1,\n",
    "  Model2 = rss2,\n",
    "  Model3 = rss3,\n",
    "  Model4 = rss4,\n",
    "  Model5 = rss5\n",
    ")"
   ]
  },
  {
   "cell_type": "code",
   "execution_count": 32,
   "id": "f88e78a0",
   "metadata": {
    "vscode": {
     "languageId": "r"
    }
   },
   "outputs": [
    {
     "data": {
      "text/html": [
       "<table class=\"dataframe\">\n",
       "<caption>A data.frame: 5 × 2</caption>\n",
       "<thead>\n",
       "\t<tr><th scope=col>Model</th><th scope=col>RSS</th></tr>\n",
       "\t<tr><th scope=col>&lt;chr&gt;</th><th scope=col>&lt;dbl&gt;</th></tr>\n",
       "</thead>\n",
       "<tbody>\n",
       "\t<tr><td>Model 1</td><td>558810.1</td></tr>\n",
       "\t<tr><td>Model 2</td><td>516315.9</td></tr>\n",
       "\t<tr><td>Model 3</td><td>568957.4</td></tr>\n",
       "\t<tr><td>Model 4</td><td>515095.0</td></tr>\n",
       "\t<tr><td>Model 5</td><td>198462.5</td></tr>\n",
       "</tbody>\n",
       "</table>\n"
      ],
      "text/latex": [
       "A data.frame: 5 × 2\n",
       "\\begin{tabular}{ll}\n",
       " Model & RSS\\\\\n",
       " <chr> & <dbl>\\\\\n",
       "\\hline\n",
       "\t Model 1 & 558810.1\\\\\n",
       "\t Model 2 & 516315.9\\\\\n",
       "\t Model 3 & 568957.4\\\\\n",
       "\t Model 4 & 515095.0\\\\\n",
       "\t Model 5 & 198462.5\\\\\n",
       "\\end{tabular}\n"
      ],
      "text/markdown": [
       "\n",
       "A data.frame: 5 × 2\n",
       "\n",
       "| Model &lt;chr&gt; | RSS &lt;dbl&gt; |\n",
       "|---|---|\n",
       "| Model 1 | 558810.1 |\n",
       "| Model 2 | 516315.9 |\n",
       "| Model 3 | 568957.4 |\n",
       "| Model 4 | 515095.0 |\n",
       "| Model 5 | 198462.5 |\n",
       "\n"
      ],
      "text/plain": [
       "  Model   RSS     \n",
       "1 Model 1 558810.1\n",
       "2 Model 2 516315.9\n",
       "3 Model 3 568957.4\n",
       "4 Model 4 515095.0\n",
       "5 Model 5 198462.5"
      ]
     },
     "metadata": {},
     "output_type": "display_data"
    }
   ],
   "source": [
    "# Create a comparison table\n",
    "rss_comparison <- data.frame(\n",
    "  Model = c(\"Model 1\", \"Model 2\", \"Model 3\", \"Model 4\", \"Model 5\"),\n",
    "  RSS = c(rss1, rss2, rss3, rss4, rss5)\n",
    ")\n",
    "\n",
    "# Print the comparison table\n",
    "rss_comparison"
   ]
  },
  {
   "cell_type": "code",
   "execution_count": 33,
   "id": "7f069366",
   "metadata": {
    "vscode": {
     "languageId": "r"
    }
   },
   "outputs": [
    {
     "data": {
      "image/png": "[encoded data removed]"
     },
     "metadata": {
      "image/png": {
       "height": 480,
       "width": 1200
      }
     },
     "output_type": "display_data"
    }
   ],
   "source": [
    "# Plotting the RSS values using bar plots: \n",
    "\n",
    "# Prepare data frame for plotting\n",
    "df <- data.frame(\n",
    "  Model = names(rss_values),\n",
    "  RSS = as.numeric(rss_values)\n",
    ")\n",
    "\n",
    "# Create bar plot comparing RSS values across models\n",
    "model_comparison_plot <- ggplot(df, aes(x = reorder(Model, RSS), y = RSS, fill = Model)) +\n",
    "  \n",
    "  # Bars and labels\n",
    "  geom_bar(stat = \"identity\", width = 0.7, alpha = 0.8) +\n",
    "  geom_text(aes(label = round(RSS, 2)), vjust = -0.5, size = 3.5, fontface = \"bold\") +\n",
    "  \n",
    "  # Labels and titles\n",
    "  labs(\n",
    "    title = \"Model Performance Comparison:\",\n",
    "    subtitle = \"Residual Sum of Squares (RSS) Evaluation\\nLower values indicate better fit:\",\n",
    "    x = \"Regression Models\",\n",
    "    y = \"RSS Value\",\n",
    "  ) +\n",
    "  \n",
    "  # Theme and formatting\n",
    "  theme_minimal(base_size = 12) +\n",
    "  theme(\n",
    "    plot.title = element_text(hjust = 0.5, face = \"bold\", size = 19),\n",
    "    plot.subtitle = element_text(hjust = 0.5, size = 15),\n",
    "    axis.text.x = element_text(angle = 0, hjust = 1, vjust = 1, size =15),\n",
    "    axis.title.x = element_text(margin = margin(t = 10)),\n",
    "    legend.position = \"none\",\n",
    "    plot.margin = margin(1, 1, 1, 1, unit = \"cm\")\n",
    "  ) +\n",
    "  \n",
    "  # Y-axis buffer and color scale\n",
    "  scale_y_continuous(expand = expansion(mult = c(0, 0.1))) +\n",
    "  scale_fill_viridis_d(option = \"D\", begin = 0.3, end = 0.9)\n",
    "\n",
    "# Set plot size using repr\n",
    "# width and height are in inches\n",
    "options(jupyter.plot_mimetypes = \"image/png\") \n",
    "options(repr.plot.width = 20,   # Set default plot width\n",
    "        repr.plot.height = 8)  # Set default plot height\n",
    "\n",
    "# Show the plot\n",
    "model_comparison_plot"
   ]
  },
  {
   "cell_type": "markdown",
   "id": "fbb39d1d",
   "metadata": {},
   "source": [
    "### **Task 2.3: Calculate log-likelihood for each model:**"
   ]
  },
  {
   "cell_type": "code",
   "execution_count": 34,
   "id": "68664707",
   "metadata": {
    "vscode": {
     "languageId": "r"
    }
   },
   "outputs": [],
   "source": [
    "# Calculate log-likelihood for each model\n",
    "\n",
    "# The log-likelihood function is:\n",
    "# ln p(D|θ̂) = -n/2 ln(2π) - n/2 ln(σ̂²) - RSS/(2σ̂²)\n",
    "# Where σ̂² = RSS/(n-1) is the estimated variance\n",
    "\n",
    "calculate_log_likelihood <- function(rss, n) {\n",
    "  # Calculate the estimated variance (σ̂²)\n",
    "  sigma_squared <- rss / (n - 1)\n",
    "  \n",
    "  # Calculate the log-likelihood using the formula\n",
    "  log_likelihood <- -n/2 * log(2*pi) - n/2 * log(sigma_squared) - rss/(2*sigma_squared)\n",
    "  \n",
    "  return(log_likelihood)\n",
    "}"
   ]
  },
  {
   "cell_type": "code",
   "execution_count": 35,
   "id": "d11c595f",
   "metadata": {
    "vscode": {
     "languageId": "r"
    }
   },
   "outputs": [
    {
     "name": "stdout",
     "output_type": "stream",
     "text": [
      "Number of observations: 9527 \n",
      "\n"
     ]
    }
   ],
   "source": [
    "# Get the number of observations (n)\n",
    "n <- nrow(data)\n",
    "cat(\"Number of observations:\", n, \"\\n\\n\")"
   ]
  },
  {
   "cell_type": "code",
   "execution_count": 36,
   "id": "5fc92ceb",
   "metadata": {
    "vscode": {
     "languageId": "r"
    }
   },
   "outputs": [],
   "source": [
    "# Calculate log-likelihood for each model\n",
    "# For each model, we use the RSS calculated earlier\n",
    "\n",
    "ll1 <- calculate_log_likelihood(rss1, n)\n",
    "ll2 <- calculate_log_likelihood(rss2, n)\n",
    "ll3 <- calculate_log_likelihood(rss3, n)\n",
    "ll4 <- calculate_log_likelihood(rss4, n)\n",
    "ll5 <- calculate_log_likelihood(rss5, n)"
   ]
  },
  {
   "cell_type": "code",
   "execution_count": 37,
   "id": "28b02971",
   "metadata": {
    "vscode": {
     "languageId": "r"
    }
   },
   "outputs": [
    {
     "name": "stdout",
     "output_type": "stream",
     "text": [
      "Log-likelihood values:\n",
      "Model 1: -32913.67 \n",
      "Model 2: -32536.92 \n",
      "Model 3: -32999.4 \n"
     ]
    },
    {
     "name": "stdout",
     "output_type": "stream",
     "text": [
      "Model 4: -32525.65 \n",
      "Model 5: -27982.45"
     ]
    }
   ],
   "source": [
    "# Print the log-likelihood values: \n",
    "\n",
    "cat(\"Log-likelihood values:\\n\")\n",
    "cat(\"Model 1:\", ll1, \"\\n\")\n",
    "cat(\"Model 2:\", ll2, \"\\n\")\n",
    "cat(\"Model 3:\", ll3, \"\\n\")\n",
    "cat(\"Model 4:\", ll4, \"\\n\")\n",
    "cat(\"Model 5:\", ll5)"
   ]
  },
  {
   "cell_type": "code",
   "execution_count": 38,
   "id": "813709b9",
   "metadata": {
    "vscode": {
     "languageId": "r"
    }
   },
   "outputs": [],
   "source": [
    "# Store log-likelihood values\n",
    "\n",
    "ll_values <- c(\n",
    "  Model1 = ll1,\n",
    "  Model2 = ll2,\n",
    "  Model3 = ll3,\n",
    "  Model4 = ll4,\n",
    "  Model5 = ll5\n",
    ")"
   ]
  },
  {
   "cell_type": "code",
   "execution_count": 39,
   "id": "a0ca2b5d",
   "metadata": {
    "vscode": {
     "languageId": "r"
    }
   },
   "outputs": [
    {
     "data": {
      "text/html": [
       "<table class=\"dataframe\">\n",
       "<caption>A data.frame: 5 × 3</caption>\n",
       "<thead>\n",
       "\t<tr><th scope=col>Model</th><th scope=col>RSS</th><th scope=col>LogLikelihood</th></tr>\n",
       "\t<tr><th scope=col>&lt;chr&gt;</th><th scope=col>&lt;dbl&gt;</th><th scope=col>&lt;dbl&gt;</th></tr>\n",
       "</thead>\n",
       "<tbody>\n",
       "\t<tr><td>Model 1</td><td>558810.1</td><td>-32913.67</td></tr>\n",
       "\t<tr><td>Model 2</td><td>516315.9</td><td>-32536.92</td></tr>\n",
       "\t<tr><td>Model 3</td><td>568957.4</td><td>-32999.40</td></tr>\n",
       "\t<tr><td>Model 4</td><td>515095.0</td><td>-32525.65</td></tr>\n",
       "\t<tr><td>Model 5</td><td>198462.5</td><td>-27982.45</td></tr>\n",
       "</tbody>\n",
       "</table>\n"
      ],
      "text/latex": [
       "A data.frame: 5 × 3\n",
       "\\begin{tabular}{lll}\n",
       " Model & RSS & LogLikelihood\\\\\n",
       " <chr> & <dbl> & <dbl>\\\\\n",
       "\\hline\n",
       "\t Model 1 & 558810.1 & -32913.67\\\\\n",
       "\t Model 2 & 516315.9 & -32536.92\\\\\n",
       "\t Model 3 & 568957.4 & -32999.40\\\\\n",
       "\t Model 4 & 515095.0 & -32525.65\\\\\n",
       "\t Model 5 & 198462.5 & -27982.45\\\\\n",
       "\\end{tabular}\n"
      ],
      "text/markdown": [
       "\n",
       "A data.frame: 5 × 3\n",
       "\n",
       "| Model &lt;chr&gt; | RSS &lt;dbl&gt; | LogLikelihood &lt;dbl&gt; |\n",
       "|---|---|---|\n",
       "| Model 1 | 558810.1 | -32913.67 |\n",
       "| Model 2 | 516315.9 | -32536.92 |\n",
       "| Model 3 | 568957.4 | -32999.40 |\n",
       "| Model 4 | 515095.0 | -32525.65 |\n",
       "| Model 5 | 198462.5 | -27982.45 |\n",
       "\n"
      ],
      "text/plain": [
       "  Model   RSS      LogLikelihood\n",
       "1 Model 1 558810.1 -32913.67    \n",
       "2 Model 2 516315.9 -32536.92    \n",
       "3 Model 3 568957.4 -32999.40    \n",
       "4 Model 4 515095.0 -32525.65    \n",
       "5 Model 5 198462.5 -27982.45    "
      ]
     },
     "metadata": {},
     "output_type": "display_data"
    }
   ],
   "source": [
    "# Create comparison table of RSS and log-likelihoods: \n",
    "\n",
    "ll_comparison <- data.frame(\n",
    "  Model = c(\"Model 1\", \"Model 2\", \"Model 3\", \"Model 4\", \"Model 5\"),\n",
    "  RSS = c(rss1, rss2, rss3, rss4, rss5),\n",
    "  LogLikelihood = c(ll1, ll2, ll3, ll4, ll5)\n",
    ")\n",
    "\n",
    "# Print the log-likelihood values with RSS: \n",
    "ll_comparison"
   ]
  },
  {
   "cell_type": "markdown",
   "id": "d4af2277",
   "metadata": {},
   "source": [
    "###  **Task 2.4: Calculate AIC and BIC for each model:**"
   ]
  },
  {
   "cell_type": "code",
   "execution_count": 40,
   "id": "68a918dc",
   "metadata": {
    "vscode": {
     "languageId": "r"
    }
   },
   "outputs": [],
   "source": [
    "# Calculate AIC and BIC for each model:\n",
    "\n",
    "# AIC = 2k - 2ln p(D|θ̂)\n",
    "# BIC = k·ln(n) - 2ln p(D|θ̂)\n",
    "# Where:\n",
    "# - k is the number of parameters in the model\n",
    "# - n is the number of observations\n",
    "# - ln p(D|θ̂) is the log-likelihood function\n",
    "\n",
    "# First, determine the number of parameters (k) for each model\n",
    "# k includes all coefficients plus the variance parameter\n",
    "k1 <- ncol(X1)  # Model 1: bias, x4, x3²\n",
    "k2 <- ncol(X2)  # Model 2: bias, x4, x3², x5\n",
    "k3 <- ncol(X3)  # Model 3: x3, x4, x5³ (no bias)\n",
    "k4 <- ncol(X4)  # Model 4: bias, x4, x3², x5³\n",
    "k5 <- ncol(X5)  # Model 5: bias, x4, x1², x3²"
   ]
  },
  {
   "cell_type": "code",
   "execution_count": 41,
   "id": "3dca6f3d",
   "metadata": {
    "vscode": {
     "languageId": "r"
    }
   },
   "outputs": [
    {
     "data": {
      "text/html": [
       "3"
      ],
      "text/latex": [
       "3"
      ],
      "text/markdown": [
       "3"
      ],
      "text/plain": [
       "[1] 3"
      ]
     },
     "metadata": {},
     "output_type": "display_data"
    }
   ],
   "source": [
    "k1 # k-value for model 1"
   ]
  },
  {
   "cell_type": "code",
   "execution_count": 42,
   "id": "a66920be",
   "metadata": {
    "vscode": {
     "languageId": "r"
    }
   },
   "outputs": [],
   "source": [
    "# Function to calculate AIC and BIC:\n",
    "\n",
    "calculate_aic_bic <- function(log_likelihood, k, n) {\n",
    "  # Calculate AIC = 2k - 2ln p(D|θ̂)\n",
    "  aic <- 2*k - 2*log_likelihood\n",
    "  \n",
    "  # Calculate BIC = k·ln(n) - 2ln p(D|θ̂)\n",
    "  bic <- k*log(n) - 2*log_likelihood\n",
    "  \n",
    "  return(list(aic = aic, bic = bic))\n",
    "}"
   ]
  },
  {
   "cell_type": "code",
   "execution_count": 43,
   "id": "8835e96e",
   "metadata": {
    "vscode": {
     "languageId": "r"
    }
   },
   "outputs": [],
   "source": [
    "# Calculate AIC and BIC for each model\n",
    "\n",
    "aic_bic1 <- calculate_aic_bic(ll1, k1, n)\n",
    "aic_bic2 <- calculate_aic_bic(ll2, k2, n)\n",
    "aic_bic3 <- calculate_aic_bic(ll3, k3, n)\n",
    "aic_bic4 <- calculate_aic_bic(ll4, k4, n)\n",
    "aic_bic5 <- calculate_aic_bic(ll5, k5, n)"
   ]
  },
  {
   "cell_type": "code",
   "execution_count": 44,
   "id": "4a96948e",
   "metadata": {
    "vscode": {
     "languageId": "r"
    }
   },
   "outputs": [
    {
     "data": {
      "text/html": [
       "<dl>\n",
       "\t<dt>$aic</dt>\n",
       "\t\t<dd>65833.347964127</dd>\n",
       "\t<dt>$bic</dt>\n",
       "\t\t<dd>65854.8336195821</dd>\n",
       "</dl>\n"
      ],
      "text/latex": [
       "\\begin{description}\n",
       "\\item[\\$aic] 65833.347964127\n",
       "\\item[\\$bic] 65854.8336195821\n",
       "\\end{description}\n"
      ],
      "text/markdown": [
       "$aic\n",
       ":   65833.347964127\n",
       "$bic\n",
       ":   65854.8336195821\n",
       "\n",
       "\n"
      ],
      "text/plain": [
       "$aic\n",
       "[1] 65833.35\n",
       "\n",
       "$bic\n",
       "[1] 65854.83\n"
      ]
     },
     "metadata": {},
     "output_type": "display_data"
    }
   ],
   "source": [
    "aic_bic1 # An example to see how they look"
   ]
  },
  {
   "cell_type": "code",
   "execution_count": 45,
   "id": "db0101d7",
   "metadata": {
    "vscode": {
     "languageId": "r"
    }
   },
   "outputs": [
    {
     "name": "stdout",
     "output_type": "stream",
     "text": [
      "Model Comparison Table:\n"
     ]
    },
    {
     "data": {
      "text/html": [
       "<table class=\"dataframe\">\n",
       "<caption>A data.frame: 5 × 6</caption>\n",
       "<thead>\n",
       "\t<tr><th scope=col>Model</th><th scope=col>Parameters</th><th scope=col>RSS</th><th scope=col>LogLikelihood</th><th scope=col>AIC</th><th scope=col>BIC</th></tr>\n",
       "\t<tr><th scope=col>&lt;chr&gt;</th><th scope=col>&lt;int&gt;</th><th scope=col>&lt;dbl&gt;</th><th scope=col>&lt;dbl&gt;</th><th scope=col>&lt;dbl&gt;</th><th scope=col>&lt;dbl&gt;</th></tr>\n",
       "</thead>\n",
       "<tbody>\n",
       "\t<tr><td>Model 1</td><td>3</td><td>558810.1</td><td>-32913.67</td><td>65833.35</td><td>65854.83</td></tr>\n",
       "\t<tr><td>Model 2</td><td>4</td><td>516315.9</td><td>-32536.92</td><td>65081.85</td><td>65110.50</td></tr>\n",
       "\t<tr><td>Model 3</td><td>3</td><td>568957.4</td><td>-32999.40</td><td>66004.79</td><td>66026.28</td></tr>\n",
       "\t<tr><td>Model 4</td><td>4</td><td>515095.0</td><td>-32525.65</td><td>65059.29</td><td>65087.94</td></tr>\n",
       "\t<tr><td>Model 5</td><td>4</td><td>198462.5</td><td>-27982.45</td><td>55972.91</td><td>56001.55</td></tr>\n",
       "</tbody>\n",
       "</table>\n"
      ],
      "text/latex": [
       "A data.frame: 5 × 6\n",
       "\\begin{tabular}{llllll}\n",
       " Model & Parameters & RSS & LogLikelihood & AIC & BIC\\\\\n",
       " <chr> & <int> & <dbl> & <dbl> & <dbl> & <dbl>\\\\\n",
       "\\hline\n",
       "\t Model 1 & 3 & 558810.1 & -32913.67 & 65833.35 & 65854.83\\\\\n",
       "\t Model 2 & 4 & 516315.9 & -32536.92 & 65081.85 & 65110.50\\\\\n",
       "\t Model 3 & 3 & 568957.4 & -32999.40 & 66004.79 & 66026.28\\\\\n",
       "\t Model 4 & 4 & 515095.0 & -32525.65 & 65059.29 & 65087.94\\\\\n",
       "\t Model 5 & 4 & 198462.5 & -27982.45 & 55972.91 & 56001.55\\\\\n",
       "\\end{tabular}\n"
      ],
      "text/markdown": [
       "\n",
       "A data.frame: 5 × 6\n",
       "\n",
       "| Model &lt;chr&gt; | Parameters &lt;int&gt; | RSS &lt;dbl&gt; | LogLikelihood &lt;dbl&gt; | AIC &lt;dbl&gt; | BIC &lt;dbl&gt; |\n",
       "|---|---|---|---|---|---|\n",
       "| Model 1 | 3 | 558810.1 | -32913.67 | 65833.35 | 65854.83 |\n",
       "| Model 2 | 4 | 516315.9 | -32536.92 | 65081.85 | 65110.50 |\n",
       "| Model 3 | 3 | 568957.4 | -32999.40 | 66004.79 | 66026.28 |\n",
       "| Model 4 | 4 | 515095.0 | -32525.65 | 65059.29 | 65087.94 |\n",
       "| Model 5 | 4 | 198462.5 | -27982.45 | 55972.91 | 56001.55 |\n",
       "\n"
      ],
      "text/plain": [
       "  Model   Parameters RSS      LogLikelihood AIC      BIC     \n",
       "1 Model 1 3          558810.1 -32913.67     65833.35 65854.83\n",
       "2 Model 2 4          516315.9 -32536.92     65081.85 65110.50\n",
       "3 Model 3 3          568957.4 -32999.40     66004.79 66026.28\n",
       "4 Model 4 4          515095.0 -32525.65     65059.29 65087.94\n",
       "5 Model 5 4          198462.5 -27982.45     55972.91 56001.55"
      ]
     },
     "metadata": {},
     "output_type": "display_data"
    }
   ],
   "source": [
    "# Create a comparison table with AIC, BIC,\n",
    "# Log-Likelihood, RSS, number of parameters, and model names:\n",
    "\n",
    "aic_bic_comparison <- data.frame(\n",
    "  Model = c(\"Model 1\", \"Model 2\", \"Model 3\", \"Model 4\", \"Model 5\"),\n",
    "  Parameters = c(k1, k2, k3, k4, k5),\n",
    "  RSS = c(rss1, rss2, rss3, rss4, rss5),\n",
    "  LogLikelihood = c(ll1, ll2, ll3, ll4, ll5),\n",
    "  AIC = c(aic_bic1$aic, aic_bic2$aic, aic_bic3$aic, aic_bic4$aic, aic_bic5$aic),\n",
    "  BIC = c(aic_bic1$bic, aic_bic2$bic, aic_bic3$bic, aic_bic4$bic, aic_bic5$bic)\n",
    ")\n",
    "\n",
    "# Print the comparison table: \n",
    "cat(\"Model Comparison Table:\\n\")\n",
    "aic_bic_comparison"
   ]
  },
  {
   "cell_type": "code",
   "execution_count": 46,
   "id": "389e5515",
   "metadata": {
    "vscode": {
     "languageId": "r"
    }
   },
   "outputs": [
    {
     "name": "stdout",
     "output_type": "stream",
     "text": [
      "\n",
      "Better performing model according to RSS: Model 5 \n",
      "Better performing model according to AIC: Model 5 \n",
      "Better performing model according to BIC: Model 5 \n"
     ]
    }
   ],
   "source": [
    "# Identify the better performing model according to \n",
    "# each criterion:AIC, BIC, RSS and Log-Likelihood\n",
    "\n",
    "best_rss <- aic_bic_comparison$Model[which.min(aic_bic_comparison$RSS)] # low RSS is better\n",
    "best_aic <- aic_bic_comparison$Model[which.min(aic_bic_comparison$AIC)] # low AIC is better\n",
    "best_bic <- aic_bic_comparison$Model[which.min(aic_bic_comparison$BIC)] # low BIC is better\n",
    "\n",
    "cat(\"\\nBetter performing model according to RSS:\", best_rss, \"\\n\")\n",
    "cat(\"Better performing model according to AIC:\", best_aic, \"\\n\")\n",
    "cat(\"Better performing model according to BIC:\", best_bic, \"\\n\")"
   ]
  },
  {
   "cell_type": "code",
   "execution_count": 47,
   "id": "965b0d7e",
   "metadata": {
    "vscode": {
     "languageId": "r"
    }
   },
   "outputs": [],
   "source": [
    "# Store the results for later use\n",
    "aic_values <- c(\n",
    "  Model1 = aic_bic1$aic,\n",
    "  Model2 = aic_bic2$aic,\n",
    "  Model3 = aic_bic3$aic,\n",
    "  Model4 = aic_bic4$aic,\n",
    "  Model5 = aic_bic5$aic\n",
    ")"
   ]
  },
  {
   "cell_type": "code",
   "execution_count": 48,
   "id": "14bebe25",
   "metadata": {
    "vscode": {
     "languageId": "r"
    }
   },
   "outputs": [],
   "source": [
    "bic_values <- c(\n",
    "  Model1 = aic_bic1$bic,\n",
    "  Model2 = aic_bic2$bic,\n",
    "  Model3 = aic_bic3$bic,\n",
    "  Model4 = aic_bic4$bic,\n",
    "  Model5 = aic_bic5$bic\n",
    ")"
   ]
  },
  {
   "cell_type": "markdown",
   "id": "bf2deb93",
   "metadata": {},
   "source": [
    "##### **R-squared($R^2$), Adjusted R-squared ($R^2_{\\text{adj}}$), Root mean squared error ($RMSE$) and Mean percentage error ($MPE$):**"
   ]
  },
  {
   "cell_type": "markdown",
   "id": "2611bf41",
   "metadata": {},
   "source": [
    "R-squared also called the coefficient of determination is the measure of how much of the variance in the actual data is explained by the model. Its values ranges from 0 to 1. If we get the value 0 or close to it then this means the model explains nothing and if we get 1 or close to this value then it indicates a perfect fit. \n",
    "\n",
    "  $$R^2 = 1 - \\frac{SS_{\\text{res}}}{SS_{\\text{tot}}}$$\n",
    "\n",
    "  Where:\n",
    "  * $SS_{\\text{res}}$ = sum of squared residuals (errors)\n",
    "  * $SS_{\\text{tot}}$ = total sum of squares (variation in actual data)"
   ]
  },
  {
   "cell_type": "code",
   "execution_count": 49,
   "id": "3e040d13",
   "metadata": {
    "vscode": {
     "languageId": "r"
    }
   },
   "outputs": [
    {
     "data": {
      "text/html": [
       "558810.063026389"
      ],
      "text/latex": [
       "558810.063026389"
      ],
      "text/markdown": [
       "558810.063026389"
      ],
      "text/plain": [
       "[1] 558810.1"
      ]
     },
     "metadata": {},
     "output_type": "display_data"
    },
    {
     "data": {
      "text/html": [
       "516315.864810877"
      ],
      "text/latex": [
       "516315.864810877"
      ],
      "text/markdown": [
       "516315.864810877"
      ],
      "text/plain": [
       "[1] 516315.9"
      ]
     },
     "metadata": {},
     "output_type": "display_data"
    },
    {
     "data": {
      "text/html": [
       "568957.372863864"
      ],
      "text/latex": [
       "568957.372863864"
      ],
      "text/markdown": [
       "568957.372863864"
      ],
      "text/plain": [
       "[1] 568957.4"
      ]
     },
     "metadata": {},
     "output_type": "display_data"
    },
    {
     "data": {
      "text/html": [
       "515094.978374438"
      ],
      "text/latex": [
       "515094.978374438"
      ],
      "text/markdown": [
       "515094.978374438"
      ],
      "text/plain": [
       "[1] 515095"
      ]
     },
     "metadata": {},
     "output_type": "display_data"
    },
    {
     "data": {
      "text/html": [
       "198462.455464457"
      ],
      "text/latex": [
       "198462.455464457"
      ],
      "text/markdown": [
       "198462.455464457"
      ],
      "text/plain": [
       "[1] 198462.5"
      ]
     },
     "metadata": {},
     "output_type": "display_data"
    }
   ],
   "source": [
    "# RSS values calculated above:\n",
    "rss1 \n",
    "rss2\n",
    "rss3\n",
    "rss4\n",
    "rss5 "
   ]
  },
  {
   "cell_type": "code",
   "execution_count": 50,
   "id": "abc90573",
   "metadata": {
    "vscode": {
     "languageId": "r"
    }
   },
   "outputs": [],
   "source": [
    "# R-squared: Proportion of variance explained by the model\n",
    "r_squared <- function(y, y_pred) {\n",
    "  ss_res <- sum((y - y_pred)^2)           # Residual sum of squares\n",
    "  ss_tot <- sum((y - mean(y))^2)          # Total sum of squares\n",
    "  1 - ss_res / ss_tot                     # R-squared formula\n",
    "}"
   ]
  },
  {
   "cell_type": "markdown",
   "id": "1f6b616d",
   "metadata": {},
   "source": [
    "Adjusted R-squared ie. adjusted for number of predictions is similar to r-squared but it panelizes models with too many variables. \n",
    "This is suitable to compare different models with different number of predictors. This value increase only when adding a new feature(s) improves the model significantly. \n",
    "\n",
    "  $$R^2_{\\text{adj}} = 1 - \\left( \\frac{(1 - R^2)(n - 1)}{n - p - 1} \\right)$$\n",
    "\n",
    "  Where:\n",
    "\n",
    "  * $n$ = number of observations\n",
    "  * $p$ = number of predictors (independent variables)"
   ]
  },
  {
   "cell_type": "code",
   "execution_count": 51,
   "id": "8f21e10f",
   "metadata": {
    "vscode": {
     "languageId": "r"
    }
   },
   "outputs": [],
   "source": [
    "# Adjusted R-squared: Adjusts R^2 for number of predictors (p) and observations (n)\n",
    "# p = number of predictors (excluding intercept)\n",
    "adjusted_r_squared <- function(y, y_pred, p) {\n",
    "  n <- length(y)                          # Number of observations\n",
    "  r2 <- r_squared(y, y_pred)              # R-squared\n",
    "  1 - (1 - r2) * ((n - 1) / (n - p - 1))  # Adjusted R-squared formula\n",
    "}\n",
    "# actual is the vector of observed values (e.g., test or train y).\n",
    "# predicted is the vector of predicted values from the model.\n",
    "# p is the number of predictors (not including the intercept)."
   ]
  },
  {
   "cell_type": "markdown",
   "id": "2e834093",
   "metadata": {},
   "source": [
    "Root mean squared error(RMSE) also called average size of the error is the avrage size of the prediction errors. Lower the values, better the model is. One negative side of this is that it is sensitive to large errors because it squares the error terms. \n",
    "\n",
    " $$RMSE = \\sqrt{ \\frac{1}{n} \\sum_{i=1}^{n}(y_i - \\hat{y}_i)^2 }$$\n",
    "\n",
    "  Where:\n",
    "\n",
    "  * $y_i$ = actual value\n",
    "  * $\\hat{y}_i$ = predicted value\n",
    "  * $n$ = number of data points"
   ]
  },
  {
   "cell_type": "code",
   "execution_count": 52,
   "id": "e05d441b",
   "metadata": {
    "vscode": {
     "languageId": "r"
    }
   },
   "outputs": [],
   "source": [
    "# Root Mean Squared Error (RMSE): Average magnitude of prediction error\n",
    "# Function to calculate Root Mean Squared Error (RMSE)\n",
    "rmse <- function(y, y_pred) {\n",
    "  sqrt(mean((y - y_pred)^2))              # RMSE formula\n",
    "}"
   ]
  },
  {
   "cell_type": "markdown",
   "id": "3ee53a6d",
   "metadata": {},
   "source": [
    "Mean percentage error (MPE) also called average % difference tells on average how far off the model is, in percentage terms. Can represent the overprediction (ie. negative) or underprediction (ie. positive). \n",
    "\n",
    "  $$MPE = \\frac{1}{n} \\sum_{i=1}^{n} \\left( \\frac{y_i - \\hat{y}_i}{y_i} \\right) \\times 100$$\n",
    "\n",
    "  Where:\n",
    "\n",
    "  * Positive MPE → model tends to underpredict\n",
    "  * Negative MPE → model tends to overpredict\n",
    "  * $y_i \\neq 0$ is important to avoid division errors"
   ]
  },
  {
   "cell_type": "code",
   "execution_count": 53,
   "id": "bf5399f6",
   "metadata": {
    "vscode": {
     "languageId": "r"
    }
   },
   "outputs": [],
   "source": [
    "# Mean Percentage Error (MPE): Average percentage error (can be negative)\n",
    "# Function to calculate Mean Percentage Error (MPE)\n",
    "mpe <- function(y, y_pred) {\n",
    "  mean((y - y_pred) / y) * 100            # MPE formula (in percent)\n",
    "}"
   ]
  },
  {
   "cell_type": "code",
   "execution_count": 54,
   "id": "fdb8de8c",
   "metadata": {
    "vscode": {
     "languageId": "r"
    }
   },
   "outputs": [
    {
     "name": "stdout",
     "output_type": "stream",
     "text": [
      "    Model        R2    Adj_R2     RMSE         MPE\n",
      "1 Model 1 0.7979488 0.7979064 7.658682 -0.02753546\n",
      "2 Model 2 0.8133136 0.8132548 7.361726 -0.02538051\n",
      "3 Model 3 0.7942798 0.7942150 7.727905 -0.02896322\n",
      "4 Model 4 0.8137551 0.8136964 7.353017 -0.02532178\n",
      "5 Model 5 0.9282411 0.9282185 4.564162 -0.01009492\n"
     ]
    }
   ],
   "source": [
    "# Function to compute all metrics for a list of models\n",
    "evaluate_models <- function(y, model_list) {\n",
    "  results <- data.frame(\n",
    "    Model = character(),\n",
    "    R2 = numeric(),\n",
    "    Adj_R2 = numeric(),\n",
    "    RMSE = numeric(),\n",
    "    MPE = numeric(),\n",
    "    stringsAsFactors = FALSE\n",
    "  )\n",
    "  for (i in seq_along(model_list)) {\n",
    "    model <- model_list[[i]]\n",
    "    X <- model$X\n",
    "    theta <- model$theta\n",
    "    y_pred <- X %*% theta\n",
    "    p <- ncol(X) - as.integer(colnames(X)[1] == \"bias\") # exclude intercept if present\n",
    "    results <- rbind(results, data.frame(\n",
    "      Model = paste0(\"Model \", i),\n",
    "      R2 = r_squared(y, y_pred),\n",
    "      Adj_R2 = adjusted_r_squared(y, y_pred, p),\n",
    "      RMSE = rmse(y, y_pred),\n",
    "      MPE = mpe(y, y_pred)\n",
    "    ))\n",
    "  }\n",
    "  return(results)\n",
    "}\n",
    "\n",
    "# Prepare your models as a list\n",
    "model_list <- list(\n",
    "  list(X = X1, theta = theta1),\n",
    "  list(X = X2, theta = theta2),\n",
    "  list(X = X3, theta = theta3),\n",
    "  list(X = X4, theta = theta4),\n",
    "  list(X = X5, theta = theta5)\n",
    ")\n",
    "\n",
    "# Call the function and print the summary table\n",
    "metrics_summary <- evaluate_models(y, model_list)\n",
    "print(metrics_summary)"
   ]
  },
  {
   "cell_type": "markdown",
   "id": "f49edd3b",
   "metadata": {},
   "source": [
    "### **Task 2.5: Analyzing Residual Distributions:**\n",
    "\n",
    "**Understanding Residuals and Their Importance:**\n",
    "\n",
    "> $Residuals$ = $Actual$ $values$ - $Predicted$ $values$\n",
    " \n",
    "Residuals are the differences between observed values and model predictions. In regression analysis, we assume these residuals follow a normal distribution with mean zero. This assumption is crucial because:\n",
    "\n",
    "\n",
    "- It validates the statistical tests used in regression\n",
    "\n",
    "- It confirms that our model captures the systematic patterns in the data\n",
    "\n",
    "- It ensures prediction intervals are accurate\n",
    "\n",
    "- It indicates whether our model form is appropriate\n",
    "\n",
    "Let's first calculate and extract the residuals for each model:"
   ]
  },
  {
   "cell_type": "code",
   "execution_count": 55,
   "id": "cd23d1ab",
   "metadata": {
    "vscode": {
     "languageId": "r"
    }
   },
   "outputs": [
    {
     "name": "stdout",
     "output_type": "stream",
     "text": [
      "First few residuals for each model:\n"
     ]
    },
    {
     "data": {
      "text/html": [
       "<table class=\"dataframe\">\n",
       "<caption>A data.frame: 6 × 5</caption>\n",
       "<thead>\n",
       "\t<tr><th></th><th scope=col>Model1</th><th scope=col>Model2</th><th scope=col>Model3</th><th scope=col>Model4</th><th scope=col>Model5</th></tr>\n",
       "\t<tr><th></th><th scope=col>&lt;dbl&gt;</th><th scope=col>&lt;dbl&gt;</th><th scope=col>&lt;dbl&gt;</th><th scope=col>&lt;dbl&gt;</th><th scope=col>&lt;dbl&gt;</th></tr>\n",
       "</thead>\n",
       "<tbody>\n",
       "\t<tr><th scope=row>1</th><td>12.600369</td><td>11.085685</td><td> 8.568257</td><td>10.961994</td><td> 2.1117450</td></tr>\n",
       "\t<tr><th scope=row>2</th><td>-2.033020</td><td>-2.651892</td><td>-2.554337</td><td>-2.564005</td><td> 0.6075230</td></tr>\n",
       "\t<tr><th scope=row>3</th><td>-8.316513</td><td>-3.014048</td><td>-5.589774</td><td>-3.251239</td><td> 0.9377150</td></tr>\n",
       "\t<tr><th scope=row>4</th><td>-1.852457</td><td>-2.291955</td><td>-4.909931</td><td>-2.208376</td><td>-0.8681405</td></tr>\n",
       "\t<tr><th scope=row>5</th><td>-7.029623</td><td>-9.371600</td><td>-9.137398</td><td>-9.662198</td><td>-7.6155940</td></tr>\n",
       "\t<tr><th scope=row>6</th><td>-1.926094</td><td>-2.744397</td><td>-3.166952</td><td>-2.773088</td><td> 2.4674247</td></tr>\n",
       "</tbody>\n",
       "</table>\n"
      ],
      "text/latex": [
       "A data.frame: 6 × 5\n",
       "\\begin{tabular}{r|lllll}\n",
       "  & Model1 & Model2 & Model3 & Model4 & Model5\\\\\n",
       "  & <dbl> & <dbl> & <dbl> & <dbl> & <dbl>\\\\\n",
       "\\hline\n",
       "\t1 & 12.600369 & 11.085685 &  8.568257 & 10.961994 &  2.1117450\\\\\n",
       "\t2 & -2.033020 & -2.651892 & -2.554337 & -2.564005 &  0.6075230\\\\\n",
       "\t3 & -8.316513 & -3.014048 & -5.589774 & -3.251239 &  0.9377150\\\\\n",
       "\t4 & -1.852457 & -2.291955 & -4.909931 & -2.208376 & -0.8681405\\\\\n",
       "\t5 & -7.029623 & -9.371600 & -9.137398 & -9.662198 & -7.6155940\\\\\n",
       "\t6 & -1.926094 & -2.744397 & -3.166952 & -2.773088 &  2.4674247\\\\\n",
       "\\end{tabular}\n"
      ],
      "text/markdown": [
       "\n",
       "A data.frame: 6 × 5\n",
       "\n",
       "| <!--/--> | Model1 &lt;dbl&gt; | Model2 &lt;dbl&gt; | Model3 &lt;dbl&gt; | Model4 &lt;dbl&gt; | Model5 &lt;dbl&gt; |\n",
       "|---|---|---|---|---|---|\n",
       "| 1 | 12.600369 | 11.085685 |  8.568257 | 10.961994 |  2.1117450 |\n",
       "| 2 | -2.033020 | -2.651892 | -2.554337 | -2.564005 |  0.6075230 |\n",
       "| 3 | -8.316513 | -3.014048 | -5.589774 | -3.251239 |  0.9377150 |\n",
       "| 4 | -1.852457 | -2.291955 | -4.909931 | -2.208376 | -0.8681405 |\n",
       "| 5 | -7.029623 | -9.371600 | -9.137398 | -9.662198 | -7.6155940 |\n",
       "| 6 | -1.926094 | -2.744397 | -3.166952 | -2.773088 |  2.4674247 |\n",
       "\n"
      ],
      "text/plain": [
       "  Model1    Model2    Model3    Model4    Model5    \n",
       "1 12.600369 11.085685  8.568257 10.961994  2.1117450\n",
       "2 -2.033020 -2.651892 -2.554337 -2.564005  0.6075230\n",
       "3 -8.316513 -3.014048 -5.589774 -3.251239  0.9377150\n",
       "4 -1.852457 -2.291955 -4.909931 -2.208376 -0.8681405\n",
       "5 -7.029623 -9.371600 -9.137398 -9.662198 -7.6155940\n",
       "6 -1.926094 -2.744397 -3.166952 -2.773088  2.4674247"
      ]
     },
     "metadata": {},
     "output_type": "display_data"
    }
   ],
   "source": [
    "# Analysis of the Distribution of Residuals:\n",
    "\n",
    "# This analysis helps verify if model assumptions are met, particularly:\n",
    "# - Normality of residuals (should follow a normal distribution)\n",
    "# - Homoscedasticity (constant variance across predictions)\n",
    "# - Independence (no patterns in residuals)\n",
    "\n",
    "# Calculate residuals for each model: \n",
    "# Residuals = Actual values - Predicted values\n",
    "residuals1 <- y - X1 %*% theta1\n",
    "residuals2 <- y - X2 %*% theta2\n",
    "residuals3 <- y - X3 %*% theta3\n",
    "residuals4 <- y - X4 %*% theta4\n",
    "residuals5 <- y - X5 %*% theta5\n",
    "\n",
    "# Store residuals in a data frame for easier analysis\n",
    "residuals_df <- data.frame(\n",
    "  Model1 = as.vector(residuals1),\n",
    "  Model2 = as.vector(residuals2),\n",
    "  Model3 = as.vector(residuals3),\n",
    "  Model4 = as.vector(residuals4),\n",
    "  Model5 = as.vector(residuals5)\n",
    ")\n",
    "\n",
    "# Preview the first few residuals\n",
    "cat(\"First few residuals for each model:\\n\")\n",
    "head(residuals_df)"
   ]
  },
  {
   "cell_type": "code",
   "execution_count": 56,
   "id": "5cdda9fd",
   "metadata": {
    "vscode": {
     "languageId": "r"
    }
   },
   "outputs": [
    {
     "data": {
      "text/html": [
       "<style>\n",
       ".list-inline {list-style: none; margin:0; padding: 0}\n",
       ".list-inline>li {display: inline-block}\n",
       ".list-inline>li:not(:last-child)::after {content: \"\\00b7\"; padding: 0 .5ex}\n",
       "</style>\n",
       "<ol class=list-inline><li>9527</li><li>5</li></ol>\n"
      ],
      "text/latex": [
       "\\begin{enumerate*}\n",
       "\\item 9527\n",
       "\\item 5\n",
       "\\end{enumerate*}\n"
      ],
      "text/markdown": [
       "1. 9527\n",
       "2. 5\n",
       "\n",
       "\n"
      ],
      "text/plain": [
       "[1] 9527    5"
      ]
     },
     "metadata": {},
     "output_type": "display_data"
    }
   ],
   "source": [
    "dim(residuals_df)"
   ]
  },
  {
   "cell_type": "code",
   "execution_count": 57,
   "id": "2f7a2c0a",
   "metadata": {
    "vscode": {
     "languageId": "r"
    }
   },
   "outputs": [],
   "source": [
    "# Calculate basic statistics for residuals:\n",
    "\n",
    "# Function to calculate residual statistics: \n",
    "get_residual_stats <- function(residuals) {\n",
    "  data.frame(\n",
    "    Mean = mean(residuals),                # this should be close to zero\n",
    "    Median = median(residuals),            # this should be close to zero\n",
    "    SD = sd(residuals),                    # this is the measure of spread\n",
    "    Skewness = skewness(residuals),        # this should be close to 0 for normal distribution\n",
    "    Kurtosis = kurtosis(residuals),        # this should be close to 3 for normal distribution\n",
    "    Min = min(residuals),                  # the minimum residual for the model \n",
    "    Max = max(residuals),                  # maximum residual for model\n",
    "    Range = max(residuals) - min(residuals) # range of residuals: (max - min)\n",
    "  )\n",
    "}"
   ]
  },
  {
   "cell_type": "code",
   "execution_count": 58,
   "id": "e3e2e4d6",
   "metadata": {
    "vscode": {
     "languageId": "r"
    }
   },
   "outputs": [],
   "source": [
    "# Calculate statistics for each model: \n",
    "\n",
    "stats1 <- get_residual_stats(residuals1)\n",
    "stats2 <- get_residual_stats(residuals2)\n",
    "stats3 <- get_residual_stats(residuals3)\n",
    "stats4 <- get_residual_stats(residuals4)\n",
    "stats5 <- get_residual_stats(residuals5)"
   ]
  },
  {
   "cell_type": "code",
   "execution_count": 59,
   "id": "04461c82",
   "metadata": {
    "vscode": {
     "languageId": "r"
    }
   },
   "outputs": [
    {
     "name": "stdout",
     "output_type": "stream",
     "text": [
      "\n",
      "Residual Statistics:\n"
     ]
    },
    {
     "data": {
      "text/html": [
       "<table class=\"dataframe\">\n",
       "<caption>A data.frame: 5 × 8</caption>\n",
       "<thead>\n",
       "\t<tr><th></th><th scope=col>Mean</th><th scope=col>Median</th><th scope=col>SD</th><th scope=col>Skewness</th><th scope=col>Kurtosis</th><th scope=col>Min</th><th scope=col>Max</th><th scope=col>Range</th></tr>\n",
       "\t<tr><th></th><th scope=col>&lt;dbl&gt;</th><th scope=col>&lt;dbl&gt;</th><th scope=col>&lt;dbl&gt;</th><th scope=col>&lt;dbl&gt;</th><th scope=col>&lt;dbl&gt;</th><th scope=col>&lt;dbl&gt;</th><th scope=col>&lt;dbl&gt;</th><th scope=col>&lt;dbl&gt;</th></tr>\n",
       "</thead>\n",
       "<tbody>\n",
       "\t<tr><th scope=row>Model 1</th><td> 7.687799e-09</td><td>-0.28557072</td><td>7.659084</td><td> 0.14174837</td><td>3.783532</td><td>-37.78397</td><td>34.91952</td><td>72.70349</td></tr>\n",
       "\t<tr><th scope=row>Model 2</th><td>-1.829808e-09</td><td>-0.26363621</td><td>7.362112</td><td> 0.18432395</td><td>3.823095</td><td>-37.21709</td><td>32.06736</td><td>69.28444</td></tr>\n",
       "\t<tr><th scope=row>Model 3</th><td>-1.924974e-03</td><td>-0.04835623</td><td>7.728311</td><td>-0.04852534</td><td>3.800702</td><td>-37.78207</td><td>35.72619</td><td>73.50826</td></tr>\n",
       "\t<tr><th scope=row>Model 4</th><td>-3.562977e-08</td><td>-0.25279206</td><td>7.353403</td><td> 0.18648694</td><td>3.825071</td><td>-37.50547</td><td>31.93611</td><td>69.44158</td></tr>\n",
       "\t<tr><th scope=row>Model 5</th><td>-4.855548e-09</td><td>-0.01658536</td><td>4.564402</td><td>-0.47930255</td><td>6.549272</td><td>-46.63797</td><td>16.41039</td><td>63.04836</td></tr>\n",
       "</tbody>\n",
       "</table>\n"
      ],
      "text/latex": [
       "A data.frame: 5 × 8\n",
       "\\begin{tabular}{r|llllllll}\n",
       "  & Mean & Median & SD & Skewness & Kurtosis & Min & Max & Range\\\\\n",
       "  & <dbl> & <dbl> & <dbl> & <dbl> & <dbl> & <dbl> & <dbl> & <dbl>\\\\\n",
       "\\hline\n",
       "\tModel 1 &  7.687799e-09 & -0.28557072 & 7.659084 &  0.14174837 & 3.783532 & -37.78397 & 34.91952 & 72.70349\\\\\n",
       "\tModel 2 & -1.829808e-09 & -0.26363621 & 7.362112 &  0.18432395 & 3.823095 & -37.21709 & 32.06736 & 69.28444\\\\\n",
       "\tModel 3 & -1.924974e-03 & -0.04835623 & 7.728311 & -0.04852534 & 3.800702 & -37.78207 & 35.72619 & 73.50826\\\\\n",
       "\tModel 4 & -3.562977e-08 & -0.25279206 & 7.353403 &  0.18648694 & 3.825071 & -37.50547 & 31.93611 & 69.44158\\\\\n",
       "\tModel 5 & -4.855548e-09 & -0.01658536 & 4.564402 & -0.47930255 & 6.549272 & -46.63797 & 16.41039 & 63.04836\\\\\n",
       "\\end{tabular}\n"
      ],
      "text/markdown": [
       "\n",
       "A data.frame: 5 × 8\n",
       "\n",
       "| <!--/--> | Mean &lt;dbl&gt; | Median &lt;dbl&gt; | SD &lt;dbl&gt; | Skewness &lt;dbl&gt; | Kurtosis &lt;dbl&gt; | Min &lt;dbl&gt; | Max &lt;dbl&gt; | Range &lt;dbl&gt; |\n",
       "|---|---|---|---|---|---|---|---|---|\n",
       "| Model 1 |  7.687799e-09 | -0.28557072 | 7.659084 |  0.14174837 | 3.783532 | -37.78397 | 34.91952 | 72.70349 |\n",
       "| Model 2 | -1.829808e-09 | -0.26363621 | 7.362112 |  0.18432395 | 3.823095 | -37.21709 | 32.06736 | 69.28444 |\n",
       "| Model 3 | -1.924974e-03 | -0.04835623 | 7.728311 | -0.04852534 | 3.800702 | -37.78207 | 35.72619 | 73.50826 |\n",
       "| Model 4 | -3.562977e-08 | -0.25279206 | 7.353403 |  0.18648694 | 3.825071 | -37.50547 | 31.93611 | 69.44158 |\n",
       "| Model 5 | -4.855548e-09 | -0.01658536 | 4.564402 | -0.47930255 | 6.549272 | -46.63797 | 16.41039 | 63.04836 |\n",
       "\n"
      ],
      "text/plain": [
       "        Mean          Median      SD       Skewness    Kurtosis Min      \n",
       "Model 1  7.687799e-09 -0.28557072 7.659084  0.14174837 3.783532 -37.78397\n",
       "Model 2 -1.829808e-09 -0.26363621 7.362112  0.18432395 3.823095 -37.21709\n",
       "Model 3 -1.924974e-03 -0.04835623 7.728311 -0.04852534 3.800702 -37.78207\n",
       "Model 4 -3.562977e-08 -0.25279206 7.353403  0.18648694 3.825071 -37.50547\n",
       "Model 5 -4.855548e-09 -0.01658536 4.564402 -0.47930255 6.549272 -46.63797\n",
       "        Max      Range   \n",
       "Model 1 34.91952 72.70349\n",
       "Model 2 32.06736 69.28444\n",
       "Model 3 35.72619 73.50826\n",
       "Model 4 31.93611 69.44158\n",
       "Model 5 16.41039 63.04836"
      ]
     },
     "metadata": {},
     "output_type": "display_data"
    }
   ],
   "source": [
    "# Combine all statistics into a single table for better comparision: \n",
    "\n",
    "residual_stats <- rbind(stats1, stats2, stats3, stats4, stats5)\n",
    "rownames(residual_stats) <- c(\"Model 1\", \"Model 2\", \"Model 3\", \"Model 4\", \"Model 5\")\n",
    "\n",
    "# Print the statistics: \n",
    "cat(\"\\nResidual Statistics:\\n\")\n",
    "residual_stats"
   ]
  },
  {
   "cell_type": "markdown",
   "id": "886b818e",
   "metadata": {},
   "source": [
    "#### **Normality Tests for the Distribution of Residuals:**"
   ]
  },
  {
   "cell_type": "markdown",
   "id": "543b41ac",
   "metadata": {},
   "source": [
    "**Histograms with Density + Rug plts:**"
   ]
  },
  {
   "cell_type": "code",
   "execution_count": 60,
   "id": "274eb385",
   "metadata": {
    "vscode": {
     "languageId": "r"
    }
   },
   "outputs": [
    {
     "name": "stderr",
     "output_type": "stream",
     "text": [
      "No id variables; using all as measure variables\n",
      "\n"
     ]
    },
    {
     "data": {
      "image/png": "[encoded data removed]"
     },
     "metadata": {
      "image/png": {
       "height": 480,
       "width": 1200
      }
     },
     "output_type": "display_data"
    }
   ],
   "source": [
    "# hide warnings;\n",
    "options(warn = -1)\n",
    "\n",
    "# Load necessary libraries\n",
    "library(ggplot2)\n",
    "library(reshape2)\n",
    "\n",
    "# Convert wide-format residuals data frame to long-format for ggplot\n",
    "# This makes plotting multiple models easier using 'facet_wrap'\n",
    "residuals_long <- melt(\n",
    "  residuals_df,\n",
    "  variable.name = \"Model\",    # Name for the column containing model names\n",
    "  value.name = \"Residual\"     # Name for the column containing residuals\n",
    ")\n",
    "\n",
    "# Create histogram plot with density overlay and rug plot for each model\n",
    "hist_plot <- ggplot(residuals_long, aes(x = Residual)) +\n",
    "  \n",
    "  # Plot histogram of residuals with density scaling\n",
    "  geom_histogram(\n",
    "    aes(y = ..density..),     # Use density instead of raw counts\n",
    "    bins = 30,                # Number of bins in histogram\n",
    "    fill = \"skyblue\",         # Bar fill color\n",
    "    color = \"white\",          # Border color of bars\n",
    "    alpha = 0.7               # Transparency for visual softness\n",
    "  ) +\n",
    "  \n",
    "  # Add actual density curve (smooth estimate of distribution)\n",
    "  geom_density(\n",
    "    color = \"darkblue\",       # Line color for density\n",
    "    linewidth = 1             # Line thickness\n",
    "  ) +\n",
    "  \n",
    "  # Add rug plot for residuals (shows individual values)\n",
    "  geom_rug(\n",
    "    aes(x = Residual), \n",
    "    sides = \"b\", \n",
    "    color = \"black\", \n",
    "    alpha = 0.3, \n",
    "    length = unit(0.08, \"npc\")\n",
    "  ) +\n",
    "  \n",
    "  # Facet the plot by each model so each gets its own histogram\n",
    "  facet_wrap(~ Model, scales = \"free_y\") +\n",
    "  \n",
    "  # Add informative titles and axis labels\n",
    "  labs(\n",
    "    title = \"Residual Distributions Across Models\",\n",
    "    subtitle = \"Histogram with Density Curve (Blue) and Rug Plot (Black)\",\n",
    "    x = \"Residual Value\",\n",
    "    y = \"Density\"\n",
    "  ) +\n",
    "  \n",
    "  # Use a clean minimal theme for clarity\n",
    "  theme_minimal() +\n",
    "  theme(\n",
    "    strip.text = element_text(size = 12, face = \"bold\"),     # Model names\n",
    "    plot.title = element_text(hjust = 0.5, face = \"bold\"),   # Centered bold title\n",
    "    plot.subtitle = element_text(hjust = 0.5)                # Centered subtitle\n",
    "  )\n",
    "\n",
    "# Show the plot\n",
    "print(hist_plot)\n",
    "# Reset warnings settings:\n",
    "options(warn = 0)"
   ]
  },
  {
   "cell_type": "markdown",
   "id": "915e02f4",
   "metadata": {},
   "source": [
    "**QQ-Plots for Normality Check:** \n",
    "\n",
    "Q-Q plot (Quantile-Quantile plot) compares the quantiles of the residuals (sample quantiles) to the quantiles of a theoretical distribution (commonly the standard normal distribution). If the residuals are normally distributed, the points should fall approximately along a straight 45-degree reference line. Deviation from this line, especially in the tails, suggests non-normality."
   ]
  },
  {
   "cell_type": "code",
   "execution_count": 61,
   "id": "732cf21a",
   "metadata": {
    "vscode": {
     "languageId": "r"
    }
   },
   "outputs": [
    {
     "data": {
      "image/png": "[encoded data removed]"
     },
     "metadata": {
      "image/png": {
       "height": 480,
       "width": 1200
      }
     },
     "output_type": "display_data"
    }
   ],
   "source": [
    "# Load required libraries\n",
    "library(ggplot2)      # For creating the Q-Q plot\n",
    "library(gridExtra)    # For arranging multiple plots (if needed)\n",
    "\n",
    "#' Create a Quantile-Quantile (Q-Q) Plot Residuals\n",
    "#' \n",
    "#'Creates a Q-Q plot against the standard normal distribution.\n",
    "#'\n",
    "#' @param residuals Numeric vector of model residuals (must be clean)\n",
    "#' @param model_name Character string for plot title (default: \"Model\")\n",
    "#' @param point_color Color for Q-Q points (default: \"steelblue\")\n",
    "#' @param point_alpha Transparency for points (default: 0.7)\n",
    "#' @param point_size Size of points (default: 2)\n",
    "#' @param line_color Color for reference line (default: \"red\")\n",
    "#' @param line_type Linetype for reference line (default: \"dashed\")\n",
    "#' @param line_width Width of reference line (default: 0.8)\n",
    "#' \n",
    "#' @return A ggplot object containing the Q-Q plot\n",
    "create_qq_plot <- function(residuals, \n",
    "                                model_name = \"Model\", \n",
    "                                point_color = \"steelblue\",\n",
    "                                point_alpha = 0.7,\n",
    "                                point_size = 2,\n",
    "                                line_color = \"red\",\n",
    "                                line_type = \"dashed\",\n",
    "                                line_width = 0.8) {\n",
    "\n",
    "  # Calculate Theoretical and Sample Quantiles\n",
    "  # Get number of observations\n",
    "  n <- length(residuals)\n",
    "  \n",
    "  # Calculate probability points using Blom's method\n",
    "  # (1:n - 0.5)/n gives unbiased quantile estimates for normal distribution\n",
    "  p <- (1:n - 0.5) / n\n",
    "  \n",
    "  # Get theoretical quantiles from standard normal distribution\n",
    "  theoretical_q <- qnorm(p)\n",
    "  \n",
    "  # Get empirical quantiles by sorting the residuals\n",
    "  empirical_q <- sort(residuals)\n",
    "  \n",
    "  # Prepare Data for Plotting\n",
    "\n",
    "  # Create data frame for ggplot\n",
    "  qq_data <- data.frame(\n",
    "    Theoretical = theoretical_q,  # x-axis values\n",
    "    Empirical = empirical_q       # y-axis values\n",
    "  )\n",
    "  \n",
    "  # Calculate parameters for reference line\n",
    "  # Using mean and sd of residuals makes the line represent\n",
    "  # what we would expect if residuals were perfectly normal\n",
    "  ref_intercept <- mean(residuals)\n",
    "  ref_slope <- sd(residuals)\n",
    "  \n",
    "  # Create the Q-Q Plot: \n",
    "  \n",
    "  # Initialize ggplot with our data\n",
    "  qq_plot <- ggplot(qq_data, aes(x = Theoretical, y = Empirical)) +\n",
    "    \n",
    "    # Add the points for the Q-Q plot\n",
    "    geom_point(\n",
    "      color = point_color,      # Point color from parameters\n",
    "      alpha = point_alpha,      # Transparency from parameters\n",
    "      size = point_size,        # Size from parameters\n",
    "      shape = 16                # Solid circle shape (16 is ggplot's default)\n",
    "    ) +\n",
    "    \n",
    "    # Add the reference line\n",
    "    # This line shows what perfect normality would look like\n",
    "    geom_abline(\n",
    "      intercept = ref_intercept,  # Line intercept (mean of residuals)\n",
    "      slope = ref_slope,          # Line slope (sd of residuals)\n",
    "      color = line_color,         # Line color from parameters\n",
    "      linetype = line_type,       # Line type from parameters\n",
    "      linewidth = line_width      # Line width from parameters\n",
    "    ) +\n",
    "    \n",
    "    # Add labels and title\n",
    "    labs(\n",
    "      title = paste(\"Q-Q Plot for\", model_name),  # Dynamic title with model name\n",
    "      x = \"Theoretical Quantiles (Standard Normal)\",  # x-axis label\n",
    "      y = \"Sample Quantiles\"                     # y-axis label\n",
    "    ) +\n",
    "    \n",
    "    # Apply minimal theme (clean background)\n",
    "    theme_minimal() +\n",
    "    \n",
    "    # Customize theme elements\n",
    "    theme(\n",
    "      plot.title = element_text(\n",
    "        hjust = 0.5,            # Center the title\n",
    "        face = \"bold\",          # Bold font\n",
    "        size = 12,             # Slightly larger size\n",
    "        margin = margin(b = 10) # Add space below title\n",
    "      ),\n",
    "      panel.grid.minor = element_blank(),  # Remove minor grid lines\n",
    "      panel.grid.major = element_line(color = \"grey90\"),  # Light grid lines\n",
    "      axis.line = element_line(color = \"black\")  # Add axis lines\n",
    "    )\n",
    "  \n",
    "  # Return the plot object\n",
    "  return(qq_plot)\n",
    "}\n",
    "# Example usage (assuming residuals1-residuals5 exist):\n",
    "qq1 <- create_qq_plot(residuals1, \"Model 1\", point_color= \"blue\")\n",
    "qq2 <- create_qq_plot(residuals2, \"Model 2\", point_color= \"forestgreen\")\n",
    "qq3 <- create_qq_plot(residuals3, \"Model 3\", point_color=\"orange\" )\n",
    "qq4 <- create_qq_plot(residuals4, \"Model 4\", point_color= \"brown\")\n",
    "qq5 <- create_qq_plot(residuals5, \"Model 5\", point_color= \"purple\")\n",
    "\n",
    "# Arrange plots with proper layout\n",
    "combined_qq <- grid.arrange(\n",
    "   qq1, qq2, qq3, qq4, qq5,\n",
    "   ncol = 2,\n",
    "   top = \"Comparative Q-Q Plots of Model Residuals\"\n",
    " )"
   ]
  },
  {
   "cell_type": "markdown",
   "id": "abcc2a1a",
   "metadata": {},
   "source": [
    "We want to compare each model’s residuals against the standard normal distribution (mean 0, sd 1), so first we standardize the residuals for each model."
   ]
  },
  {
   "cell_type": "code",
   "execution_count": 62,
   "id": "80c6545d",
   "metadata": {
    "vscode": {
     "languageId": "r"
    }
   },
   "outputs": [],
   "source": [
    "residuals1_std <- scale(residuals1)\n",
    "residuals2_std <- scale(residuals2)\n",
    "residuals3_std <- scale(residuals3)\n",
    "residuals4_std <- scale(residuals4)\n",
    "residuals5_std <- scale(residuals5)"
   ]
  },
  {
   "cell_type": "markdown",
   "id": "78c3e1f5",
   "metadata": {},
   "source": [
    "Now, plot the qq-plots for the standardized residuals of all the models:"
   ]
  },
  {
   "cell_type": "code",
   "execution_count": 63,
   "id": "3ec4b1f9",
   "metadata": {
    "vscode": {
     "languageId": "r"
    }
   },
   "outputs": [
    {
     "data": {
      "image/png": "[encoded data removed]"
     },
     "metadata": {
      "image/png": {
       "height": 480,
       "width": 1200
      }
     },
     "output_type": "display_data"
    }
   ],
   "source": [
    "# Load required libraries\n",
    "library(ggplot2)    # For creating plots\n",
    "library(gridExtra)  # For arranging multiple plots in a grid\n",
    "\n",
    "# Function to create a Q-Q plot for standardized residuals\n",
    "create_qq_plot <- function(residuals_std, model_name, point_color) {\n",
    "\n",
    "  # Get the number of residuals\n",
    "  n <- length(residuals_std)\n",
    "\n",
    "  # Compute the percentiles for the residuals\n",
    "  # These are used to get the corresponding theoretical quantiles\n",
    "  p <- (1:n - 0.5) / n\n",
    "\n",
    "  # Compute the theoretical quantiles from the standard normal distribution\n",
    "  theoretical_q <- qnorm(p)\n",
    "\n",
    "  # Sort the standardized residuals to get empirical quantiles\n",
    "  empirical_q <- sort(residuals_std)\n",
    "\n",
    "  # Create a data frame with both quantiles for plotting\n",
    "  qq_data <- data.frame(\n",
    "    Theoretical = theoretical_q,\n",
    "    Empirical = empirical_q\n",
    "  )\n",
    "\n",
    "  # Create the Q-Q plot\n",
    "  ggplot(qq_data, aes(x = Theoretical, y = Empirical)) +\n",
    "    geom_point(color = point_color, alpha = 0.6) +  # Add the points (empirical vs theoretical)\n",
    "    \n",
    "    # Add a 45-degree reference line (y = x), indicating perfect normality\n",
    "    geom_abline(intercept = 0, slope = 1, color = \"red\", \n",
    "                linetype = \"dashed\", linewidth = 1) +\n",
    "\n",
    "    # Add titles and axis labels\n",
    "    labs(\n",
    "      title = paste(\"Q-Q Plot for\", model_name),\n",
    "      x = \"Theoretical Quantiles (N(0,1))\",\n",
    "      y = \"Standardized Residual Quantiles\"\n",
    "    ) +\n",
    "\n",
    "    # Use a minimal theme for a clean look\n",
    "    theme_minimal() +\n",
    "\n",
    "    # Customize the plot title appearance\n",
    "    theme(\n",
    "      plot.title = element_text(hjust = 0.5, face = \"bold\", size = 12)\n",
    "    )\n",
    "}\n",
    "\n",
    "# Create Q-Q plots for each model using their standardized residuals and a unique color\n",
    "qq1 <- create_qq_plot(residuals1_std, \"Model 1\", \"blue\")\n",
    "qq2 <- create_qq_plot(residuals2_std, \"Model 2\", \"forestgreen\")\n",
    "qq3 <- create_qq_plot(residuals3_std, \"Model 3\", \"purple\")\n",
    "qq4 <- create_qq_plot(residuals4_std, \"Model 4\", \"orange\")\n",
    "qq5 <- create_qq_plot(residuals5_std, \"Model 5\", \"brown\")\n",
    "\n",
    "# Display all five plots in a 2-column grid layout\n",
    "# This helps visually compare the residual normality across models\n",
    "grid.arrange(qq1, qq2, qq3, qq4, qq5, ncol = 2)"
   ]
  },
  {
   "cell_type": "markdown",
   "id": "10558014",
   "metadata": {},
   "source": [
    "##### **Proportion of Residuals within different Standard Deviation Ranges:**"
   ]
  },
  {
   "cell_type": "code",
   "execution_count": 64,
   "id": "597a9f1c",
   "metadata": {
    "vscode": {
     "languageId": "r"
    }
   },
   "outputs": [
    {
     "name": "stdout",
     "output_type": "stream",
     "text": [
      "\n",
      "Normality Distribution Measures:\n"
     ]
    },
    {
     "data": {
      "text/html": [
       "<table class=\"dataframe\">\n",
       "<caption>A data.frame: 5 × 6</caption>\n",
       "<thead>\n",
       "\t<tr><th scope=col>Model</th><th scope=col>Within1SD</th><th scope=col>Within2SD</th><th scope=col>Within3SD</th><th scope=col>Skewness</th><th scope=col>ExcessKurtosis</th></tr>\n",
       "\t<tr><th scope=col>&lt;chr&gt;</th><th scope=col>&lt;chr&gt;</th><th scope=col>&lt;chr&gt;</th><th scope=col>&lt;chr&gt;</th><th scope=col>&lt;dbl&gt;</th><th scope=col>&lt;dbl&gt;</th></tr>\n",
       "</thead>\n",
       "<tbody>\n",
       "\t<tr><td>Model 1</td><td>70.81% (Exp: 68.27%)</td><td>94.91% (Exp: 95.45%)</td><td>99.34% (Exp: 99.73%)</td><td> 0.1417</td><td>0.7835</td></tr>\n",
       "\t<tr><td>Model 2</td><td>70.69% (Exp: 68.27%)</td><td>95.17% (Exp: 95.45%)</td><td>99.28% (Exp: 99.73%)</td><td> 0.1843</td><td>0.8231</td></tr>\n",
       "\t<tr><td>Model 3</td><td>70.83% (Exp: 68.27%)</td><td>94.77% (Exp: 95.45%)</td><td>99.38% (Exp: 99.73%)</td><td>-0.0485</td><td>0.8007</td></tr>\n",
       "\t<tr><td>Model 4</td><td>70.65% (Exp: 68.27%)</td><td>95.14% (Exp: 95.45%)</td><td>99.24% (Exp: 99.73%)</td><td> 0.1865</td><td>0.8251</td></tr>\n",
       "\t<tr><td>Model 5</td><td>69.00% (Exp: 68.27%)</td><td>96.56% (Exp: 95.45%)</td><td>99.55% (Exp: 99.73%)</td><td>-0.4793</td><td>3.5493</td></tr>\n",
       "</tbody>\n",
       "</table>\n"
      ],
      "text/latex": [
       "A data.frame: 5 × 6\n",
       "\\begin{tabular}{llllll}\n",
       " Model & Within1SD & Within2SD & Within3SD & Skewness & ExcessKurtosis\\\\\n",
       " <chr> & <chr> & <chr> & <chr> & <dbl> & <dbl>\\\\\n",
       "\\hline\n",
       "\t Model 1 & 70.81\\% (Exp: 68.27\\%) & 94.91\\% (Exp: 95.45\\%) & 99.34\\% (Exp: 99.73\\%) &  0.1417 & 0.7835\\\\\n",
       "\t Model 2 & 70.69\\% (Exp: 68.27\\%) & 95.17\\% (Exp: 95.45\\%) & 99.28\\% (Exp: 99.73\\%) &  0.1843 & 0.8231\\\\\n",
       "\t Model 3 & 70.83\\% (Exp: 68.27\\%) & 94.77\\% (Exp: 95.45\\%) & 99.38\\% (Exp: 99.73\\%) & -0.0485 & 0.8007\\\\\n",
       "\t Model 4 & 70.65\\% (Exp: 68.27\\%) & 95.14\\% (Exp: 95.45\\%) & 99.24\\% (Exp: 99.73\\%) &  0.1865 & 0.8251\\\\\n",
       "\t Model 5 & 69.00\\% (Exp: 68.27\\%) & 96.56\\% (Exp: 95.45\\%) & 99.55\\% (Exp: 99.73\\%) & -0.4793 & 3.5493\\\\\n",
       "\\end{tabular}\n"
      ],
      "text/markdown": [
       "\n",
       "A data.frame: 5 × 6\n",
       "\n",
       "| Model &lt;chr&gt; | Within1SD &lt;chr&gt; | Within2SD &lt;chr&gt; | Within3SD &lt;chr&gt; | Skewness &lt;dbl&gt; | ExcessKurtosis &lt;dbl&gt; |\n",
       "|---|---|---|---|---|---|\n",
       "| Model 1 | 70.81% (Exp: 68.27%) | 94.91% (Exp: 95.45%) | 99.34% (Exp: 99.73%) |  0.1417 | 0.7835 |\n",
       "| Model 2 | 70.69% (Exp: 68.27%) | 95.17% (Exp: 95.45%) | 99.28% (Exp: 99.73%) |  0.1843 | 0.8231 |\n",
       "| Model 3 | 70.83% (Exp: 68.27%) | 94.77% (Exp: 95.45%) | 99.38% (Exp: 99.73%) | -0.0485 | 0.8007 |\n",
       "| Model 4 | 70.65% (Exp: 68.27%) | 95.14% (Exp: 95.45%) | 99.24% (Exp: 99.73%) |  0.1865 | 0.8251 |\n",
       "| Model 5 | 69.00% (Exp: 68.27%) | 96.56% (Exp: 95.45%) | 99.55% (Exp: 99.73%) | -0.4793 | 3.5493 |\n",
       "\n"
      ],
      "text/plain": [
       "  Model   Within1SD            Within2SD            Within3SD           \n",
       "1 Model 1 70.81% (Exp: 68.27%) 94.91% (Exp: 95.45%) 99.34% (Exp: 99.73%)\n",
       "2 Model 2 70.69% (Exp: 68.27%) 95.17% (Exp: 95.45%) 99.28% (Exp: 99.73%)\n",
       "3 Model 3 70.83% (Exp: 68.27%) 94.77% (Exp: 95.45%) 99.38% (Exp: 99.73%)\n",
       "4 Model 4 70.65% (Exp: 68.27%) 95.14% (Exp: 95.45%) 99.24% (Exp: 99.73%)\n",
       "5 Model 5 69.00% (Exp: 68.27%) 96.56% (Exp: 95.45%) 99.55% (Exp: 99.73%)\n",
       "  Skewness ExcessKurtosis\n",
       "1  0.1417  0.7835        \n",
       "2  0.1843  0.8231        \n",
       "3 -0.0485  0.8007        \n",
       "4  0.1865  0.8251        \n",
       "5 -0.4793  3.5493        "
      ]
     },
     "metadata": {},
     "output_type": "display_data"
    }
   ],
   "source": [
    "# Calculate proportion of residuals within different standard deviation ranges\n",
    "\n",
    "# For a normal distribution:\n",
    "# - ~68% of values should be within 1 standard deviation of the mean\n",
    "# - ~95% of values should be within 2 standard deviations\n",
    "# - ~99.7% of values should be within 3 standard deviations\n",
    "\n",
    "# Function to calculate normality measures\n",
    "calculate_normality_measures <- function(residuals, model_name) {\n",
    "  # Calculate basic statistics\n",
    "  mean_val <- mean(residuals)\n",
    "  median_val <- median(residuals)\n",
    "  sd_val <- sd(residuals)\n",
    "  \n",
    "  # Calculate standardized residuals\n",
    "  std_residuals <- (residuals - mean_val) / sd_val\n",
    "  \n",
    "  # Calculate proportion within different SD ranges\n",
    "  within_1sd <- mean(abs(std_residuals) <= 1) * 100\n",
    "  within_2sd <- mean(abs(std_residuals) <= 2) * 100\n",
    "  within_3sd <- mean(abs(std_residuals) <= 3) * 100\n",
    "  \n",
    "  # Expected proportions for normal distribution\n",
    "  expected_1sd <- 68.27\n",
    "  expected_2sd <- 95.45\n",
    "  expected_3sd <- 99.73\n",
    "  \n",
    "  # Create results data frame\n",
    "  data.frame(\n",
    "    Model = model_name,\n",
    "    Within1SD = sprintf(\"%.2f%% (Exp: 68.27%%)\", within_1sd),\n",
    "    Within2SD = sprintf(\"%.2f%% (Exp: 95.45%%)\", within_2sd),\n",
    "    Within3SD = sprintf(\"%.2f%% (Exp: 99.73%%)\", within_3sd),\n",
    "    Skewness = round(skewness(residuals), 4),\n",
    "    ExcessKurtosis = round(kurtosis(residuals) - 3, 4)\n",
    "  )\n",
    "}\n",
    "\n",
    "# Calculate measures for each model\n",
    "measures1 <- calculate_normality_measures(residuals1, \"Model 1\")\n",
    "measures2 <- calculate_normality_measures(residuals2, \"Model 2\")\n",
    "measures3 <- calculate_normality_measures(residuals3, \"Model 3\")\n",
    "measures4 <- calculate_normality_measures(residuals4, \"Model 4\")\n",
    "measures5 <- calculate_normality_measures(residuals5, \"Model 5\")\n",
    "\n",
    "# Combine results\n",
    "normality_measures <- rbind(measures1, measures2, measures3, measures4, measures5)\n",
    "\n",
    "# Print results\n",
    "cat(\"\\nNormality Distribution Measures:\\n\")\n",
    "normality_measures"
   ]
  },
  {
   "cell_type": "markdown",
   "id": "267895d0",
   "metadata": {},
   "source": [
    "##### **Residuals vs. Fitted Values:**"
   ]
  },
  {
   "cell_type": "code",
   "execution_count": 65,
   "id": "0e07151b",
   "metadata": {
    "vscode": {
     "languageId": "r"
    }
   },
   "outputs": [
    {
     "name": "stderr",
     "output_type": "stream",
     "text": [
      "\u001b[1m\u001b[22m`geom_smooth()` using formula = 'y ~ x'\n",
      "\u001b[1m\u001b[22m`geom_smooth()` using formula = 'y ~ x'\n",
      "\u001b[1m\u001b[22m`geom_smooth()` using formula = 'y ~ x'\n",
      "\u001b[1m\u001b[22m`geom_smooth()` using formula = 'y ~ x'\n",
      "\u001b[1m\u001b[22m`geom_smooth()` using formula = 'y ~ x'\n"
     ]
    },
    {
     "data": {
      "image/png": "[encoded data removed]"
     },
     "metadata": {
      "image/png": {
       "height": 480,
       "width": 1200
      }
     },
     "output_type": "display_data"
    }
   ],
   "source": [
    "# Create residual plots (residuals vs. fitted values):\n",
    "\n",
    "# These plots help check for homoscedasticity and patterns in residuals\n",
    "\n",
    "# Function to create residual vs. fitted plot: \n",
    "create_residual_plot <- function(X, theta, residuals, model_name) {\n",
    "  # Calculate fitted values\n",
    "  fitted_values <- X %*% theta\n",
    "  \n",
    "  # Create data frame for plotting\n",
    "  plot_data <- data.frame(\n",
    "    Fitted = as.vector(fitted_values),\n",
    "    Residual = as.vector(residuals)\n",
    "  )\n",
    "  \n",
    "  # Create the plot\n",
    "  ggplot(plot_data, aes(x = Fitted, y = Residual)) +\n",
    "    geom_point(alpha = 0.5, color = \"#4b4bb5\") +\n",
    "    geom_hline(yintercept = 0, linetype = \"solid\", color = \"red\") +\n",
    "    geom_smooth(method = \"loess\", se = FALSE, color = \"#06f706\") +\n",
    "    labs(title = paste(\"Residuals vs. Fitted Values for\", model_name),\n",
    "         x = \"Fitted Values\",\n",
    "         y = \"Residuals\") +\n",
    "    theme_minimal() +\n",
    "    theme(\n",
    "      plot.title = element_text(hjust = 0.5, face = \"bold\"),\n",
    "      plot.subtitle = element_text(hjust = 0.5)\n",
    "    )\n",
    "}\n",
    "\n",
    "# Create residual plots for each model\n",
    "res_plot1 <- create_residual_plot(X1, theta1, residuals_df$Model1, \"Model 1\")\n",
    "res_plot2 <- create_residual_plot(X2, theta2, residuals_df$Model2, \"Model 2\")\n",
    "res_plot3 <- create_residual_plot(X3, theta3, residuals_df$Model3, \"Model 3\")\n",
    "res_plot4 <- create_residual_plot(X4, theta4, residuals_df$Model4, \"Model 4\")\n",
    "res_plot5 <- create_residual_plot(X5, theta5, residuals_df$Model5, \"Model 5\")\n",
    "\n",
    "# Display the residual plots\n",
    "grid.arrange(res_plot1, res_plot2, res_plot3, res_plot4, res_plot5, ncol = 2)"
   ]
  },
  {
   "cell_type": "markdown",
   "id": "6ebb8a36",
   "metadata": {},
   "source": [
    "#### **Task 2.6: Selecting the Best Regression Model:**"
   ]
  },
  {
   "cell_type": "code",
   "execution_count": 66,
   "id": "da7df7d3",
   "metadata": {
    "vscode": {
     "languageId": "r"
    }
   },
   "outputs": [
    {
     "data": {
      "text/html": [
       "<table class=\"dataframe\">\n",
       "<caption>A data.frame: 5 × 5</caption>\n",
       "<thead>\n",
       "\t<tr><th scope=col>Model</th><th scope=col>R2</th><th scope=col>Adj_R2</th><th scope=col>RMSE</th><th scope=col>MPE</th></tr>\n",
       "\t<tr><th scope=col>&lt;chr&gt;</th><th scope=col>&lt;dbl&gt;</th><th scope=col>&lt;dbl&gt;</th><th scope=col>&lt;dbl&gt;</th><th scope=col>&lt;dbl&gt;</th></tr>\n",
       "</thead>\n",
       "<tbody>\n",
       "\t<tr><td>Model 1</td><td>0.7979488</td><td>0.7979064</td><td>7.658682</td><td>-0.02753546</td></tr>\n",
       "\t<tr><td>Model 2</td><td>0.8133136</td><td>0.8132548</td><td>7.361726</td><td>-0.02538051</td></tr>\n",
       "\t<tr><td>Model 3</td><td>0.7942798</td><td>0.7942150</td><td>7.727905</td><td>-0.02896322</td></tr>\n",
       "\t<tr><td>Model 4</td><td>0.8137551</td><td>0.8136964</td><td>7.353017</td><td>-0.02532178</td></tr>\n",
       "\t<tr><td>Model 5</td><td>0.9282411</td><td>0.9282185</td><td>4.564162</td><td>-0.01009492</td></tr>\n",
       "</tbody>\n",
       "</table>\n"
      ],
      "text/latex": [
       "A data.frame: 5 × 5\n",
       "\\begin{tabular}{lllll}\n",
       " Model & R2 & Adj\\_R2 & RMSE & MPE\\\\\n",
       " <chr> & <dbl> & <dbl> & <dbl> & <dbl>\\\\\n",
       "\\hline\n",
       "\t Model 1 & 0.7979488 & 0.7979064 & 7.658682 & -0.02753546\\\\\n",
       "\t Model 2 & 0.8133136 & 0.8132548 & 7.361726 & -0.02538051\\\\\n",
       "\t Model 3 & 0.7942798 & 0.7942150 & 7.727905 & -0.02896322\\\\\n",
       "\t Model 4 & 0.8137551 & 0.8136964 & 7.353017 & -0.02532178\\\\\n",
       "\t Model 5 & 0.9282411 & 0.9282185 & 4.564162 & -0.01009492\\\\\n",
       "\\end{tabular}\n"
      ],
      "text/markdown": [
       "\n",
       "A data.frame: 5 × 5\n",
       "\n",
       "| Model &lt;chr&gt; | R2 &lt;dbl&gt; | Adj_R2 &lt;dbl&gt; | RMSE &lt;dbl&gt; | MPE &lt;dbl&gt; |\n",
       "|---|---|---|---|---|\n",
       "| Model 1 | 0.7979488 | 0.7979064 | 7.658682 | -0.02753546 |\n",
       "| Model 2 | 0.8133136 | 0.8132548 | 7.361726 | -0.02538051 |\n",
       "| Model 3 | 0.7942798 | 0.7942150 | 7.727905 | -0.02896322 |\n",
       "| Model 4 | 0.8137551 | 0.8136964 | 7.353017 | -0.02532178 |\n",
       "| Model 5 | 0.9282411 | 0.9282185 | 4.564162 | -0.01009492 |\n",
       "\n"
      ],
      "text/plain": [
       "  Model   R2        Adj_R2    RMSE     MPE        \n",
       "1 Model 1 0.7979488 0.7979064 7.658682 -0.02753546\n",
       "2 Model 2 0.8133136 0.8132548 7.361726 -0.02538051\n",
       "3 Model 3 0.7942798 0.7942150 7.727905 -0.02896322\n",
       "4 Model 4 0.8137551 0.8136964 7.353017 -0.02532178\n",
       "5 Model 5 0.9282411 0.9282185 4.564162 -0.01009492"
      ]
     },
     "metadata": {},
     "output_type": "display_data"
    }
   ],
   "source": [
    "# we have some metrics from regression metrics: R², Adjusted R², RMSE, MPE :  \n",
    "(metrics_summary)"
   ]
  },
  {
   "cell_type": "markdown",
   "id": "f50f3beb",
   "metadata": {},
   "source": [
    "Now, finally we can create a model selection table based on all the statistics and computations we have like: `rss`, `ll`, `aic`, `bic`, `R2`, `Adj_R2`, `RMSE`, `MPE`, `residual_stats`, `normality_measures`, etc. "
   ]
  },
  {
   "cell_type": "code",
   "execution_count": 67,
   "id": "91239862",
   "metadata": {
    "vscode": {
     "languageId": "r"
    }
   },
   "outputs": [
    {
     "data": {
      "text/html": [
       "<table class=\"dataframe\">\n",
       "<caption>A data.frame: 20 × 5</caption>\n",
       "<thead>\n",
       "\t<tr><th></th><th scope=col>Model_1</th><th scope=col>Model_2</th><th scope=col>Model_3</th><th scope=col>Model_4</th><th scope=col>Model_5</th></tr>\n",
       "\t<tr><th></th><th scope=col>&lt;chr&gt;</th><th scope=col>&lt;chr&gt;</th><th scope=col>&lt;chr&gt;</th><th scope=col>&lt;chr&gt;</th><th scope=col>&lt;chr&gt;</th></tr>\n",
       "</thead>\n",
       "<tbody>\n",
       "\t<tr><th scope=row>RSS</th><td>558810.06           </td><td>516315.86           </td><td>568957.37           </td><td>515094.98           </td><td>198462.46           </td></tr>\n",
       "\t<tr><th scope=row>Log-Likelihood</th><td>-32913.67           </td><td>-32536.92           </td><td>-32999.4            </td><td>-32525.65           </td><td>-27982.45           </td></tr>\n",
       "\t<tr><th scope=row>AIC</th><td>65833.35            </td><td>65081.85            </td><td>66004.79            </td><td>65059.29            </td><td>55972.91            </td></tr>\n",
       "\t<tr><th scope=row>BIC</th><td>65854.83            </td><td>65110.5             </td><td>66026.28            </td><td>65087.94            </td><td>56001.55            </td></tr>\n",
       "\t<tr><th scope=row>R2</th><td>0.8                 </td><td>0.81                </td><td>0.79                </td><td>0.81                </td><td>0.93                </td></tr>\n",
       "\t<tr><th scope=row>Adj_R2</th><td>0.8                 </td><td>0.81                </td><td>0.79                </td><td>0.81                </td><td>0.93                </td></tr>\n",
       "\t<tr><th scope=row>RMSE</th><td>7.66                </td><td>7.36                </td><td>7.73                </td><td>7.35                </td><td>4.56                </td></tr>\n",
       "\t<tr><th scope=row>MPE</th><td>-0.03               </td><td>-0.03               </td><td>-0.03               </td><td>-0.03               </td><td>-0.01               </td></tr>\n",
       "\t<tr><th scope=row>Residual_Mean</th><td>0                   </td><td>0                   </td><td>0                   </td><td>0                   </td><td>0                   </td></tr>\n",
       "\t<tr><th scope=row>Residual_Median</th><td>-0.29               </td><td>-0.26               </td><td>-0.05               </td><td>-0.25               </td><td>-0.02               </td></tr>\n",
       "\t<tr><th scope=row>Residual_SD</th><td>7.66                </td><td>7.36                </td><td>7.73                </td><td>7.35                </td><td>4.56                </td></tr>\n",
       "\t<tr><th scope=row>Residual_Skewness</th><td>0.142               </td><td>0.184               </td><td>-0.049              </td><td>0.186               </td><td>-0.479              </td></tr>\n",
       "\t<tr><th scope=row>Residual_Kurtosis</th><td>3.784               </td><td>3.823               </td><td>3.801               </td><td>3.825               </td><td>6.549               </td></tr>\n",
       "\t<tr><th scope=row>Residual_Min</th><td>-37.78              </td><td>-37.22              </td><td>-37.78              </td><td>-37.51              </td><td>-46.64              </td></tr>\n",
       "\t<tr><th scope=row>Residual_Max</th><td>34.92               </td><td>32.07               </td><td>35.73               </td><td>31.94               </td><td>16.41               </td></tr>\n",
       "\t<tr><th scope=row>Residual_Range</th><td>72.7                </td><td>69.28               </td><td>73.51               </td><td>69.44               </td><td>63.05               </td></tr>\n",
       "\t<tr><th scope=row>Residuals_Within1SD</th><td>70.81% (Exp: 68.27%)</td><td>70.69% (Exp: 68.27%)</td><td>70.83% (Exp: 68.27%)</td><td>70.65% (Exp: 68.27%)</td><td>69.00% (Exp: 68.27%)</td></tr>\n",
       "\t<tr><th scope=row>Residuals_Within2SD</th><td>94.91% (Exp: 95.45%)</td><td>95.17% (Exp: 95.45%)</td><td>94.77% (Exp: 95.45%)</td><td>95.14% (Exp: 95.45%)</td><td>96.56% (Exp: 95.45%)</td></tr>\n",
       "\t<tr><th scope=row>Residuals_Within3SD</th><td>99.34% (Exp: 99.73%)</td><td>99.28% (Exp: 99.73%)</td><td>99.38% (Exp: 99.73%)</td><td>99.24% (Exp: 99.73%)</td><td>99.55% (Exp: 99.73%)</td></tr>\n",
       "\t<tr><th scope=row>Residuals_ExcessKurtosis</th><td>0.783               </td><td>0.823               </td><td>0.801               </td><td>0.825               </td><td>3.549               </td></tr>\n",
       "</tbody>\n",
       "</table>\n"
      ],
      "text/latex": [
       "A data.frame: 20 × 5\n",
       "\\begin{tabular}{r|lllll}\n",
       "  & Model\\_1 & Model\\_2 & Model\\_3 & Model\\_4 & Model\\_5\\\\\n",
       "  & <chr> & <chr> & <chr> & <chr> & <chr>\\\\\n",
       "\\hline\n",
       "\tRSS & 558810.06            & 516315.86            & 568957.37            & 515094.98            & 198462.46           \\\\\n",
       "\tLog-Likelihood & -32913.67            & -32536.92            & -32999.4             & -32525.65            & -27982.45           \\\\\n",
       "\tAIC & 65833.35             & 65081.85             & 66004.79             & 65059.29             & 55972.91            \\\\\n",
       "\tBIC & 65854.83             & 65110.5              & 66026.28             & 65087.94             & 56001.55            \\\\\n",
       "\tR2 & 0.8                  & 0.81                 & 0.79                 & 0.81                 & 0.93                \\\\\n",
       "\tAdj\\_R2 & 0.8                  & 0.81                 & 0.79                 & 0.81                 & 0.93                \\\\\n",
       "\tRMSE & 7.66                 & 7.36                 & 7.73                 & 7.35                 & 4.56                \\\\\n",
       "\tMPE & -0.03                & -0.03                & -0.03                & -0.03                & -0.01               \\\\\n",
       "\tResidual\\_Mean & 0                    & 0                    & 0                    & 0                    & 0                   \\\\\n",
       "\tResidual\\_Median & -0.29                & -0.26                & -0.05                & -0.25                & -0.02               \\\\\n",
       "\tResidual\\_SD & 7.66                 & 7.36                 & 7.73                 & 7.35                 & 4.56                \\\\\n",
       "\tResidual\\_Skewness & 0.142                & 0.184                & -0.049               & 0.186                & -0.479              \\\\\n",
       "\tResidual\\_Kurtosis & 3.784                & 3.823                & 3.801                & 3.825                & 6.549               \\\\\n",
       "\tResidual\\_Min & -37.78               & -37.22               & -37.78               & -37.51               & -46.64              \\\\\n",
       "\tResidual\\_Max & 34.92                & 32.07                & 35.73                & 31.94                & 16.41               \\\\\n",
       "\tResidual\\_Range & 72.7                 & 69.28                & 73.51                & 69.44                & 63.05               \\\\\n",
       "\tResiduals\\_Within1SD & 70.81\\% (Exp: 68.27\\%) & 70.69\\% (Exp: 68.27\\%) & 70.83\\% (Exp: 68.27\\%) & 70.65\\% (Exp: 68.27\\%) & 69.00\\% (Exp: 68.27\\%)\\\\\n",
       "\tResiduals\\_Within2SD & 94.91\\% (Exp: 95.45\\%) & 95.17\\% (Exp: 95.45\\%) & 94.77\\% (Exp: 95.45\\%) & 95.14\\% (Exp: 95.45\\%) & 96.56\\% (Exp: 95.45\\%)\\\\\n",
       "\tResiduals\\_Within3SD & 99.34\\% (Exp: 99.73\\%) & 99.28\\% (Exp: 99.73\\%) & 99.38\\% (Exp: 99.73\\%) & 99.24\\% (Exp: 99.73\\%) & 99.55\\% (Exp: 99.73\\%)\\\\\n",
       "\tResiduals\\_ExcessKurtosis & 0.783                & 0.823                & 0.801                & 0.825                & 3.549               \\\\\n",
       "\\end{tabular}\n"
      ],
      "text/markdown": [
       "\n",
       "A data.frame: 20 × 5\n",
       "\n",
       "| <!--/--> | Model_1 &lt;chr&gt; | Model_2 &lt;chr&gt; | Model_3 &lt;chr&gt; | Model_4 &lt;chr&gt; | Model_5 &lt;chr&gt; |\n",
       "|---|---|---|---|---|---|\n",
       "| RSS | 558810.06            | 516315.86            | 568957.37            | 515094.98            | 198462.46            |\n",
       "| Log-Likelihood | -32913.67            | -32536.92            | -32999.4             | -32525.65            | -27982.45            |\n",
       "| AIC | 65833.35             | 65081.85             | 66004.79             | 65059.29             | 55972.91             |\n",
       "| BIC | 65854.83             | 65110.5              | 66026.28             | 65087.94             | 56001.55             |\n",
       "| R2 | 0.8                  | 0.81                 | 0.79                 | 0.81                 | 0.93                 |\n",
       "| Adj_R2 | 0.8                  | 0.81                 | 0.79                 | 0.81                 | 0.93                 |\n",
       "| RMSE | 7.66                 | 7.36                 | 7.73                 | 7.35                 | 4.56                 |\n",
       "| MPE | -0.03                | -0.03                | -0.03                | -0.03                | -0.01                |\n",
       "| Residual_Mean | 0                    | 0                    | 0                    | 0                    | 0                    |\n",
       "| Residual_Median | -0.29                | -0.26                | -0.05                | -0.25                | -0.02                |\n",
       "| Residual_SD | 7.66                 | 7.36                 | 7.73                 | 7.35                 | 4.56                 |\n",
       "| Residual_Skewness | 0.142                | 0.184                | -0.049               | 0.186                | -0.479               |\n",
       "| Residual_Kurtosis | 3.784                | 3.823                | 3.801                | 3.825                | 6.549                |\n",
       "| Residual_Min | -37.78               | -37.22               | -37.78               | -37.51               | -46.64               |\n",
       "| Residual_Max | 34.92                | 32.07                | 35.73                | 31.94                | 16.41                |\n",
       "| Residual_Range | 72.7                 | 69.28                | 73.51                | 69.44                | 63.05                |\n",
       "| Residuals_Within1SD | 70.81% (Exp: 68.27%) | 70.69% (Exp: 68.27%) | 70.83% (Exp: 68.27%) | 70.65% (Exp: 68.27%) | 69.00% (Exp: 68.27%) |\n",
       "| Residuals_Within2SD | 94.91% (Exp: 95.45%) | 95.17% (Exp: 95.45%) | 94.77% (Exp: 95.45%) | 95.14% (Exp: 95.45%) | 96.56% (Exp: 95.45%) |\n",
       "| Residuals_Within3SD | 99.34% (Exp: 99.73%) | 99.28% (Exp: 99.73%) | 99.38% (Exp: 99.73%) | 99.24% (Exp: 99.73%) | 99.55% (Exp: 99.73%) |\n",
       "| Residuals_ExcessKurtosis | 0.783                | 0.823                | 0.801                | 0.825                | 3.549                |\n",
       "\n"
      ],
      "text/plain": [
       "                         Model_1              Model_2             \n",
       "RSS                      558810.06            516315.86           \n",
       "Log-Likelihood           -32913.67            -32536.92           \n",
       "AIC                      65833.35             65081.85            \n",
       "BIC                      65854.83             65110.5             \n",
       "R2                       0.8                  0.81                \n",
       "Adj_R2                   0.8                  0.81                \n",
       "RMSE                     7.66                 7.36                \n",
       "MPE                      -0.03                -0.03               \n",
       "Residual_Mean            0                    0                   \n",
       "Residual_Median          -0.29                -0.26               \n",
       "Residual_SD              7.66                 7.36                \n",
       "Residual_Skewness        0.142                0.184               \n",
       "Residual_Kurtosis        3.784                3.823               \n",
       "Residual_Min             -37.78               -37.22              \n",
       "Residual_Max             34.92                32.07               \n",
       "Residual_Range           72.7                 69.28               \n",
       "Residuals_Within1SD      70.81% (Exp: 68.27%) 70.69% (Exp: 68.27%)\n",
       "Residuals_Within2SD      94.91% (Exp: 95.45%) 95.17% (Exp: 95.45%)\n",
       "Residuals_Within3SD      99.34% (Exp: 99.73%) 99.28% (Exp: 99.73%)\n",
       "Residuals_ExcessKurtosis 0.783                0.823               \n",
       "                         Model_3              Model_4             \n",
       "RSS                      568957.37            515094.98           \n",
       "Log-Likelihood           -32999.4             -32525.65           \n",
       "AIC                      66004.79             65059.29            \n",
       "BIC                      66026.28             65087.94            \n",
       "R2                       0.79                 0.81                \n",
       "Adj_R2                   0.79                 0.81                \n",
       "RMSE                     7.73                 7.35                \n",
       "MPE                      -0.03                -0.03               \n",
       "Residual_Mean            0                    0                   \n",
       "Residual_Median          -0.05                -0.25               \n",
       "Residual_SD              7.73                 7.35                \n",
       "Residual_Skewness        -0.049               0.186               \n",
       "Residual_Kurtosis        3.801                3.825               \n",
       "Residual_Min             -37.78               -37.51              \n",
       "Residual_Max             35.73                31.94               \n",
       "Residual_Range           73.51                69.44               \n",
       "Residuals_Within1SD      70.83% (Exp: 68.27%) 70.65% (Exp: 68.27%)\n",
       "Residuals_Within2SD      94.77% (Exp: 95.45%) 95.14% (Exp: 95.45%)\n",
       "Residuals_Within3SD      99.38% (Exp: 99.73%) 99.24% (Exp: 99.73%)\n",
       "Residuals_ExcessKurtosis 0.801                0.825               \n",
       "                         Model_5             \n",
       "RSS                      198462.46           \n",
       "Log-Likelihood           -27982.45           \n",
       "AIC                      55972.91            \n",
       "BIC                      56001.55            \n",
       "R2                       0.93                \n",
       "Adj_R2                   0.93                \n",
       "RMSE                     4.56                \n",
       "MPE                      -0.01               \n",
       "Residual_Mean            0                   \n",
       "Residual_Median          -0.02               \n",
       "Residual_SD              4.56                \n",
       "Residual_Skewness        -0.479              \n",
       "Residual_Kurtosis        6.549               \n",
       "Residual_Min             -46.64              \n",
       "Residual_Max             16.41               \n",
       "Residual_Range           63.05               \n",
       "Residuals_Within1SD      69.00% (Exp: 68.27%)\n",
       "Residuals_Within2SD      96.56% (Exp: 95.45%)\n",
       "Residuals_Within3SD      99.55% (Exp: 99.73%)\n",
       "Residuals_ExcessKurtosis 3.549               "
      ]
     },
     "metadata": {},
     "output_type": "display_data"
    }
   ],
   "source": [
    "# Create the comparison table for comparision: \n",
    "comparison_table <- data.frame(\n",
    "  Model_1 = c(\n",
    "    round(rss_comparison$RSS[1], 2),\n",
    "    round(ll_comparison$LogLikelihood[1], 2),\n",
    "    round(aic_bic_comparison$AIC[1], 2),\n",
    "    round(aic_bic_comparison$BIC[1], 2),\n",
    "    round(metrics_summary$R2[1], 2),\n",
    "    round(metrics_summary$Adj_R2[1], 2),\n",
    "    round(metrics_summary$RMSE[1], 2),\n",
    "    round(metrics_summary$MPE[1], 2), \n",
    "    round(residual_stats$Mean[1], 6),\n",
    "    round(residual_stats$Median[1], 2),\n",
    "    round(residual_stats$SD[1], 2),\n",
    "    round(residual_stats$Skewness[1], 3),\n",
    "    round(residual_stats$Kurtosis[1], 3),\n",
    "    round(residual_stats$Min[1], 2),\n",
    "    round(residual_stats$Max[1], 2),\n",
    "    round(residual_stats$Range[1], 2),\n",
    "    normality_measures$Within1SD[1],\n",
    "    normality_measures$Within2SD[1],\n",
    "    normality_measures$Within3SD[1],\n",
    "    round(normality_measures$ExcessKurtosis[1], 3)\n",
    "  ),\n",
    "  Model_2 = c(\n",
    "    round(rss_comparison$RSS[2], 2),\n",
    "    round(ll_comparison$LogLikelihood[2], 2),\n",
    "    round(aic_bic_comparison$AIC[2], 2),\n",
    "    round(aic_bic_comparison$BIC[2], 2),\n",
    "    round(metrics_summary$R2[2], 2),\n",
    "    round(metrics_summary$Adj_R2[2], 2),\n",
    "    round(metrics_summary$RMSE[2], 2),\n",
    "    round(metrics_summary$MPE[2], 2),\n",
    "    round(residual_stats$Mean[2], 6),\n",
    "    round(residual_stats$Median[2], 2),\n",
    "    round(residual_stats$SD[2], 2),\n",
    "    round(residual_stats$Skewness[2], 3),\n",
    "    round(residual_stats$Kurtosis[2], 3),\n",
    "    round(residual_stats$Min[2], 2),\n",
    "    round(residual_stats$Max[2], 2),\n",
    "    round(residual_stats$Range[2], 2),\n",
    "    normality_measures$Within1SD[2],\n",
    "    normality_measures$Within2SD[2],\n",
    "    normality_measures$Within3SD[2],\n",
    "    round(normality_measures$ExcessKurtosis[2], 3)\n",
    "  ),\n",
    "  Model_3 = c(\n",
    "    round(rss_comparison$RSS[3], 2),\n",
    "    round(ll_comparison$LogLikelihood[3], 2),\n",
    "    round(aic_bic_comparison$AIC[3], 2),\n",
    "    round(aic_bic_comparison$BIC[3], 2),\n",
    "    round(metrics_summary$R2[3], 2),\n",
    "    round(metrics_summary$Adj_R2[3], 2),\n",
    "    round(metrics_summary$RMSE[3], 2),\n",
    "    round(metrics_summary$MPE[3], 2), \n",
    "    round(residual_stats$Mean[3], 2),\n",
    "    round(residual_stats$Median[3], 2),\n",
    "    round(residual_stats$SD[3], 2),\n",
    "    round(residual_stats$Skewness[3], 3),\n",
    "    round(residual_stats$Kurtosis[3], 3),\n",
    "    round(residual_stats$Min[3], 2),\n",
    "    round(residual_stats$Max[3], 2),\n",
    "    round(residual_stats$Range[3], 2),\n",
    "    normality_measures$Within1SD[3],\n",
    "    normality_measures$Within2SD[3],\n",
    "    normality_measures$Within3SD[3],\n",
    "    round(normality_measures$ExcessKurtosis[3], 3)\n",
    "  ),\n",
    "  Model_4 = c(\n",
    "    round(rss_comparison$RSS[4], 2),\n",
    "    round(ll_comparison$LogLikelihood[4], 2),\n",
    "    round(aic_bic_comparison$AIC[4], 2),\n",
    "    round(aic_bic_comparison$BIC[4], 2),\n",
    "    round(metrics_summary$R2[4], 2),\n",
    "    round(metrics_summary$Adj_R2[4], 2),\n",
    "    round(metrics_summary$RMSE[4], 2),\n",
    "    round(metrics_summary$MPE[4], 2), \n",
    "    round(residual_stats$Mean[4], 6),\n",
    "    round(residual_stats$Median[4], 2),\n",
    "    round(residual_stats$SD[4], 2),\n",
    "    round(residual_stats$Skewness[4], 3),\n",
    "    round(residual_stats$Kurtosis[4], 3),\n",
    "    round(residual_stats$Min[4], 2),\n",
    "    round(residual_stats$Max[4], 2),\n",
    "    round(residual_stats$Range[4], 2),\n",
    "    normality_measures$Within1SD[4],\n",
    "    normality_measures$Within2SD[4],\n",
    "    normality_measures$Within3SD[4],\n",
    "    round(normality_measures$ExcessKurtosis[4], 3)\n",
    "  ),\n",
    "  Model_5 = c(\n",
    "    round(rss_comparison$RSS[5], 2),\n",
    "    round(ll_comparison$LogLikelihood[5], 2),\n",
    "    round(aic_bic_comparison$AIC[5], 2),\n",
    "    round(aic_bic_comparison$BIC[5], 2),\n",
    "    round(metrics_summary$R2[5], 2),\n",
    "    round(metrics_summary$Adj_R2[5], 2),\n",
    "    round(metrics_summary$RMSE[5], 2),\n",
    "    round(metrics_summary$MPE[5], 2), \n",
    "    round(residual_stats$Mean[5], 6),\n",
    "    round(residual_stats$Median[5], 2),\n",
    "    round(residual_stats$SD[5], 2),\n",
    "    round(residual_stats$Skewness[5], 3),\n",
    "    round(residual_stats$Kurtosis[5], 3),\n",
    "    round(residual_stats$Min[5], 2),\n",
    "    round(residual_stats$Max[5], 2),\n",
    "    round(residual_stats$Range[5], 2),\n",
    "    normality_measures$Within1SD[5],\n",
    "    normality_measures$Within2SD[5],\n",
    "    normality_measures$Within3SD[5],\n",
    "    round(normality_measures$ExcessKurtosis[5], 3)\n",
    "  ),\n",
    "  row.names = c(\n",
    "    \"RSS\", \n",
    "    \"Log-Likelihood\", \n",
    "    \"AIC\", \n",
    "    \"BIC\", \n",
    "    \"R2\",\n",
    "    \"Adj_R2\",\n",
    "    \"RMSE\",\n",
    "    \"MPE\",\n",
    "    \"Residual_Mean\", \n",
    "    \"Residual_Median\", \n",
    "    \"Residual_SD\", \n",
    "    \"Residual_Skewness\", \n",
    "    \"Residual_Kurtosis\", \n",
    "    \"Residual_Min\", \n",
    "    \"Residual_Max\", \n",
    "    \"Residual_Range\", \n",
    "    \"Residuals_Within1SD\", \n",
    "    \"Residuals_Within2SD\", \n",
    "    \"Residuals_Within3SD\", \n",
    "    \"Residuals_ExcessKurtosis\"\n",
    "  )\n",
    ")\n",
    "\n",
    "# Print the comparison table\n",
    "comparison_table"
   ]
  },
  {
   "cell_type": "markdown",
   "id": "0dfcff15",
   "metadata": {},
   "source": [
    "To make this Table even more visually appealing, we can do formatting using `kable` from the `knitr`:"
   ]
  },
  {
   "cell_type": "code",
   "execution_count": 68,
   "id": "d13c923c",
   "metadata": {
    "vscode": {
     "languageId": "r"
    }
   },
   "outputs": [
    {
     "data": {
      "text/plain": [
       "\n",
       "\n",
       "Table: Models Comparison Table Based on all Calculated Metrics:\n",
       "\n",
       "|                         |       Model_1        |       Model_2        |       Model_3        |       Model_4        |       Model_5        |\n",
       "|:------------------------|:--------------------:|:--------------------:|:--------------------:|:--------------------:|:--------------------:|\n",
       "|RSS                      |      558810.06       |      516315.86       |      568957.37       |      515094.98       |      198462.46       |\n",
       "|Log-Likelihood           |      -32913.67       |      -32536.92       |       -32999.4       |      -32525.65       |      -27982.45       |\n",
       "|AIC                      |       65833.35       |       65081.85       |       66004.79       |       65059.29       |       55972.91       |\n",
       "|BIC                      |       65854.83       |       65110.5        |       66026.28       |       65087.94       |       56001.55       |\n",
       "|R2                       |         0.8          |         0.81         |         0.79         |         0.81         |         0.93         |\n",
       "|Adj_R2                   |         0.8          |         0.81         |         0.79         |         0.81         |         0.93         |\n",
       "|RMSE                     |         7.66         |         7.36         |         7.73         |         7.35         |         4.56         |\n",
       "|MPE                      |        -0.03         |        -0.03         |        -0.03         |        -0.03         |        -0.01         |\n",
       "|Residual_Mean            |          0           |          0           |          0           |          0           |          0           |\n",
       "|Residual_Median          |        -0.29         |        -0.26         |        -0.05         |        -0.25         |        -0.02         |\n",
       "|Residual_SD              |         7.66         |         7.36         |         7.73         |         7.35         |         4.56         |\n",
       "|Residual_Skewness        |        0.142         |        0.184         |        -0.049        |        0.186         |        -0.479        |\n",
       "|Residual_Kurtosis        |        3.784         |        3.823         |        3.801         |        3.825         |        6.549         |\n",
       "|Residual_Min             |        -37.78        |        -37.22        |        -37.78        |        -37.51        |        -46.64        |\n",
       "|Residual_Max             |        34.92         |        32.07         |        35.73         |        31.94         |        16.41         |\n",
       "|Residual_Range           |         72.7         |        69.28         |        73.51         |        69.44         |        63.05         |\n",
       "|Residuals_Within1SD      | 70.81% (Exp: 68.27%) | 70.69% (Exp: 68.27%) | 70.83% (Exp: 68.27%) | 70.65% (Exp: 68.27%) | 69.00% (Exp: 68.27%) |\n",
       "|Residuals_Within2SD      | 94.91% (Exp: 95.45%) | 95.17% (Exp: 95.45%) | 94.77% (Exp: 95.45%) | 95.14% (Exp: 95.45%) | 96.56% (Exp: 95.45%) |\n",
       "|Residuals_Within3SD      | 99.34% (Exp: 99.73%) | 99.28% (Exp: 99.73%) | 99.38% (Exp: 99.73%) | 99.24% (Exp: 99.73%) | 99.55% (Exp: 99.73%) |\n",
       "|Residuals_ExcessKurtosis |        0.783         |        0.823         |        0.801         |        0.825         |        3.549         |"
      ]
     },
     "metadata": {},
     "output_type": "display_data"
    },
    {
     "data": {
      "text/plain": [
       "\n",
       "\n",
       "Table: Formulas for each Model:\n",
       "\n",
       "|Model   |Formula                           |\n",
       "|:-------|:---------------------------------|\n",
       "|Model 1 |y = θ₁x₄ + θ₂x₃² + θ_bias         |\n",
       "|Model 2 |y = θ₁x₄ + θ₂x₃² + θ₃x₅ + θ_bias  |\n",
       "|Model 3 |y = θ₁x₃ + θ₂x₄ + θ₃x₅³           |\n",
       "|Model 4 |y = θ₁x₄ + θ₂x₃² + θ₃x₅³ + θ_bias |\n",
       "|Model 5 |y = θ₁x₄ + θ₂x₁² + θ₃x₃² + θ_bias |"
      ]
     },
     "metadata": {},
     "output_type": "display_data"
    }
   ],
   "source": [
    "# Create a formatted version with kable for better display:\n",
    "library(knitr)\n",
    "kable(comparison_table, \n",
    "      caption = \"Models Comparison Table Based on all Calculated Metrics:\",\n",
    "      align = c('c', 'c', 'c', 'c', 'c', 'c'))\n",
    "\n",
    "# Add model formulas for reference\n",
    "model_formulas <- data.frame(\n",
    "  Model = c(\"Model 1\", \"Model 2\", \"Model 3\", \"Model 4\", \"Model 5\"),\n",
    "  Formula = c(\n",
    "    \"y = θ₁x₄ + θ₂x₃² + θ_bias\",\n",
    "    \"y = θ₁x₄ + θ₂x₃² + θ₃x₅ + θ_bias\",\n",
    "    \"y = θ₁x₃ + θ₂x₄ + θ₃x₅³\",\n",
    "    \"y = θ₁x₄ + θ₂x₃² + θ₃x₅³ + θ_bias\",\n",
    "    \"y = θ₁x₄ + θ₂x₁² + θ₃x₃² + θ_bias\"\n",
    "  )\n",
    ")\n",
    "# Print model formulas\n",
    "kable(model_formulas, caption = \"Formulas for each Model:\")"
   ]
  },
  {
   "cell_type": "code",
   "execution_count": 69,
   "id": "1bf9341d",
   "metadata": {
    "vscode": {
     "languageId": "r"
    }
   },
   "outputs": [
    {
     "data": {
      "text/html": [
       "<table class=\"dataframe\">\n",
       "<caption>A matrix: 6 × 1 of type dbl</caption>\n",
       "<tbody>\n",
       "\t<tr><td>478.3683</td></tr>\n",
       "\t<tr><td>445.1425</td></tr>\n",
       "\t<tr><td>437.8223</td></tr>\n",
       "\t<tr><td>453.9581</td></tr>\n",
       "\t<tr><td>472.0456</td></tr>\n",
       "\t<tr><td>468.4926</td></tr>\n",
       "</tbody>\n",
       "</table>\n"
      ],
      "text/latex": [
       "A matrix: 6 × 1 of type dbl\n",
       "\\begin{tabular}{l}\n",
       "\t 478.3683\\\\\n",
       "\t 445.1425\\\\\n",
       "\t 437.8223\\\\\n",
       "\t 453.9581\\\\\n",
       "\t 472.0456\\\\\n",
       "\t 468.4926\\\\\n",
       "\\end{tabular}\n"
      ],
      "text/markdown": [
       "\n",
       "A matrix: 6 × 1 of type dbl\n",
       "\n",
       "| 478.3683 |\n",
       "| 445.1425 |\n",
       "| 437.8223 |\n",
       "| 453.9581 |\n",
       "| 472.0456 |\n",
       "| 468.4926 |\n",
       "\n"
      ],
      "text/plain": [
       "     [,1]    \n",
       "[1,] 478.3683\n",
       "[2,] 445.1425\n",
       "[3,] 437.8223\n",
       "[4,] 453.9581\n",
       "[5,] 472.0456\n",
       "[6,] 468.4926"
      ]
     },
     "metadata": {},
     "output_type": "display_data"
    }
   ],
   "source": [
    "# Make predictions for model 5: \n",
    " y_pred5 <- X5 %*% theta5\n",
    " head(y_pred5)"
   ]
  }
 ],
 "metadata": {
  "kernelspec": {
   "display_name": "R",
   "language": "R",
   "name": "ir"
  },
  "language_info": {
   "codemirror_mode": "r",
   "file_extension": ".r",
   "mimetype": "text/x-r-source",
   "name": "R",
   "pygments_lexer": "r",
   "version": "4.4.3"
  }
 },
 "nbformat": 4,
 "nbformat_minor": 5
}
