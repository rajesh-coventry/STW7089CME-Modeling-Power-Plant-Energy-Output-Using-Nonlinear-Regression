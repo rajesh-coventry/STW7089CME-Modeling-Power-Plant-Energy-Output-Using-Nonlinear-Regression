{
 "cells": [
  {
   "cell_type": "markdown",
   "metadata": {},
   "source": [
    "## **Simple Linear Regression Using Matrix-Form Equations:**"
   ]
  },
  {
   "cell_type": "markdown",
   "metadata": {},
   "source": [
    "#### **`Step 1`: Start with the General Line Equation:**\n",
    "\n",
    "I begin with the familiar linear equation for a single variable:\n",
    "\n",
    "> \\[$y = \\theta_0 + \\theta_1 x$\\]\n",
    "\n",
    "it's just a line with:\n",
    "\n",
    "- \\( $\\theta_0$ \\): y-intercept\n",
    "- \\($ \\theta_1$ \\): slope\n",
    "- \\( $x $\\): input (independent variable)\n",
    "\n",
    "#### **`Step 2`: Convert to Matrix Form:**\n",
    "\n",
    "Rewrite the equation for all \\( $n$ \\) data points compactly in **matrix form**:\n",
    "\n",
    "> \\[$\\mathbf{y} = \\mathbf{X} \\boldsymbol{\\theta}$\\]\n",
    "\n",
    "Where:\n",
    "\n",
    "- \\( $\\mathbf{y}$ \\): a column vector of target values  \n",
    "- \\( $\\mathbf{X}$ \\): matrix of input data (design matrix)  \n",
    "- \\( $\\boldsymbol{\\theta}$ \\): a column vector of parameters (\\( $\\theta_0$ \\) and \\( $\\theta_1$ \\))"
   ]
  },
  {
   "cell_type": "markdown",
   "metadata": {},
   "source": [
    "##### This expands to:\n",
    "\n",
    "> \\[$\\begin{bmatrix}y_1 \\\\y_2 \\\\ \\vdots \\\\y_n\\end{bmatrix} = \\begin{bmatrix} 1 & x_1 \\\\ 1 & x_2 \\\\ \\vdots & \\vdots \\\\ 1 & x_n \\end{bmatrix} \\cdot \\begin{bmatrix} \\theta_0 \\\\ \\theta_1 \\end{bmatrix}$\\]\n",
    "\n",
    "Each row of \\($ \\mathbf{X} $\\) corresponds to a training example, and the first column of all ones is there to multiply with \\( $\\theta_0 $\\) (bias).\n",
    "\n",
    "#### **`Step 3`: Define the Matrices from the Data:**\n",
    "\n",
    "Let's assume we have this dataset:"
   ]
  },
  {
   "cell_type": "code",
   "execution_count": 33,
   "metadata": {},
   "outputs": [],
   "source": [
    "x_values = [1, 2, 3, ..., 20]     # 20 values\n",
    "y_values = [3, 4, 2, ..., 22]     # 20 corresponding outputs"
   ]
  },
  {
   "cell_type": "markdown",
   "metadata": {},
   "source": [
    "Now, design matrix \\( $\\mathbf{X}$ \\) (shape: $20 × 2$):\n",
    "\n",
    "Each row will be `[1, x_i]`:"
   ]
  },
  {
   "cell_type": "markdown",
   "metadata": {},
   "source": [
    "```python\n",
    "X = [\n",
    "    [1, x1],\n",
    "    [1, x2],\n",
    "    ...\n",
    "    [1, x20]\n",
    "]\n",
    "```"
   ]
  },
  {
   "cell_type": "code",
   "execution_count": 34,
   "metadata": {},
   "outputs": [
    {
     "name": "stdout",
     "output_type": "stream",
     "text": [
      "[[ 1.  1.]\n",
      " [ 1.  2.]\n",
      " [ 1.  3.]\n",
      " [ 1.  4.]\n",
      " [ 1.  5.]\n",
      " [ 1.  6.]\n",
      " [ 1.  7.]\n",
      " [ 1.  8.]\n",
      " [ 1.  9.]\n",
      " [ 1. 10.]\n",
      " [ 1. 11.]\n",
      " [ 1. 12.]\n",
      " [ 1. 13.]\n",
      " [ 1. 14.]\n",
      " [ 1. 15.]\n",
      " [ 1. 16.]\n",
      " [ 1. 17.]\n",
      " [ 1. 18.]\n",
      " [ 1. 19.]\n",
      " [ 1. 20.]]\n"
     ]
    }
   ],
   "source": [
    "# Create X matrix:\n",
    "X = np.zeros((20,2))\n",
    "X[:,0] = 1\n",
    "X[:,1] = np.arange(1,21)\n",
    "print(X)\n"
   ]
  },
  {
   "cell_type": "markdown",
   "metadata": {},
   "source": [
    "Create output vector \\( $\\mathbf{y}$ \\) (shape: $20 × 1$):\n",
    "\n",
    "```python\n",
    "y = [\n",
    "    [y1],\n",
    "    [y2],\n",
    "    ...\n",
    "    [y20]\n",
    "]\n",
    "```"
   ]
  },
  {
   "cell_type": "code",
   "execution_count": 35,
   "metadata": {},
   "outputs": [
    {
     "data": {
      "text/plain": [
       "array([[ 3.],\n",
       "       [ 4.],\n",
       "       [ 5.],\n",
       "       [ 6.],\n",
       "       [ 7.],\n",
       "       [ 8.],\n",
       "       [ 9.],\n",
       "       [10.],\n",
       "       [11.],\n",
       "       [12.],\n",
       "       [13.],\n",
       "       [14.],\n",
       "       [15.],\n",
       "       [16.],\n",
       "       [17.],\n",
       "       [18.],\n",
       "       [19.],\n",
       "       [20.],\n",
       "       [21.],\n",
       "       [22.]])"
      ]
     },
     "execution_count": 35,
     "metadata": {},
     "output_type": "execute_result"
    }
   ],
   "source": [
    "# Create y vector starting from 3 to 22\n",
    "y = np.zeros((20,1)) \n",
    "y[:,0] = np.arange(3,23)\n",
    "y"
   ]
  },
  {
   "cell_type": "markdown",
   "metadata": {},
   "source": [
    "**Define the Parameter Vector \\( $\\boldsymbol{\\theta} $\\):**\n",
    "\n",
    "We can represent the **parameter vector** \\( $\\boldsymbol{\\theta}$ \\) as:\n",
    "\n",
    "> \\[$\\boldsymbol{\\theta} = \\begin{bmatrix} \\theta_0 \\\\ \\theta_1 \\end{bmatrix} $\\]\n",
    "\n",
    "This is a **2×1 vector** because we are working with:\n",
    "- 1 bias term: \\( $\\theta_0 $\\)\n",
    "- 1 feature term: \\( $\\theta_1 $\\)"
   ]
  },
  {
   "cell_type": "markdown",
   "metadata": {},
   "source": [
    "**Express the Prediction in Vector Form:**\n",
    "\n",
    "Our prediction vector \\( $\\hat{y} $\\), often written as:\n",
    "\n",
    "> \\[$\\hat{\\mathbf{y}} = \\mathbf{X} \\boldsymbol{\\theta}$\\]\n",
    "\n",
    "This gives the predicted values for all samples in one go.\n",
    "\n",
    "Where:\n",
    "- \\($ \\mathbf{X} $\\) is the **design matrix** (n×2)\n",
    "- \\( $\\boldsymbol{\\theta} $\\) is the **parameter vector** (2×1)\n",
    "- \\( $\\hat{\\mathbf{y}} $\\) is the **prediction vector** (n×1)"
   ]
  },
  {
   "cell_type": "markdown",
   "metadata": {},
   "source": [
    "#### **`Step 4`: Define the Error Vector (Residuals):**\n",
    "\n",
    "The **`error`** or **`residuals`** vector is the difference between the predicted and actual values:\n",
    "\n",
    "> \\[$\\mathbf{e} = \\hat{\\mathbf{y}} - \\mathbf{y} = \\mathbf{X} \\boldsymbol{\\theta} - \\mathbf{y}$\\]\n",
    "\n",
    "This is an **n×1** column vector representing how far off each prediction is from the true value."
   ]
  },
  {
   "cell_type": "markdown",
   "metadata": {},
   "source": [
    "### **`Step 5`: Loss Function:**"
   ]
  },
  {
   "cell_type": "markdown",
   "metadata": {},
   "source": [
    "**`Goal of Linear Regression`:**   \n",
    "We want to find the best \\( $\\boldsymbol{\\theta} $\\) such that the predictions \\( $\\mathbf{X} \\boldsymbol{\\theta} $\\) are as close as possible to the true values \\( $\\mathbf{y} $\\).\n",
    "\n",
    "To measure \"closeness\", we use the **Mean Squared Error (MSE)** — also called the **Least Squares Loss**.\n",
    "\n",
    "**1. Define the Loss Function (Cost Function):**\n",
    "\n",
    "The standard cost function in linear regression is:\n",
    "\n",
    "> \\[$J(\\boldsymbol{\\theta}) = \\frac{1}{2n} \\sum_{i=1}^{n} (h_\\theta(x_i) - y_i)^2$\\]\n",
    "\n",
    "Where:\n",
    "- \\( $h_\\theta(x_i) = \\theta_0 + \\theta_1 x_i $\\) is the predicted value\n",
    "- \\( $y_i$ \\) is the actual value\n",
    "- \\( $n$ \\) is the number of data points\n",
    "\n",
    "We use **squared error** so that:\n",
    "- Positive and negative errors don’t cancel out.\n",
    "- Larger errors are penalized more heavily (quadratically)."
   ]
  },
  {
   "cell_type": "markdown",
   "metadata": {},
   "source": [
    "**2. Rewrite in Vector Form:**\n",
    "\n",
    "We express this in matrix/vector notation.  \n",
    "We have **error vector** as:\n",
    "\n",
    "> \\[$\\mathbf{e} = \\mathbf{X} \\boldsymbol{\\theta} - \\mathbf{y}$\\]\n",
    "\n",
    "So the cost function in Matrix/vector form becomes:\n",
    "\n",
    "> \\[$J(\\boldsymbol{\\theta}) = \\frac{1}{2n} \\mathbf{e}^T \\mathbf{e} = \\frac{1}{2n} (\\mathbf{X} \\boldsymbol{\\theta} - \\mathbf{y})^T (\\mathbf{X} \\boldsymbol{\\theta} - \\mathbf{y})$\\]"
   ]
  },
  {
   "cell_type": "markdown",
   "metadata": {},
   "source": [
    "**3. What does \\( $\\mathbf{e}^T \\mathbf{e} $\\) represent?**\n",
    "\n",
    "This is the **dot product of the error vector with itself**:\n",
    "\n",
    "> \\[$\\mathbf{e}^T \\mathbf{e} = \\sum_{i=1}^{n} e_i^2 = \\sum_{i=1}^{n} (y_i - \\hat{y}_i)^2$\\]\n",
    "\n",
    "So it’s simply the **sum of squared errors (SSE)** — exactly what we’re minimizing in least squares.\n",
    "\n",
    "**4. Final Form of the Loss Function:**\n",
    "\n",
    "> \\[$J(\\boldsymbol{\\theta}) = \\frac{1}{2n} (\\mathbf{X} \\boldsymbol{\\theta} - \\mathbf{y})^T (\\mathbf{X} \\boldsymbol{\\theta} - \\mathbf{y})$\\]\n",
    "\n",
    "This is the **mean squared error loss**, scaled by \\( $\\frac{1}{2n} $\\).  \n",
    "(Note: sometimes we'll see \\( $\\frac{1}{2} $\\) instead of \\( $\\frac{1}{2n} $\\) if averaging isn't important for derivation.)\n",
    "\n",
    "**5. Why \\( $\\frac{1}{2n} $\\) and not just \\( $\\frac{1}{n} $\\)?**\n",
    "- The **½** makes the math cleaner when we take derivatives (the 2 cancels out).\n",
    "- The **n** averages the error over all samples."
   ]
  },
  {
   "cell_type": "markdown",
   "metadata": {},
   "source": [
    "**6. Expand the Loss Function Expression:**\n",
    "\n",
    "We have;\n",
    "\n",
    "> \\[$J(\\boldsymbol{\\theta}) = \\frac{1}{2n} (\\mathbf{X}\\boldsymbol{\\theta} - \\mathbf{y})^T (\\mathbf{X}\\boldsymbol{\\theta} - \\mathbf{y})$\\]\n",
    "\n",
    "Let’s set:    \n",
    "> \\[$\\mathbf{A} = \\mathbf{X}\\boldsymbol{\\theta} - \\mathbf{y}$\\]\n",
    "\n",
    "Then:      \n",
    "> \\[$J(\\boldsymbol{\\theta}) = \\frac{1}{2n} \\mathbf{A}^T \\mathbf{A}$\\]\n",
    "\n",
    "Now expand \\( $\\mathbf{A}^T \\mathbf{A} $\\) using standard matrix identity:    \n",
    "\n",
    "> \\[$\\mathbf{A}^T \\mathbf{A} = (\\mathbf{X}\\boldsymbol{\\theta} - \\mathbf{y})^T (\\mathbf{X}\\boldsymbol{\\theta} - \\mathbf{y})$\\]\n",
    "\n",
    "> \\[$= (\\boldsymbol{\\theta}^T \\mathbf{X}^T - \\mathbf{y}^T)(\\mathbf{X}\\boldsymbol{\\theta} - \\mathbf{y})$\\]\n",
    "\n",
    "Now apply distributive property:   \n",
    "\n",
    "> \\[$= \\boldsymbol{\\theta}^T \\mathbf{X}^T \\mathbf{X} \\boldsymbol{\\theta} - \\boldsymbol{\\theta}^T \\mathbf{X}^T \\mathbf{y} - \\mathbf{y}^T \\mathbf{X} \\boldsymbol{\\theta} + \\mathbf{y}^T \\mathbf{y}$\\]\n",
    "\n",
    "Notice that the two middle terms are scalars and transpose of each other:\n",
    "\n",
    "> \\[$\\boldsymbol{\\theta}^T \\mathbf{X}^T \\mathbf{y} = (\\mathbf{y}^T \\mathbf{X} \\boldsymbol{\\theta})^T\\Rightarrow \\text{both are scalars, and transpose of scalar is same scalar}$\\]\n",
    "\n",
    "So:     \n",
    "> \\[$= \\boldsymbol{\\theta}^T \\mathbf{X}^T \\mathbf{X} \\boldsymbol{\\theta} - 2 \\boldsymbol{\\theta}^T \\mathbf{X}^T \\mathbf{y} + \\mathbf{y}^T \\mathbf{y}$\\]\n",
    "\n",
    "Therefore, the loss function becomes:\n",
    "\n",
    "> \\[$J(\\boldsymbol{\\theta}) = \\frac{1}{2n} \\left( \\boldsymbol{\\theta}^T \\mathbf{X}^T \\mathbf{X} \\boldsymbol{\\theta}- 2 \\boldsymbol{\\theta}^T \\mathbf{X}^T \\mathbf{y} + \\mathbf{y}^T \\mathbf{y}\\right)$\\]\n",
    "\n",
    "This form is useful because:   \n",
    "- It’s **differentiable**.\n",
    "- It leads to a **closed-form solution** when we take its derivative with respect to \\( $\\boldsymbol{\\theta}$ \\)."
   ]
  },
  {
   "cell_type": "markdown",
   "metadata": {},
   "source": [
    "### **`Step 6`: Solving for \\( $\\boldsymbol{\\theta} $\\) — The Parameter Vector:**"
   ]
  },
  {
   "cell_type": "markdown",
   "metadata": {},
   "source": [
    "The loss function we just derieved is:\n",
    "\n",
    "> \\[$J(\\theta) = \\frac{1}{2n} (X\\theta - y)^T (X\\theta - y)$\\]\n",
    "\n",
    "Or, \n",
    "\n",
    "> \\[$J(\\boldsymbol{\\theta}) = \\frac{1}{2n} \\left( \\boldsymbol{\\theta}^T \\mathbf{X}^T \\mathbf{X}\\boldsymbol{\\theta}- 2 \\boldsymbol{\\theta}^T \\mathbf{X}^T \\mathbf{y}+ \\mathbf{y}^T \\mathbf{y}\\right)$\\]"
   ]
  },
  {
   "cell_type": "markdown",
   "metadata": {},
   "source": [
    "This is a scalar function — it outputs one number: `the loss`. We want to **minimize this function** by changing \\( $\\theta $\\). To do that, we take its **gradient**.\n",
    "\n",
    "The **gradient** is a **vector of partial derivatives** — one for each parameter in \\( $\\theta$ \\).  \n",
    "So if:\n",
    "\n",
    "> \\[$\\theta = \\begin{bmatrix} \\theta_0 \\\\ \\theta_1 \\end{bmatrix}\\quad \\Rightarrow \\quad \\nabla_\\theta J(\\theta) = \\begin{bmatrix}\\frac{\\partial J}{\\partial \\theta_0} \\\\\\frac{\\partial J}{\\partial \\theta_1}\\end{bmatrix}$\\]\n",
    "\n",
    "This gradient vector **points in the direction of steepest increase** of the function.  \n",
    "To minimize \\( $J(\\theta) $\\), we go **against** the gradient."
   ]
  },
  {
   "cell_type": "markdown",
   "metadata": {},
   "source": [
    "The Loss Function is:\n",
    "\n",
    "> \\[$J(\\theta) = \\frac{1}{2n} \\left[ \\theta^T X^T X \\theta - 2\\theta^T X^T y + y^T y \\right]$\\]\n",
    "\n",
    "We take derivatives **with respect to \\( $\\theta$ \\)**:\n",
    "\n",
    "- Derivative of \\( $\\theta^T X^T X \\theta$ \\) is:  \n",
    ">   \\[$\\frac{\\partial}{\\partial \\theta} (\\theta^T X^T X \\theta) = 2X^T X \\theta$\\]\n",
    "\n",
    "- Derivative of \\( $-2\\theta^T X^T y $\\) is:  \n",
    ">   \\[$\\frac{\\partial}{\\partial \\theta} (-2\\theta^T X^T y) = -2X^T y$\\]\n",
    "\n",
    "- Derivative of \\($ y^T y $\\) is 0, since it’s a constant (independent of \\( $\\theta$ \\))."
   ]
  },
  {
   "cell_type": "markdown",
   "metadata": {},
   "source": [
    "So the derivative (gradient) of the loss function:\n",
    "\n",
    "> \\[$\\nabla_\\theta J(\\theta) = \\frac{1}{2n} (2X^T X \\theta - 2X^T y)$\\]\n",
    "\n",
    "> \\[$= \\frac{1}{n} (X^T X \\theta - X^T y)$\\]"
   ]
  },
  {
   "cell_type": "markdown",
   "metadata": {},
   "source": [
    "We **do** set the gradient to zero to find the **`minimum`** of the loss function. But since \\( $\\theta $\\) is a **`vector`**, the cost function is multivariable. So we collect all partial derivatives into a vector — that’s what the gradient is."
   ]
  },
  {
   "cell_type": "markdown",
   "metadata": {},
   "source": [
    "**Solving for \\( $\\theta$ \\) (by setting gradient to zero):**\n",
    "\n",
    "Set:\n",
    "\n",
    "> \\[$X^T X \\theta - X^T y = 0$\\]\n",
    "\n",
    "> \\[$\\Rightarrow X^T X \\theta = X^T y$\\]\n",
    "\n",
    "> \\[$\\Rightarrow \\boxed{ \\theta = (X^T X)^{-1} X^T y }$\\]\n",
    "\n",
    "This is called the **normal equation**, and it gives the **best fit parameters**."
   ]
  },
  {
   "cell_type": "markdown",
   "metadata": {},
   "source": [
    "**`What We Get`::** A system of equations that leads to \\( $\\theta = (X^T X)^{-1} X^T y $\\)"
   ]
  },
  {
   "cell_type": "markdown",
   "metadata": {},
   "source": [
    "----"
   ]
  },
  {
   "cell_type": "markdown",
   "metadata": {},
   "source": [
    "## **Example With a Single Independent Variable :**"
   ]
  },
  {
   "cell_type": "markdown",
   "metadata": {},
   "source": [
    "1. **Data:**  \n",
    "I'll generate a dataset with 20 data points for a single feature \\($ x $\\) and target \\( $y$ \\):"
   ]
  },
  {
   "cell_type": "code",
   "execution_count": 36,
   "metadata": {},
   "outputs": [],
   "source": [
    "import numpy as np\n",
    "import matplotlib.pyplot as plt\n",
    "\n",
    "# Step 1: Create sample dataset:\n",
    "np.random.seed(0) # Reproducibility\n",
    "# Generate 20 random x values between 1 and 10\n",
    "x = np.linspace(1, 10, 20)\n",
    "\n",
    "# Generate corresponding y values with some noise:\n",
    "noise = np.random.normal(0, 1, size=x.shape) # random noise\n",
    "y = 3 * x + 4 + noise  # underlying relation: y = 3x + 4 + noise "
   ]
  },
  {
   "cell_type": "code",
   "execution_count": 37,
   "metadata": {},
   "outputs": [
    {
     "name": "stdout",
     "output_type": "stream",
     "text": [
      "[ 1.          1.47368421  1.94736842  2.42105263  2.89473684  3.36842105\n",
      "  3.84210526  4.31578947  4.78947368  5.26315789  5.73684211  6.21052632\n",
      "  6.68421053  7.15789474  7.63157895  8.10526316  8.57894737  9.05263158\n",
      "  9.52631579 10.        ]\n"
     ]
    }
   ],
   "source": [
    "print(x)"
   ]
  },
  {
   "cell_type": "code",
   "execution_count": 38,
   "metadata": {},
   "outputs": [
    {
     "data": {
      "text/plain": [
       "array([ 8.76405235,  8.82120984, 10.82084325, 13.50405109, 14.55176852,\n",
       "       13.12798528, 16.47640421, 16.79601121, 18.2652022 , 20.20007219,\n",
       "       21.35456989, 24.08585245, 24.8136693 , 25.59535923, 27.33860007,\n",
       "       28.6494638 , 31.23092118, 30.95273647, 32.89201507, 33.14590426])"
      ]
     },
     "execution_count": 38,
     "metadata": {},
     "output_type": "execute_result"
    }
   ],
   "source": [
    "y"
   ]
  },
  {
   "cell_type": "markdown",
   "metadata": {},
   "source": [
    "2. **Construct `design matrix` $X$ (with bias term):**"
   ]
  },
  {
   "cell_type": "code",
   "execution_count": 39,
   "metadata": {},
   "outputs": [
    {
     "data": {
      "text/plain": [
       "array([[ 1.        ,  1.        ],\n",
       "       [ 1.        ,  1.47368421],\n",
       "       [ 1.        ,  1.94736842],\n",
       "       [ 1.        ,  2.42105263],\n",
       "       [ 1.        ,  2.89473684],\n",
       "       [ 1.        ,  3.36842105],\n",
       "       [ 1.        ,  3.84210526],\n",
       "       [ 1.        ,  4.31578947],\n",
       "       [ 1.        ,  4.78947368],\n",
       "       [ 1.        ,  5.26315789],\n",
       "       [ 1.        ,  5.73684211],\n",
       "       [ 1.        ,  6.21052632],\n",
       "       [ 1.        ,  6.68421053],\n",
       "       [ 1.        ,  7.15789474],\n",
       "       [ 1.        ,  7.63157895],\n",
       "       [ 1.        ,  8.10526316],\n",
       "       [ 1.        ,  8.57894737],\n",
       "       [ 1.        ,  9.05263158],\n",
       "       [ 1.        ,  9.52631579],\n",
       "       [ 1.        , 10.        ]])"
      ]
     },
     "execution_count": 39,
     "metadata": {},
     "output_type": "execute_result"
    }
   ],
   "source": [
    "X = np.vstack((np.ones_like(x), x)).T  # shape (20, 2), first column = 1s\n",
    "X"
   ]
  },
  {
   "cell_type": "markdown",
   "metadata": {},
   "source": [
    "3. **Convert $y$ into a column vector:**"
   ]
  },
  {
   "cell_type": "code",
   "execution_count": 40,
   "metadata": {},
   "outputs": [
    {
     "data": {
      "text/plain": [
       "array([[ 8.76405235],\n",
       "       [ 8.82120984],\n",
       "       [10.82084325],\n",
       "       [13.50405109],\n",
       "       [14.55176852],\n",
       "       [13.12798528],\n",
       "       [16.47640421],\n",
       "       [16.79601121],\n",
       "       [18.2652022 ],\n",
       "       [20.20007219],\n",
       "       [21.35456989],\n",
       "       [24.08585245],\n",
       "       [24.8136693 ],\n",
       "       [25.59535923],\n",
       "       [27.33860007],\n",
       "       [28.6494638 ],\n",
       "       [31.23092118],\n",
       "       [30.95273647],\n",
       "       [32.89201507],\n",
       "       [33.14590426]])"
      ]
     },
     "execution_count": 40,
     "metadata": {},
     "output_type": "execute_result"
    }
   ],
   "source": [
    "y = y.reshape(-1, 1)\n",
    "y"
   ]
  },
  {
   "cell_type": "markdown",
   "metadata": {},
   "source": [
    "4. **Compute `theta` using Normal Equation:**  \n",
    "\n",
    "> \\[$\\boxed{ \\theta = (X^T X)^{-1} X^T y }$\\]"
   ]
  },
  {
   "cell_type": "code",
   "execution_count": 41,
   "metadata": {},
   "outputs": [],
   "source": [
    "XT_X = X.T @ X\n",
    "XT_y = X.T @ y\n",
    "theta = np.linalg.inv(XT_X) @ XT_y"
   ]
  },
  {
   "cell_type": "markdown",
   "metadata": {},
   "source": [
    "5. **Make predictions:**"
   ]
  },
  {
   "cell_type": "code",
   "execution_count": 42,
   "metadata": {},
   "outputs": [
    {
     "name": "stdout",
     "output_type": "stream",
     "text": [
      "[[ 8.13794752]\n",
      " [ 9.49914616]\n",
      " [10.8603448 ]\n",
      " [12.22154344]\n",
      " [13.58274208]\n",
      " [14.94394072]\n",
      " [16.30513936]\n",
      " [17.66633799]\n",
      " [19.02753663]\n",
      " [20.38873527]\n",
      " [21.74993391]\n",
      " [23.11113255]\n",
      " [24.47233119]\n",
      " [25.83352983]\n",
      " [27.19472847]\n",
      " [28.55592711]\n",
      " [29.91712575]\n",
      " [31.27832439]\n",
      " [32.63952303]\n",
      " [34.00072167]]\n"
     ]
    }
   ],
   "source": [
    "y_pred = X @ theta\n",
    "print(y_pred)"
   ]
  },
  {
   "cell_type": "markdown",
   "metadata": {},
   "source": [
    "**6. Create Dataframe for Comparision:**"
   ]
  },
  {
   "cell_type": "code",
   "execution_count": 51,
   "metadata": {},
   "outputs": [
    {
     "data": {
      "text/html": [
       "<div>\n",
       "<style scoped>\n",
       "    .dataframe tbody tr th:only-of-type {\n",
       "        vertical-align: middle;\n",
       "    }\n",
       "\n",
       "    .dataframe tbody tr th {\n",
       "        vertical-align: top;\n",
       "    }\n",
       "\n",
       "    .dataframe thead th {\n",
       "        text-align: right;\n",
       "    }\n",
       "</style>\n",
       "<table border=\"1\" class=\"dataframe\">\n",
       "  <thead>\n",
       "    <tr style=\"text-align: right;\">\n",
       "      <th></th>\n",
       "      <th>x</th>\n",
       "      <th>y</th>\n",
       "      <th>predicted_y_values</th>\n",
       "    </tr>\n",
       "  </thead>\n",
       "  <tbody>\n",
       "    <tr>\n",
       "      <th>0</th>\n",
       "      <td>1.000000</td>\n",
       "      <td>8.764052</td>\n",
       "      <td>8.137948</td>\n",
       "    </tr>\n",
       "    <tr>\n",
       "      <th>1</th>\n",
       "      <td>1.473684</td>\n",
       "      <td>8.821210</td>\n",
       "      <td>9.499146</td>\n",
       "    </tr>\n",
       "    <tr>\n",
       "      <th>2</th>\n",
       "      <td>1.947368</td>\n",
       "      <td>10.820843</td>\n",
       "      <td>10.860345</td>\n",
       "    </tr>\n",
       "    <tr>\n",
       "      <th>3</th>\n",
       "      <td>2.421053</td>\n",
       "      <td>13.504051</td>\n",
       "      <td>12.221543</td>\n",
       "    </tr>\n",
       "    <tr>\n",
       "      <th>4</th>\n",
       "      <td>2.894737</td>\n",
       "      <td>14.551769</td>\n",
       "      <td>13.582742</td>\n",
       "    </tr>\n",
       "    <tr>\n",
       "      <th>5</th>\n",
       "      <td>3.368421</td>\n",
       "      <td>13.127985</td>\n",
       "      <td>14.943941</td>\n",
       "    </tr>\n",
       "    <tr>\n",
       "      <th>6</th>\n",
       "      <td>3.842105</td>\n",
       "      <td>16.476404</td>\n",
       "      <td>16.305139</td>\n",
       "    </tr>\n",
       "    <tr>\n",
       "      <th>7</th>\n",
       "      <td>4.315789</td>\n",
       "      <td>16.796011</td>\n",
       "      <td>17.666338</td>\n",
       "    </tr>\n",
       "    <tr>\n",
       "      <th>8</th>\n",
       "      <td>4.789474</td>\n",
       "      <td>18.265202</td>\n",
       "      <td>19.027537</td>\n",
       "    </tr>\n",
       "    <tr>\n",
       "      <th>9</th>\n",
       "      <td>5.263158</td>\n",
       "      <td>20.200072</td>\n",
       "      <td>20.388735</td>\n",
       "    </tr>\n",
       "    <tr>\n",
       "      <th>10</th>\n",
       "      <td>5.736842</td>\n",
       "      <td>21.354570</td>\n",
       "      <td>21.749934</td>\n",
       "    </tr>\n",
       "    <tr>\n",
       "      <th>11</th>\n",
       "      <td>6.210526</td>\n",
       "      <td>24.085852</td>\n",
       "      <td>23.111133</td>\n",
       "    </tr>\n",
       "    <tr>\n",
       "      <th>12</th>\n",
       "      <td>6.684211</td>\n",
       "      <td>24.813669</td>\n",
       "      <td>24.472331</td>\n",
       "    </tr>\n",
       "    <tr>\n",
       "      <th>13</th>\n",
       "      <td>7.157895</td>\n",
       "      <td>25.595359</td>\n",
       "      <td>25.833530</td>\n",
       "    </tr>\n",
       "    <tr>\n",
       "      <th>14</th>\n",
       "      <td>7.631579</td>\n",
       "      <td>27.338600</td>\n",
       "      <td>27.194728</td>\n",
       "    </tr>\n",
       "    <tr>\n",
       "      <th>15</th>\n",
       "      <td>8.105263</td>\n",
       "      <td>28.649464</td>\n",
       "      <td>28.555927</td>\n",
       "    </tr>\n",
       "    <tr>\n",
       "      <th>16</th>\n",
       "      <td>8.578947</td>\n",
       "      <td>31.230921</td>\n",
       "      <td>29.917126</td>\n",
       "    </tr>\n",
       "    <tr>\n",
       "      <th>17</th>\n",
       "      <td>9.052632</td>\n",
       "      <td>30.952736</td>\n",
       "      <td>31.278324</td>\n",
       "    </tr>\n",
       "    <tr>\n",
       "      <th>18</th>\n",
       "      <td>9.526316</td>\n",
       "      <td>32.892015</td>\n",
       "      <td>32.639523</td>\n",
       "    </tr>\n",
       "    <tr>\n",
       "      <th>19</th>\n",
       "      <td>10.000000</td>\n",
       "      <td>33.145904</td>\n",
       "      <td>34.000722</td>\n",
       "    </tr>\n",
       "  </tbody>\n",
       "</table>\n",
       "</div>"
      ],
      "text/plain": [
       "            x          y  predicted_y_values\n",
       "0    1.000000   8.764052            8.137948\n",
       "1    1.473684   8.821210            9.499146\n",
       "2    1.947368  10.820843           10.860345\n",
       "3    2.421053  13.504051           12.221543\n",
       "4    2.894737  14.551769           13.582742\n",
       "5    3.368421  13.127985           14.943941\n",
       "6    3.842105  16.476404           16.305139\n",
       "7    4.315789  16.796011           17.666338\n",
       "8    4.789474  18.265202           19.027537\n",
       "9    5.263158  20.200072           20.388735\n",
       "10   5.736842  21.354570           21.749934\n",
       "11   6.210526  24.085852           23.111133\n",
       "12   6.684211  24.813669           24.472331\n",
       "13   7.157895  25.595359           25.833530\n",
       "14   7.631579  27.338600           27.194728\n",
       "15   8.105263  28.649464           28.555927\n",
       "16   8.578947  31.230921           29.917126\n",
       "17   9.052632  30.952736           31.278324\n",
       "18   9.526316  32.892015           32.639523\n",
       "19  10.000000  33.145904           34.000722"
      ]
     },
     "execution_count": 51,
     "metadata": {},
     "output_type": "execute_result"
    }
   ],
   "source": [
    "# Create a dataframe with x, y and predicted values:\n",
    "df = pd.DataFrame({'x': x.flatten(), 'y': y.flatten(), 'predicted_y_values': y_pred.flatten()})\n",
    "df"
   ]
  },
  {
   "cell_type": "markdown",
   "metadata": {},
   "source": [
    "7. **Calculate Mean Squared Error ($MSE$):**"
   ]
  },
  {
   "cell_type": "code",
   "execution_count": 44,
   "metadata": {},
   "outputs": [
    {
     "data": {
      "text/plain": [
       "array([[ 8.76405235],\n",
       "       [ 8.82120984],\n",
       "       [10.82084325],\n",
       "       [13.50405109],\n",
       "       [14.55176852],\n",
       "       [13.12798528],\n",
       "       [16.47640421],\n",
       "       [16.79601121],\n",
       "       [18.2652022 ],\n",
       "       [20.20007219],\n",
       "       [21.35456989],\n",
       "       [24.08585245],\n",
       "       [24.8136693 ],\n",
       "       [25.59535923],\n",
       "       [27.33860007],\n",
       "       [28.6494638 ],\n",
       "       [31.23092118],\n",
       "       [30.95273647],\n",
       "       [32.89201507],\n",
       "       [33.14590426]])"
      ]
     },
     "execution_count": 44,
     "metadata": {},
     "output_type": "execute_result"
    }
   ],
   "source": [
    "y # we have y, the labels"
   ]
  },
  {
   "cell_type": "code",
   "execution_count": 45,
   "metadata": {},
   "outputs": [
    {
     "data": {
      "text/plain": [
       "array([[ 8.13794752],\n",
       "       [ 9.49914616],\n",
       "       [10.8603448 ],\n",
       "       [12.22154344],\n",
       "       [13.58274208],\n",
       "       [14.94394072],\n",
       "       [16.30513936],\n",
       "       [17.66633799],\n",
       "       [19.02753663],\n",
       "       [20.38873527],\n",
       "       [21.74993391],\n",
       "       [23.11113255],\n",
       "       [24.47233119],\n",
       "       [25.83352983],\n",
       "       [27.19472847],\n",
       "       [28.55592711],\n",
       "       [29.91712575],\n",
       "       [31.27832439],\n",
       "       [32.63952303],\n",
       "       [34.00072167]])"
      ]
     },
     "execution_count": 45,
     "metadata": {},
     "output_type": "execute_result"
    }
   ],
   "source": [
    "y_pred # our predicted values"
   ]
  },
  {
   "cell_type": "code",
   "execution_count": 46,
   "metadata": {},
   "outputs": [
    {
     "data": {
      "text/plain": [
       "np.float64(0.6036926556769047)"
      ]
     },
     "execution_count": 46,
     "metadata": {},
     "output_type": "execute_result"
    }
   ],
   "source": [
    "# Calculate Mean Squared Error\n",
    "mse = np.mean((y - y_pred) ** 2)\n",
    "mse "
   ]
  },
  {
   "cell_type": "markdown",
   "metadata": {},
   "source": [
    "8. **Calculate R-squared:**"
   ]
  },
  {
   "cell_type": "code",
   "execution_count": 79,
   "metadata": {},
   "outputs": [
    {
     "name": "stdout",
     "output_type": "stream",
     "text": [
      "R-squared: 0.9661173193365662\n"
     ]
    }
   ],
   "source": [
    "ss_total = np.sum((y - y.mean()) ** 2) # Total sum of squares\n",
    "ss_residual = np.sum((y - y_pred) ** 2) # Residual sum of squares\n",
    "r_squared = 1 - (ss_residual / ss_total) # R-squared value\n",
    "print(f\"R-squared: {r_squared}\")"
   ]
  },
  {
   "cell_type": "code",
   "execution_count": 48,
   "metadata": {},
   "outputs": [
    {
     "name": "stdout",
     "output_type": "stream",
     "text": [
      "Learned Parameters (theta):\n",
      "theta_0 (intercept):5.2643\n",
      "theta_1 (slope): 2.8736\n",
      "\n",
      "Mean Squared Error (MSE): 0.6037\n",
      "R-squared:0.9903\n"
     ]
    }
   ],
   "source": [
    "# Output results:\n",
    "print(\"Learned Parameters (theta):\")\n",
    "print(f\"theta_0 (intercept):{theta[0][0]:.4f}\")\n",
    "print(f\"theta_1 (slope): {theta[1][0]:.4f}\")\n",
    "print(f\"\\nMean Squared Error (MSE): {mse:.4f}\")\n",
    "print(f\"R-squared:{r_squared:.4f}\")"
   ]
  },
  {
   "cell_type": "markdown",
   "metadata": {},
   "source": [
    "9. **Plotting:**"
   ]
  },
  {
   "cell_type": "code",
   "execution_count": 49,
   "metadata": {},
   "outputs": [
    {
     "data": {
      "image/png": "[encoded data removed]",
      "text/plain": [
       "<Figure size 640x480 with 1 Axes>"
      ]
     },
     "metadata": {},
     "output_type": "display_data"
    }
   ],
   "source": [
    "plt.scatter(x, y, color='blue', label='Data points')\n",
    "plt.plot(x, y_pred, color='red', label='Best fit line')\n",
    "plt.title(\"Linear Regression (Matrix Approach)\")\n",
    "plt.xlabel(\"x\")\n",
    "plt.ylabel(\"y\")\n",
    "plt.legend()\n",
    "plt.grid(True)\n",
    "plt.show()"
   ]
  }
 ],
 "metadata": {
  "kernelspec": {
   "display_name": "Python 3",
   "language": "python",
   "name": "python3"
  },
  "language_info": {
   "codemirror_mode": {
    "name": "ipython",
    "version": 3
   },
   "file_extension": ".py",
   "mimetype": "text/x-python",
   "name": "python",
   "nbconvert_exporter": "python",
   "pygments_lexer": "ipython3",
   "version": "3.12.7"
  }
 },
 "nbformat": 4,
 "nbformat_minor": 2
}
