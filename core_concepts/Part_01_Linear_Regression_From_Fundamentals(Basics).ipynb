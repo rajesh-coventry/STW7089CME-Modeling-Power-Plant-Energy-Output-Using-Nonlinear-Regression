{
 "cells": [
  {
   "cell_type": "markdown",
   "metadata": {},
   "source": [
    "#### **1. Equation of St. Line:**\n",
    "The basic form of a straight line is:\n",
    "\n",
    "> \\[y = mx + c\\] \n",
    "\n",
    "Where:\n",
    "- \\( $y$ \\): Dependent variable (output)\n",
    "- \\( $x$ \\): Independent variable (input)\n",
    "- \\( $m$ \\): Slope of the line (how much $y$ changes per unit change in $x$)\n",
    "- \\( $c$ \\): Intercept (value of $y$ when $x = 0$)"
   ]
  },
  {
   "cell_type": "markdown",
   "metadata": {},
   "source": [
    "#### 2: **Generalize the Equation:**\n",
    "\n",
    "We rewrite the equation as:\n",
    "\n",
    "> \\[$y = \\theta_0 + \\theta_1 x$]\n",
    "\n",
    "Where,     \n",
    "- $θ_1 =m$: controls how steep the line is.\n",
    "\n",
    "- $θ_0 =c$: controls where the line crosses the y-axis."
   ]
  },
  {
   "cell_type": "markdown",
   "metadata": {},
   "source": [
    "where, \n",
    "\n",
    "> \\[$\\theta_1 = \\frac{n \\sum x_i y_i - \\sum x_i \\sum y_i}{n \\sum x_i^2 - (\\sum x_i)^2}$\\]\n",
    "\n",
    "and, \n",
    "\n",
    "> \\[$\\theta_0 = \\bar{y} - \\theta_1 \\bar{x}$\\]"
   ]
  },
  {
   "cell_type": "markdown",
   "metadata": {},
   "source": [
    "----"
   ]
  },
  {
   "cell_type": "markdown",
   "metadata": {},
   "source": [
    "### **Obtaining the Values of $\\theta_0$  and  $\\theta_1$\\:**"
   ]
  },
  {
   "cell_type": "markdown",
   "metadata": {},
   "source": [
    "##### 1. **Loss Function (Cost Function):**\n",
    "\n",
    "Loss (or Cost) Function ($J$) is a mathematical function that measures how wrong the model’s predictions are compared to the actual values. It gives a **single number** that tells us how well the model is performing. \n",
    "\n",
    "Lets consider **Mean Squared Error (MSE)** as the loss:\n",
    "\n",
    "> \\[$J(\\theta_0, \\theta_1) = \\frac{1}{n} \\sum_{i=1}^{n} (\\hat{y}_i - y_i)^2$\\]\n",
    "\n",
    "Where:\n",
    "- \\( $\\hat{y}_i = \\theta_0 + \\theta_1 x_i $\\): the predicted value\n",
    "- \\( $y_i$ \\): the actual (true) value\n",
    "- \\( $n$ \\): number of data points\n",
    "\n",
    "The goal of training is to find \\( $\\theta_0$ \\) and \\( $\\theta_1$ \\) that **minimize this value**.\n",
    "\n",
    "Substitute \\( $\\hat{y}_i = \\theta_0 + \\theta_1 x_i $\\):\n",
    "\n",
    "> \\[$J(\\theta_0, \\theta_1) = \\frac{1}{n} \\sum_{i=1}^{n} (\\theta_0 + \\theta_1 x_i - y_i)^2\n",
    "$\\]\n",
    "\n",
    "This is the function we want to **`minimize`** with respect to \\( $\\theta_0 $\\) and \\( $\\theta_1 $\\).\n",
    "\n",
    "##### 2. **Find Values of \\( $\\theta_0$ \\) and \\( $\\theta_1$ \\):**\n",
    "\n",
    "To minimize the cost function, we take **partial derivatives** of Loss Function and set them to **zero**.\n",
    "\n",
    "\n",
    "**`Step 1`: Expand the Cost Function:**\n",
    "\n",
    "We temporarily remove the \\( $\\frac{1}{n} $\\) (it doesn't affect the minimum):\n",
    "\n",
    "> \\[$J(\\theta_0, \\theta_1) = \\sum_{i=1}^{n} (\\theta_0 + \\theta_1 x_i - y_i)^2$\\]\n",
    "\n",
    "**`Step 2`: Partial Derivative with Respect to \\( $\\theta_0 $\\):**\n",
    "\n",
    "> \\[$\\frac{\\partial J}{\\partial \\theta_0} = 2 \\sum_{i=1}^{n} (\\theta_0 + \\theta_1 x_i - y_i)$\\]\n",
    "\n",
    "Set to 0:\n",
    "\n",
    "> \\[$\\sum_{i=1}^{n} (\\theta_0 + \\theta_1 x_i - y_i) = 0$\\]\n",
    "\n",
    "> \\[$n \\theta_0 + \\theta_1 \\sum x_i = \\sum y_i\\quad \\text{(Equation 1)}$\\]\n",
    "\n",
    "**`Step 3`: Partial Derivative with Respect to \\( $\\theta_1$ \\):**\n",
    "\n",
    "> \\[$\\frac{\\partial J}{\\partial \\theta_1} = 2 \\sum_{i=1}^{n} x_i (\\theta_0 + \\theta_1 x_i - y_i)$\\]\n",
    "\n",
    "Set to 0:\n",
    "\n",
    "> \\[$\\sum x_i (\\theta_0 + \\theta_1 x_i - y_i) = 0$\\]\n",
    "\n",
    "> \\[$\\theta_0 \\sum x_i + \\theta_1 \\sum x_i^2 = \\sum x_i y_i\\quad \\text{(Equation 2)}$\\]\n",
    "\n",
    "**`Step 4`: Solve the Two Equations:**\n",
    "\n",
    "Now solve **Equation 1** and **Equation 2** for \\( $\\theta_0$ \\) and \\( $\\theta_1$ \\):\n",
    "\n",
    "**From Equation 1:**\n",
    "> \\[$\\theta_0 = \\frac{1}{n} \\left( \\sum y_i - \\theta_1 \\sum x_i \\right)= \\bar{y} - \\theta_1 \\bar{x}$\\]\n",
    "\n",
    "**`Step 5`: Plug into Equation 2:**\n",
    "\n",
    "Start with:\n",
    "\n",
    "> \\[$\\theta_0 \\sum x_i + \\theta_1 \\sum x_i^2 = \\sum x_i y_i$\\]\n",
    "\n",
    "Substitute \\( $\\theta_0 = \\bar{y} - \\theta_1 \\bar{x} $\\):\n",
    "\n",
    "> \\[$(\\bar{y} - \\theta_1 \\bar{x}) \\sum x_i + \\theta_1 \\sum x_i^2 = \\sum x_i y_i$\\]\n",
    "\n",
    "Simplify:\n",
    "\n",
    "> \\[$\\bar{y} \\sum x_i - \\theta_1 \\bar{x} \\sum x_i + \\theta_1 \\sum x_i^2 = \\sum x_i y_i$\\]\n",
    "\n",
    "Since \\( $\\bar{x} = \\frac{1}{n} \\sum x_i $\\), we get:\n",
    "\n",
    "> \\[$\\bar{y} \\sum x_i - \\theta_1 \\cdot \\frac{1}{n} (\\sum x_i)^2 + \\theta_1 \\sum x_i^2 = \\sum x_i y_i$\\]\n",
    "\n",
    "Solve for \\( $\\theta_1$ \\):\n",
    "\n",
    "> \\[$\\theta_1 = \\frac{ \\sum (x_i - \\bar{x})(y_i - \\bar{y}) }{ \\sum (x_i - \\bar{x})^2 }$\\]\n",
    "\n",
    "Which can be expanded to:\n",
    "\n",
    "> \\[$\\theta_1 = \\frac{ n \\sum x_i y_i - \\sum x_i \\sum y_i }{ n \\sum x_i^2 - (\\sum x_i)^2 }$\\]\n",
    "\n",
    "**`Step 6`: Plug Back \\( $\\theta_1$ \\) into:**\n",
    "\n",
    "> \\[$\\theta_0 = \\bar{y} - \\theta_1 \\bar{x}$\\]"
   ]
  },
  {
   "cell_type": "markdown",
   "metadata": {},
   "source": [
    "------\n",
    "----"
   ]
  },
  {
   "cell_type": "markdown",
   "metadata": {},
   "source": [
    "## **Applying Simple Linear Regression on a DataSet:**"
   ]
  },
  {
   "cell_type": "markdown",
   "metadata": {},
   "source": [
    "$Goal:$\n",
    "Fit the best straight line \\($ y = \\theta_0 + \\theta_1 x $\\) to a small dataset.\n",
    "\n",
    "### **`Step 1`: Create the dataset:**"
   ]
  },
  {
   "cell_type": "code",
   "execution_count": 22,
   "metadata": {},
   "outputs": [],
   "source": [
    "# Sample dataset (20 rows)\n",
    "x = [1, 2, 3, 4, 5, 6, 7, 8, 9, 10,\n",
    "            11, 12, 13, 14, 15, 16, 17, 18, 19, 20]\n",
    "\n",
    "y = [3, 4, 2, 5, 6, 5, 7, 9, 10, 12,\n",
    "            11, 13, 14, 15, 16, 18, 17, 20, 19, 22]"
   ]
  },
  {
   "cell_type": "markdown",
   "metadata": {},
   "source": [
    "### **`Step 2`: Compute Mean of x and y:**\n",
    "\n",
    "> \\[$\\bar{x} = \\frac{1}{n} \\sum x_i \\quad , \\quad \\bar{y} = \\frac{1}{n} \\sum y_i$\\]"
   ]
  },
  {
   "cell_type": "code",
   "execution_count": 23,
   "metadata": {},
   "outputs": [],
   "source": [
    "n = len(x)\n",
    "\n",
    "# Calculate means\n",
    "x_mean = sum(x) / n\n",
    "y_mean = sum(y) / n"
   ]
  },
  {
   "cell_type": "markdown",
   "metadata": {},
   "source": [
    "### **`Step 3`: Compute numerator and denominator for \\( $\\theta_1 $\\):**\n",
    "\n",
    "> \\[$\\theta_1 = \\frac{\\sum (x_i - \\bar{x})(y_i - \\bar{y})}{\\sum (x_i - \\bar{x})^2}$\\]"
   ]
  },
  {
   "cell_type": "code",
   "execution_count": 24,
   "metadata": {},
   "outputs": [
    {
     "data": {
      "text/plain": [
       "1.0240601503759401"
      ]
     },
     "execution_count": 24,
     "metadata": {},
     "output_type": "execute_result"
    }
   ],
   "source": [
    "# Compute numerator and denominator\n",
    "numerator = 0\n",
    "denominator = 0\n",
    "\n",
    "for i in range(n):\n",
    "    x_diff = x[i] - x_mean\n",
    "    y_diff = y[i] - y_mean\n",
    "    numerator += x_diff * y_diff\n",
    "    denominator += x_diff ** 2\n",
    "\n",
    "theta_1 = numerator / denominator\n",
    "theta_1"
   ]
  },
  {
   "cell_type": "markdown",
   "metadata": {},
   "source": [
    "### **`Step 4`: Compute \\( $\\theta_0 $\\):**\n",
    "\n",
    "> \\[$\\theta_0 = \\bar{y} - \\theta_1 \\bar{x}$\\]"
   ]
  },
  {
   "cell_type": "code",
   "execution_count": 25,
   "metadata": {},
   "outputs": [
    {
     "data": {
      "text/plain": [
       "0.6473684210526294"
      ]
     },
     "execution_count": 25,
     "metadata": {},
     "output_type": "execute_result"
    }
   ],
   "source": [
    "theta_0 = y_mean - theta_1 * x_mean\n",
    "theta_0"
   ]
  },
  {
   "cell_type": "markdown",
   "metadata": {},
   "source": [
    "### **Step 5: Display Final Equation:**"
   ]
  },
  {
   "cell_type": "code",
   "execution_count": 26,
   "metadata": {},
   "outputs": [
    {
     "name": "stdout",
     "output_type": "stream",
     "text": [
      "The best-fit line is: y = 0.65 + 1.02x\n"
     ]
    }
   ],
   "source": [
    "print(f\"The best-fit line is: y = {theta_0:.2f} + {theta_1:.2f}x\")"
   ]
  },
  {
   "cell_type": "markdown",
   "metadata": {},
   "source": [
    "### **Step 6: Make Predictions and See Errors:**\n",
    "\n",
    "To predict \\( $y$ \\) for a new value of \\( $x$ \\):"
   ]
  },
  {
   "cell_type": "code",
   "execution_count": 27,
   "metadata": {},
   "outputs": [
    {
     "name": "stdout",
     "output_type": "stream",
     "text": [
      "0.6473684210526294\n",
      "1.0240601503759401\n"
     ]
    }
   ],
   "source": [
    "print(theta_0)\n",
    "print(theta_1)"
   ]
  },
  {
   "cell_type": "code",
   "execution_count": 28,
   "metadata": {},
   "outputs": [],
   "source": [
    "# Predict y for all x in dataset\n",
    "predicted_y = []\n",
    "for i in x:\n",
    "    y_hat = theta_0 + theta_1 * i     # y_hat = theta_0 + theta_1 * x\n",
    "    predicted_y.append(y_hat)"
   ]
  },
  {
   "cell_type": "code",
   "execution_count": 29,
   "metadata": {},
   "outputs": [
    {
     "data": {
      "text/plain": [
       "[1.6714285714285695,\n",
       " 2.6954887218045096,\n",
       " 3.7195488721804497,\n",
       " 4.74360902255639,\n",
       " 5.7676691729323295,\n",
       " 6.79172932330827,\n",
       " 7.815789473684211,\n",
       " 8.83984962406015,\n",
       " 9.86390977443609,\n",
       " 10.88796992481203,\n",
       " 11.912030075187971,\n",
       " 12.93609022556391,\n",
       " 13.96015037593985,\n",
       " 14.984210526315792,\n",
       " 16.00827067669173,\n",
       " 17.03233082706767,\n",
       " 18.056390977443613,\n",
       " 19.08045112781955,\n",
       " 20.104511278195492,\n",
       " 21.12857142857143]"
      ]
     },
     "execution_count": 29,
     "metadata": {},
     "output_type": "execute_result"
    }
   ],
   "source": [
    "predicted_y"
   ]
  },
  {
   "cell_type": "code",
   "execution_count": null,
   "metadata": {},
   "outputs": [
    {
     "data": {
      "text/html": [
       "<div>\n",
       "<style scoped>\n",
       "    .dataframe tbody tr th:only-of-type {\n",
       "        vertical-align: middle;\n",
       "    }\n",
       "\n",
       "    .dataframe tbody tr th {\n",
       "        vertical-align: top;\n",
       "    }\n",
       "\n",
       "    .dataframe thead th {\n",
       "        text-align: right;\n",
       "    }\n",
       "</style>\n",
       "<table border=\"1\" class=\"dataframe\">\n",
       "  <thead>\n",
       "    <tr style=\"text-align: right;\">\n",
       "      <th></th>\n",
       "      <th>x</th>\n",
       "      <th>y</th>\n",
       "      <th>predicted_y_values:</th>\n",
       "    </tr>\n",
       "  </thead>\n",
       "  <tbody>\n",
       "    <tr>\n",
       "      <th>0</th>\n",
       "      <td>1</td>\n",
       "      <td>3</td>\n",
       "      <td>1.671429</td>\n",
       "    </tr>\n",
       "    <tr>\n",
       "      <th>1</th>\n",
       "      <td>2</td>\n",
       "      <td>4</td>\n",
       "      <td>2.695489</td>\n",
       "    </tr>\n",
       "    <tr>\n",
       "      <th>2</th>\n",
       "      <td>3</td>\n",
       "      <td>2</td>\n",
       "      <td>3.719549</td>\n",
       "    </tr>\n",
       "    <tr>\n",
       "      <th>3</th>\n",
       "      <td>4</td>\n",
       "      <td>5</td>\n",
       "      <td>4.743609</td>\n",
       "    </tr>\n",
       "    <tr>\n",
       "      <th>4</th>\n",
       "      <td>5</td>\n",
       "      <td>6</td>\n",
       "      <td>5.767669</td>\n",
       "    </tr>\n",
       "    <tr>\n",
       "      <th>5</th>\n",
       "      <td>6</td>\n",
       "      <td>5</td>\n",
       "      <td>6.791729</td>\n",
       "    </tr>\n",
       "    <tr>\n",
       "      <th>6</th>\n",
       "      <td>7</td>\n",
       "      <td>7</td>\n",
       "      <td>7.815789</td>\n",
       "    </tr>\n",
       "    <tr>\n",
       "      <th>7</th>\n",
       "      <td>8</td>\n",
       "      <td>9</td>\n",
       "      <td>8.839850</td>\n",
       "    </tr>\n",
       "    <tr>\n",
       "      <th>8</th>\n",
       "      <td>9</td>\n",
       "      <td>10</td>\n",
       "      <td>9.863910</td>\n",
       "    </tr>\n",
       "    <tr>\n",
       "      <th>9</th>\n",
       "      <td>10</td>\n",
       "      <td>12</td>\n",
       "      <td>10.887970</td>\n",
       "    </tr>\n",
       "    <tr>\n",
       "      <th>10</th>\n",
       "      <td>11</td>\n",
       "      <td>11</td>\n",
       "      <td>11.912030</td>\n",
       "    </tr>\n",
       "    <tr>\n",
       "      <th>11</th>\n",
       "      <td>12</td>\n",
       "      <td>13</td>\n",
       "      <td>12.936090</td>\n",
       "    </tr>\n",
       "    <tr>\n",
       "      <th>12</th>\n",
       "      <td>13</td>\n",
       "      <td>14</td>\n",
       "      <td>13.960150</td>\n",
       "    </tr>\n",
       "    <tr>\n",
       "      <th>13</th>\n",
       "      <td>14</td>\n",
       "      <td>15</td>\n",
       "      <td>14.984211</td>\n",
       "    </tr>\n",
       "    <tr>\n",
       "      <th>14</th>\n",
       "      <td>15</td>\n",
       "      <td>16</td>\n",
       "      <td>16.008271</td>\n",
       "    </tr>\n",
       "    <tr>\n",
       "      <th>15</th>\n",
       "      <td>16</td>\n",
       "      <td>18</td>\n",
       "      <td>17.032331</td>\n",
       "    </tr>\n",
       "    <tr>\n",
       "      <th>16</th>\n",
       "      <td>17</td>\n",
       "      <td>17</td>\n",
       "      <td>18.056391</td>\n",
       "    </tr>\n",
       "    <tr>\n",
       "      <th>17</th>\n",
       "      <td>18</td>\n",
       "      <td>20</td>\n",
       "      <td>19.080451</td>\n",
       "    </tr>\n",
       "    <tr>\n",
       "      <th>18</th>\n",
       "      <td>19</td>\n",
       "      <td>19</td>\n",
       "      <td>20.104511</td>\n",
       "    </tr>\n",
       "    <tr>\n",
       "      <th>19</th>\n",
       "      <td>20</td>\n",
       "      <td>22</td>\n",
       "      <td>21.128571</td>\n",
       "    </tr>\n",
       "  </tbody>\n",
       "</table>\n",
       "</div>"
      ],
      "text/plain": [
       "     x   y  predicted_y_values:\n",
       "0    1   3             1.671429\n",
       "1    2   4             2.695489\n",
       "2    3   2             3.719549\n",
       "3    4   5             4.743609\n",
       "4    5   6             5.767669\n",
       "5    6   5             6.791729\n",
       "6    7   7             7.815789\n",
       "7    8   9             8.839850\n",
       "8    9  10             9.863910\n",
       "9   10  12            10.887970\n",
       "10  11  11            11.912030\n",
       "11  12  13            12.936090\n",
       "12  13  14            13.960150\n",
       "13  14  15            14.984211\n",
       "14  15  16            16.008271\n",
       "15  16  18            17.032331\n",
       "16  17  17            18.056391\n",
       "17  18  20            19.080451\n",
       "18  19  19            20.104511\n",
       "19  20  22            21.128571"
      ]
     },
     "execution_count": 30,
     "metadata": {},
     "output_type": "execute_result"
    }
   ],
   "source": [
    "# Create a dataframe for x, y and the predicted values of y:\n",
    "import pandas as pd\n",
    "import numpy as np\n",
    "import matplotlib.pyplot as plt\n",
    "\n",
    "df = pd.DataFrame({'x': x, 'y': y, 'predicted_y_values:': predicted_y})\n",
    "df"
   ]
  },
  {
   "cell_type": "markdown",
   "metadata": {},
   "source": [
    "Also calculate **Mean Squared Error (MSE)** to measure accuracy:"
   ]
  },
  {
   "cell_type": "code",
   "execution_count": 31,
   "metadata": {},
   "outputs": [
    {
     "name": "stdout",
     "output_type": "stream",
     "text": [
      "Mean Squared Error: 0.87\n"
     ]
    }
   ],
   "source": [
    "# Mean Squared Error\n",
    "error_sum = 0\n",
    "for i in range(n):\n",
    "    error = predicted_y[i] - y[i]\n",
    "    error_sum += error ** 2\n",
    "\n",
    "mse = error_sum / n\n",
    "print(f\"Mean Squared Error: {mse:.2f}\")"
   ]
  },
  {
   "cell_type": "markdown",
   "metadata": {},
   "source": [
    "### **7. Visuallization:**"
   ]
  },
  {
   "cell_type": "code",
   "execution_count": 32,
   "metadata": {},
   "outputs": [
    {
     "data": {
      "image/png": "[encoded data removed]",
      "text/plain": [
       "<Figure size 800x600 with 1 Axes>"
      ]
     },
     "metadata": {},
     "output_type": "display_data"
    }
   ],
   "source": [
    "plt.figure(figsize=(8, 6))\n",
    "plt.style.use('seaborn-v0_8-whitegrid')\n",
    "\n",
    "# Plot the original data points\n",
    "plt.scatter(x, y, color='blue', label='Actual Data')\n",
    "\n",
    "# Plot the regression line\n",
    "plt.plot(x, predicted_y, color='red', label='Best-fit Line')\n",
    "\n",
    "# Labels and title\n",
    "plt.xlabel(\"X (Independent Variable)\")\n",
    "plt.ylabel(\"Y (Dependent Variable)\")\n",
    "plt.title(\"Linear Regression:\")\n",
    "plt.legend()\n",
    "plt.grid(True)\n",
    "\n",
    "# Show the plot\n",
    "plt.show()"
   ]
  }
 ],
 "metadata": {
  "kernelspec": {
   "display_name": "Python 3",
   "language": "python",
   "name": "python3"
  },
  "language_info": {
   "codemirror_mode": {
    "name": "ipython",
    "version": 3
   },
   "file_extension": ".py",
   "mimetype": "text/x-python",
   "name": "python",
   "nbconvert_exporter": "python",
   "pygments_lexer": "ipython3",
   "version": "3.12.7"
  }
 },
 "nbformat": 4,
 "nbformat_minor": 2
}
